{
 "cells": [
  {
   "cell_type": "markdown",
   "metadata": {},
   "source": [
    "#### Project 3 - Triangular mesh generator"
   ]
  },
  {
   "cell_type": "code",
   "execution_count": 2,
   "metadata": {},
   "outputs": [
    {
     "data": {
      "text/plain": [
       "delaunay (generic function with 1 method)"
      ]
     },
     "execution_count": 2,
     "metadata": {},
     "output_type": "execute_result"
    }
   ],
   "source": [
    "using PyPlot, LinearAlgebra, Delaunator\n",
    "\n",
    "function tplot(p, t)\n",
    "    # Plot triangular mesh with nodes `p` and triangles `t`\n",
    "    tris = convert(Array{Int64}, hcat(t...)')\n",
    "    tripcolor(first.(p), last.(p), tris .- 1, 0*tris[:,1],\n",
    "              cmap=\"Set3\", edgecolors=\"k\", linewidth=1)\n",
    "    axis(\"equal\")\n",
    "    return\n",
    "end\n",
    "\n",
    "# Delaunay triangulation `t` of array of nodes `p`\n",
    "delaunay(p) = collect.(triangulate(p).triangles)"
   ]
  },
  {
   "cell_type": "code",
   "execution_count": 3,
   "metadata": {},
   "outputs": [
    {
     "data": {
      "image/png": "[encoded data removed]",
      "text/plain": [
       "Figure(PyObject <Figure size 640x480 with 1 Axes>)"
      ]
     },
     "metadata": {},
     "output_type": "display_data"
    }
   ],
   "source": [
    "pv = [[0,0], [1,0], [0.5,.5], [1,1], [0,1], [0,0]]\n",
    "plot(first.(pv), last.(pv))\n",
    "axis(\"equal\");"
   ]
  },
  {
   "cell_type": "markdown",
   "metadata": {},
   "source": [
    "#### Problem 1 - Point in polygon"
   ]
  },
  {
   "cell_type": "code",
   "execution_count": 10,
   "metadata": {},
   "outputs": [
    {
     "data": {
      "text/plain": [
       "false"
      ]
     },
     "execution_count": 10,
     "metadata": {},
     "output_type": "execute_result"
    }
   ],
   "source": [
    "function inpolygon(p,pv)\n",
    "    x,y = p[1],p[2]\n",
    "    inside = false\n",
    "    for i in 1:(length(pv)-1)\n",
    "        xi = pv[i][1]\n",
    "        yi = pv[i][2]\n",
    "        xj = pv[i+1][1]\n",
    "        yj = pv[i+1][2]\n",
    "        if (((yi > y)!=(yj > y))&&(x < ((((xj - xi) * (y - yi)) / (yj - yi)) + xi)))\n",
    "            inside = !inside\n",
    "        end\n",
    "    end\n",
    "    return inside\n",
    "end\n",
    "inpolygon([0.8,0.3],pv)"
   ]
  },
  {
   "cell_type": "markdown",
   "metadata": {},
   "source": [
    "#### Problem 2(a) - Triangle area"
   ]
  },
  {
   "cell_type": "code",
   "execution_count": 29,
   "metadata": {},
   "outputs": [
    {
     "data": {
      "text/plain": [
       "1.5"
      ]
     },
     "execution_count": 29,
     "metadata": {},
     "output_type": "execute_result"
    }
   ],
   "source": [
    "#given three point, we will calculate the area\n",
    "tri = [[1,0.5], [2,1], [0,3]]\n",
    "function tri_area(tri)\n",
    "    x1 = tri[1][1]\n",
    "    y1 = tri[1][2]\n",
    "    x2 = tri[2][1]\n",
    "    y2 = tri[2][2]\n",
    "    x3 = tri[3][1]\n",
    "    y3 = tri[3][2]\n",
    "    area = (1/2)*abs(x1*(y2-y3)+x2*(y3-y1)+x3*(y1-y2))\n",
    "    return area\n",
    "end\n",
    "tri_area(tri)"
   ]
  },
  {
   "cell_type": "markdown",
   "metadata": {},
   "source": [
    "#### Problem 2(b) - Triangle area"
   ]
  },
  {
   "cell_type": "code",
   "execution_count": 30,
   "metadata": {},
   "outputs": [
    {
     "data": {
      "text/plain": [
       "2-element Vector{Float64}:\n",
       " 1.0\n",
       " 1.5"
      ]
     },
     "execution_count": 30,
     "metadata": {},
     "output_type": "execute_result"
    }
   ],
   "source": [
    "function tri_centroid(tri)\n",
    "    x1 = tri[1][1]\n",
    "    y1 = tri[1][2]\n",
    "    x2 = tri[2][1]\n",
    "    y2 = tri[2][2]\n",
    "    x3 = tri[3][1]\n",
    "    y3 = tri[3][2]\n",
    "    return [(1/3)*(x1+x2+x3),(1/3)*(y1+y2+y3)]\n",
    "end\n",
    "tri_centroid(tri)"
   ]
  },
  {
   "cell_type": "markdown",
   "metadata": {},
   "source": [
    "#### Problem 2(c) - Triangle circumcenter"
   ]
  },
  {
   "cell_type": "code",
   "execution_count": 31,
   "metadata": {},
   "outputs": [
    {
     "data": {
      "text/plain": [
       "2-element Vector{Float64}:\n",
       " 0.9166666666666666\n",
       " 1.9166666666666665"
      ]
     },
     "execution_count": 31,
     "metadata": {},
     "output_type": "execute_result"
    }
   ],
   "source": [
    "#\n",
    "function tri_centroid(tri)\n",
    "    x1 = tri[1][1]\n",
    "    y1 = tri[1][2]\n",
    "    x2 = tri[2][1]\n",
    "    y2 = tri[2][2]\n",
    "    x3 = tri[3][1]\n",
    "    y3 = tri[3][2]\n",
    "    d = 2*(x1*(y2-y3)+x2*(y3-y1)+x3*(y1-y2))\n",
    "    x = 1/d*((x1^2+y1^2)*(y2 - y3)+(x2^2+y2^2)*(y3-y1)+(x3^2+y3^2)*(y1-y2))\n",
    "    y = 1/d*((x1^2+y1^2)*(x3 - x2)+(x2^2+y2^2)*(x1-x3)+(x3^2+y3^2)*(x2-x1))\n",
    "    return [x,y] \n",
    "end\n",
    "tri_centroid(tri)"
   ]
  },
  {
   "cell_type": "markdown",
   "metadata": {},
   "source": [
    "#### Problem 3 - Mesh generator"
   ]
  },
  {
   "cell_type": "code",
   "execution_count": 71,
   "metadata": {},
   "outputs": [
    {
     "name": "stdout",
     "output_type": "stream",
     "text": [
      "dx : 0.3\n",
      "the x array is [0.0, 0.3, 0.6, 0.9]\n",
      "the y array is Any[0, 0, 0, 0]\n",
      "dx : 0.21213203435596423\n",
      "the x array is Float64[]\n",
      "the y array is Any[]\n",
      "dx : 0.21213203435596423\n",
      "the x array is [0.5, 0.7121320343559643, 0.9242640687119285]\n",
      "the y array is Any[0.5, 0.7121320343559643, 0.9242640687119285]\n",
      "dx : 0.3\n",
      "the x array is Float64[]\n",
      "the y array is Any[]\n",
      "dy : 0.3\n",
      "the x array is Any[]\n",
      "the y array is Float64[]\n"
     ]
    },
    {
     "data": {
      "text/plain": [
       "7-element Vector{Any}:\n",
       " [0.0, 0.0]\n",
       " [0.3, 0.0]\n",
       " [0.6, 0.0]\n",
       " [0.9, 0.0]\n",
       " [0.5, 0.5]\n",
       " [0.7121320343559643, 0.7121320343559643]\n",
       " [0.9242640687119285, 0.9242640687119285]"
      ]
     },
     "execution_count": 71,
     "metadata": {},
     "output_type": "execute_result"
    }
   ],
   "source": [
    "using LinearAlgebra\n",
    "\n",
    "#given two points a and b of coordinate [x1,y1],[x2,y2], we will calculate the y coordinate\n",
    "#of the given corresponding x on the line segment ab.\n",
    "function y_coord(a,b,x)\n",
    "    x1 = a[1]\n",
    "    y1 = a[2]\n",
    "    x2 = b[1]\n",
    "    y2 = b[2]\n",
    "    y = (x-x1+y1*(x2-x1)/(y2-y1))*((y2-y1)/(x2-x1))\n",
    "    return y\n",
    "end\n",
    "function x_coord(a,b,y)\n",
    "    x1 = a[1]\n",
    "    y1 = a[2]\n",
    "    x2 = b[1]\n",
    "    y2 = b[2]\n",
    "    x = (y-y1)*(x2-x1)/(y2-y1)+x1\n",
    "    return x\n",
    "end\n",
    "function cartesion_distance(a,b)\n",
    "    return sqrt((b[1]-a[1])^2+(b[2]-a[2])^2)\n",
    "end\n",
    "#We will first create node points p along each polygon segment and store them in node(it will also include the polygon node), \n",
    "#separated by a distance approximately equal to hmax. Return all the node on the line\n",
    "function equi_node(pv,hmax)\n",
    "    node = []\n",
    "    for i in 1:(length(pv)-1)\n",
    "        if (pv[i+1][1]-pv[i][1] !=0)&(pv[i+1][2]-pv[i][2] != 0)\n",
    "            dx = hmax*abs(pv[i+1][1]-pv[i][1])/cartesion_distance(pv[i+1],pv[i])\n",
    "            println(\"dx : \", dx)\n",
    "            xarray = collect(pv[i][1]:dx:pv[i+1][1])\n",
    "            println(\"the x array is \", xarray)\n",
    "            yarray = []\n",
    "            for x in xarray\n",
    "                push!(yarray,y_coord(pv[i],pv[i+1],x))\n",
    "            end\n",
    "            println(\"the y array is \", yarray)\n",
    "            if length(xarray) != length(yarray)\n",
    "                println(\"ok this is not solving the problem\")\n",
    "            end\n",
    "            for j in 1:length(xarray)\n",
    "                push!(node,[xarray[j],yarray[j]])\n",
    "            end\n",
    "        elseif ((pv[i+1][1]-pv[i][1] == 0))\n",
    "            dy = hmax*abs(pv[i+1][2]-pv[i][2])/cartesion_distance(pv[i+1],pv[i])\n",
    "            println(\"dy : \", dy)\n",
    "            yarray = collect(pv[i][2]:dy:pv[i+1][2])\n",
    "            xarray = []\n",
    "            if length(xarray) != length(yarray)\n",
    "                println(\"ok this is not solving the problem\")\n",
    "            end\n",
    "            for y in yarray\n",
    "                push!(xarray,0)\n",
    "            end\n",
    "            println(\"the x array is \", xarray)\n",
    "            println(\"the y array is \", yarray)\n",
    "\n",
    "            for j in 1:length(xarray)\n",
    "                push!(node,[xarray[j],yarray[j]])\n",
    "            end\n",
    "        elseif (pv[i+1][2]-pv[i][2] == 0)\n",
    "            dx = hmax*abs(pv[i+1][1]-pv[i][1])/cartesion_distance(pv[i+1],pv[i])\n",
    "            println(\"dx : \", dx)\n",
    "            xarray = collect(pv[i][1]:dx:pv[i+1][1])\n",
    "            println(\"the x array is \", xarray)\n",
    "            yarray = []\n",
    "            for x in xarray\n",
    "                push!(yarray,0)\n",
    "            end\n",
    "            println(\"the y array is \", yarray)\n",
    "            if length(xarray) != length(yarray)\n",
    "                println(\"ok this is not solving the problem\")\n",
    "            end\n",
    "            for j in 1:length(xarray)\n",
    "                push!(node,[xarray[j],yarray[j]])\n",
    "            end\n",
    "            \n",
    "        end\n",
    "    end\n",
    "    return node\n",
    "end\n",
    "\n",
    "function pmesh(pv,hmax)\n",
    "    node = [] #We keep track of all the nodes show up\n",
    "    poly = pv #Store the information about the original polygon\n",
    "end\n",
    "pv = [[0,0], [1,0], [0.5,0.5], [1,1], [0,1], [0,0]]\n",
    "\n",
    "equi_node(pv,0.3)\n",
    "#x_coord([0.5,0.5],[1,1],0.5)\n"
   ]
  },
  {
   "cell_type": "code",
   "execution_count": null,
   "metadata": {},
   "outputs": [],
   "source": []
  }
 ],
 "metadata": {
  "kernelspec": {
   "display_name": "Julia 1.10.0",
   "language": "julia",
   "name": "julia-1.10"
  },
  "language_info": {
   "file_extension": ".jl",
   "mimetype": "application/julia",
   "name": "julia",
   "version": "1.10.0"
  }
 },
 "nbformat": 4,
 "nbformat_minor": 2
}
