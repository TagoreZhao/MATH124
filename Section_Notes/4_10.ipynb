{
 "cells": [
  {
   "cell_type": "markdown",
   "metadata": {},
   "source": [
    "# Sparse Matrices\n",
    "## Data structures for matrices\n",
    "  As an example, consider storing the following matrix of size $m-by-n$ with $m=n=5$.\n",
    "$$\n",
    "\\begin{bmatrix}\n",
    "5 & 0 & -3 & -2 & 7 \\\\\n",
    "0 & 5 & 0 & 0 & 0 \\\\\n",
    "-2 & 0 & -1 & 0 & 0 \\\\\n",
    "-4 & 0 & 0 & -1 0 & 0 \\\\\n",
    "0 & 0 & 0 & 0 & 9\n",
    "\\end{bmatrix}\n",
    "$$\n",
    "### Dense Storage"
   ]
  },
  {
   "cell_type": "code",
   "execution_count": null,
   "metadata": {},
   "outputs": [],
   "source": [
    "M = [5 0 -3 -2 7; 0 5 0 0 0; -2 0 -1 0 0; -4 0 0 -10 0; 0 0 0 0 9]"
   ]
  },
  {
   "cell_type": "markdown",
   "metadata": {},
   "source": [
    "### Coordinate List (COO)\n",
    "Store one list with (row, column, value) for each non-zero matrix entry:"
   ]
  },
  {
   "cell_type": "code",
   "execution_count": null,
   "metadata": {},
   "outputs": [],
   "source": [
    "M_coo = [[1,1,5],\n",
    "        [3,1,-2],\n",
    "        [4,1,-4],\n",
    "        [2,2,5],\n",
    "        [1,3,-3],\n",
    "        [3,3,-1],\n",
    "        [1,4,-2],\n",
    "        [4,4,-10],\n",
    "        [1,5,7],\n",
    "        [5,5,9]]"
   ]
  },
  {
   "cell_type": "markdown",
   "metadata": {},
   "source": [
    "### Compressed Sparse Column (CSC)\n",
    "Store *pointers* (or indices) to the first entry in each column:\n",
    "\n",
    "```\n",
    "  nzval  = [5,-2,-4,5,-3,-1,-2,-10,7,9]   # Non-zero values\n",
    "  rowval = [1,3,4,2,1,3,1,4,1,5]          # Row indices for each value\n",
    "  colptr = [1,4,5,7,9,11]                 # Indices of first entry in each column\n",
    "```\n",
    "The `colptr` array contains $n+1$ entries, and has the property that column `k` is stored between index `colptr[k]` and `colptr[k+1]-1`. Note that this allows for empty columns, and that `colptr[n+1]` equals `nnz+1`.\n",
    "  "
   ]
  },
  {
   "cell_type": "markdown",
   "metadata": {},
   "source": [
    "### Compressed Sparse Row (CSR)\n",
    "Similar to CSC, except store column values and row pointers (or indices)."
   ]
  },
  {
   "cell_type": "markdown",
   "metadata": {},
   "source": [
    "## Exercises\n",
    "### Making Structs\n",
    "1) Fill in the following 3 structs to repesent a matrix in the three sparse formats described above:"
   ]
  },
  {
   "cell_type": "code",
   "execution_count": 1,
   "metadata": {},
   "outputs": [],
   "source": [
    "struct Matrix_COO\n",
    "    # fill in\n",
    "    list::Vector{Vector}\n",
    "end\n",
    "\n",
    "struct Matrix_CSC\n",
    "    # fill in\n",
    "    nzval::Vector\n",
    "    rowval::Vector{Int64}\n",
    "    colptr::Vector{Int64}\n",
    "end\n",
    "\n",
    "struct Matrix_CSR\n",
    "    # fill in\n",
    "    nzval::Vector\n",
    "    colval::Vector{Int64}\n",
    "    rowptr::Vector{Int64}\n",
    "end"
   ]
  },
  {
   "cell_type": "markdown",
   "metadata": {},
   "source": [
    "2) Implement the following functions to convert between the various formats. Use the example matrix above to verify your work."
   ]
  },
  {
   "cell_type": "code",
   "execution_count": null,
   "metadata": {},
   "outputs": [],
   "source": [
    "function dense_to_coo(m::Matrix)\n",
    "    # fill in\n",
    "    # input is dense matrix, returns a Matrix_COO struct representing the same matrix\n",
    "    return Matrix_COO([])\n",
    "end"
   ]
  },
  {
   "cell_type": "code",
   "execution_count": null,
   "metadata": {},
   "outputs": [],
   "source": [
    "function dense_to_csc(m::Matrix)\n",
    "    # fill in\n",
    "    # input is dense matrix, returns a Matrix_CSC struct representing the same matrix\n",
    "end"
   ]
  },
  {
   "cell_type": "code",
   "execution_count": null,
   "metadata": {},
   "outputs": [],
   "source": [
    "function dense_to_csr(m::Matrix)\n",
    "    # fill in\n",
    "    # input is dense matrix, returns a Matrix_CSR struct representing the same matrix\n",
    "end"
   ]
  },
  {
   "cell_type": "code",
   "execution_count": null,
   "metadata": {},
   "outputs": [],
   "source": [
    "function csc(m::Matri_CSC)\n",
    "    # fill in\n",
    "    # input is Matrix_CSC struct, returns a dense matrix representing the same matrix\n",
    "end"
   ]
  },
  {
   "cell_type": "code",
   "execution_count": null,
   "metadata": {},
   "outputs": [],
   "source": [
    "function coo_to_csc(m::Matrix_COO)\n",
    "    # fill in\n",
    "    # input is Matrix_COO struct, returns a Matrix_CSC struct representing the same matrix\n",
    "end"
   ]
  },
  {
   "cell_type": "code",
   "execution_count": null,
   "metadata": {},
   "outputs": [],
   "source": [
    "function coo_to_csr(m::Matrix_COO)\n",
    "    # fill in\n",
    "    # input is Matrix_COO struct, returns a Matrix_CSR struct representing the same matrix\n",
    "end"
   ]
  },
  {
   "cell_type": "code",
   "execution_count": null,
   "metadata": {},
   "outputs": [],
   "source": [
    "function csc_to_csr(m::Matrix_COO)\n",
    "    # fill in\n",
    "    # input is Matrix_CSC struct, returns a Matrix_CSR struct representing the same matrix\n",
    "end"
   ]
  },
  {
   "cell_type": "markdown",
   "metadata": {},
   "source": [
    "3) We wish to perform matrix-vector multiplication in our sparse formats. Fill in the following three functions which each take in a sparse matrix $A$ and a vector $x$, and return the vector $Ax$"
   ]
  },
  {
   "cell_type": "code",
   "execution_count": null,
   "metadata": {},
   "outputs": [],
   "source": [
    "function matvec_coo(A::Matrix_COO, x::Vector)\n",
    "    # fill in \n",
    "end"
   ]
  },
  {
   "cell_type": "code",
   "execution_count": null,
   "metadata": {},
   "outputs": [],
   "source": [
    "function matvec_csr(A::Matrix_CSR, x::Vector)\n",
    "    # fill in \n",
    "end"
   ]
  },
  {
   "cell_type": "code",
   "execution_count": null,
   "metadata": {},
   "outputs": [],
   "source": [
    "function matvec_csc(A::Matrix_CSC, x::Vector)\n",
    "    # fill in \n",
    "end"
   ]
  },
  {
   "cell_type": "markdown",
   "metadata": {},
   "source": [
    "4) Test your code using the example matrix above and the vector $x = [1, 2, 3, 4, 5]$, using the standard dense format to verify."
   ]
  },
  {
   "cell_type": "code",
   "execution_count": null,
   "metadata": {},
   "outputs": [],
   "source": []
  },
  {
   "cell_type": "markdown",
   "metadata": {},
   "source": []
  }
 ],
 "metadata": {
  "kernelspec": {
   "display_name": "Julia 1.10.0",
   "language": "julia",
   "name": "julia-1.10"
  },
  "language_info": {
   "file_extension": ".jl",
   "mimetype": "application/julia",
   "name": "julia",
   "version": "1.10.0"
  }
 },
 "nbformat": 4,
 "nbformat_minor": 2
}
