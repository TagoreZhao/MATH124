{
 "cells": [
  {
   "cell_type": "markdown",
   "metadata": {},
   "source": [
    "### Lecture Notes 13th Feb\n",
    "\n",
    "Today will be about recursion. After this class we will be able to start on PA2"
   ]
  },
  {
   "cell_type": "code",
   "execution_count": 2,
   "metadata": {},
   "outputs": [
    {
     "data": {
      "text/plain": [
       "recursive_factorial (generic function with 1 method)"
      ]
     },
     "execution_count": 2,
     "metadata": {},
     "output_type": "execute_result"
    }
   ],
   "source": [
    "function recursive_factorial(n)\n",
    "    if n == 0\n",
    "        return 1\n",
    "    else\n",
    "        return n*recursive_factorial(n-1)\n",
    "    end\n",
    "end \n",
    "#recursion is function that calls themself, we need to be careful \n",
    "#if we are creating a infinite loop. We must have a reasonable terminating\n",
    "#criterion\n",
    "\n"
   ]
  },
  {
   "cell_type": "code",
   "execution_count": 13,
   "metadata": {},
   "outputs": [
    {
     "data": {
      "text/plain": [
       "0.6669225392764456"
      ]
     },
     "execution_count": 13,
     "metadata": {},
     "output_type": "execute_result"
    }
   ],
   "source": [
    "n1 = 0\n",
    "n2 = 0\n",
    "x = rand(10000000)\n",
    "for i in 1:10000000\n",
    "    if x[i] <2/5\n",
    "        n1+=1\n",
    "    else\n",
    "        n2+=1\n",
    "    end\n",
    "end\n",
    "n1/n2"
   ]
  },
  {
   "cell_type": "code",
   "execution_count": 5,
   "metadata": {},
   "outputs": [
    {
     "data": {
      "text/plain": [
       "100-element Vector{Int64}:\n",
       "  20\n",
       " -10\n",
       " -20\n",
       "  30\n",
       "   0\n",
       "  20\n",
       " -10\n",
       "  20\n",
       "  10\n",
       "   0\n",
       "  10\n",
       " -20\n",
       "  30\n",
       "   ⋮\n",
       " -10\n",
       " -10\n",
       "  10\n",
       "  20\n",
       "  30\n",
       " -10\n",
       " -10\n",
       "  20\n",
       "  20\n",
       "  30\n",
       " -20\n",
       "  30"
      ]
     },
     "execution_count": 5,
     "metadata": {},
     "output_type": "execute_result"
    }
   ],
   "source": [
    "using Random\n",
    "rand([-20,-10,0,10,20,30],100)"
   ]
  }
 ],
 "metadata": {
  "kernelspec": {
   "display_name": "Julia 1.10.0",
   "language": "julia",
   "name": "julia-1.10"
  },
  "language_info": {
   "file_extension": ".jl",
   "mimetype": "application/julia",
   "name": "julia",
   "version": "1.10.0"
  }
 },
 "nbformat": 4,
 "nbformat_minor": 2
}
