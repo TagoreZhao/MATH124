{
 "cells": [
  {
   "cell_type": "markdown",
   "metadata": {},
   "source": [
    "### Lecture Notes 13th Feb\n",
    "\n",
    "Today will be about recursion. After this class we will be able to start on PA2"
   ]
  },
  {
   "cell_type": "code",
   "execution_count": 2,
   "metadata": {},
   "outputs": [
    {
     "data": {
      "text/plain": [
       "recursive_factorial (generic function with 1 method)"
      ]
     },
     "execution_count": 2,
     "metadata": {},
     "output_type": "execute_result"
    }
   ],
   "source": [
    "function recursive_factorial(n)\n",
    "    if n == 0\n",
    "        return 1\n",
    "    else\n",
    "        return n*recursive_factorial(n-1)\n",
    "    end\n",
    "end \n",
    "#recursion is function that calls themself, we need to be careful \n",
    "#if we are creating a infinite loop. We must have a reasonable terminating\n",
    "#criterion\n",
    "\n"
   ]
  },
  {
   "cell_type": "code",
   "execution_count": 13,
   "metadata": {},
   "outputs": [
    {
     "data": {
      "text/plain": [
       "0.6669225392764456"
      ]
     },
     "execution_count": 13,
     "metadata": {},
     "output_type": "execute_result"
    }
   ],
   "source": [
    "n1 = 0\n",
    "n2 = 0\n",
    "x = rand(10000000)\n",
    "for i in 1:10000000\n",
    "    if x[i] <2/5\n",
    "        n1+=1\n",
    "    else\n",
    "        n2+=1\n",
    "    end\n",
    "end\n",
    "n1/n2"
   ]
  },
  {
   "cell_type": "code",
   "execution_count": 2,
   "metadata": {},
   "outputs": [
    {
     "data": {
      "text/plain": [
       "2-element Vector{Vector{Float64}}:\n",
       " [0.0, 0.0, 0.0, 0.0, 0.0]\n",
       " [1.0, 1.5, 2.0, 2.5, 3.0]"
      ]
     },
     "execution_count": 2,
     "metadata": {},
     "output_type": "execute_result"
    }
   ],
   "source": [
    "using Random\n",
    "[i^j for i in 0:4, j in 1:4]\n",
    "f(x) = max(0,x)\n",
    "D = [f.(-rand(5)),f.(1:0.5:3)]\n",
    "D"
   ]
  },
  {
   "cell_type": "markdown",
   "metadata": {},
   "source": [
    "#### Midterm Review"
   ]
  },
  {
   "cell_type": "markdown",
   "metadata": {},
   "source": [
    "##### 1) Vectorization"
   ]
  },
  {
   "cell_type": "code",
   "execution_count": 4,
   "metadata": {},
   "outputs": [
    {
     "data": {
      "text/plain": [
       "5-element Vector{Int64}:\n",
       "  1\n",
       "  4\n",
       "  9\n",
       " 16\n",
       " 25"
      ]
     },
     "execution_count": 4,
     "metadata": {},
     "output_type": "execute_result"
    }
   ],
   "source": [
    "x = [ x^2 for x = 1:5 ]    #The default data type Vector{Int64} == Array{Int64,1}"
   ]
  },
  {
   "cell_type": "code",
   "execution_count": 21,
   "metadata": {},
   "outputs": [
    {
     "data": {
      "text/plain": [
       "3×5 Matrix{Int64}:\n",
       " 3  5  7   9  11\n",
       " 4  6  8  10  12\n",
       " 5  7  9  11  13"
      ]
     },
     "execution_count": 21,
     "metadata": {},
     "output_type": "execute_result"
    }
   ],
   "source": [
    "A = [ x+2y for x = 1:3, y = 1:5 ] # 3x5 matrix with entries A_ij = i + j. Matrix{Int64} == Array{INt64,2}\n",
    "#A[:] Convert it into 1d array vertical order"
   ]
  },
  {
   "cell_type": "code",
   "execution_count": 30,
   "metadata": {},
   "outputs": [
    {
     "data": {
      "text/plain": [
       "5×3 Matrix{Int64}:\n",
       " 3  7  10\n",
       " 4  7  11\n",
       " 5  8  11\n",
       " 5  9  12\n",
       " 6  9  13"
      ]
     },
     "execution_count": 30,
     "metadata": {},
     "output_type": "execute_result"
    }
   ],
   "source": [
    "a = [i for i in 1:4]\n",
    "reshape(A,5,3)"
   ]
  },
  {
   "cell_type": "code",
   "execution_count": 34,
   "metadata": {},
   "outputs": [
    {
     "data": {
      "text/plain": [
       "2001-element Vector{Float64}:\n",
       " -10.0\n",
       "  -9.99\n",
       "  -9.98\n",
       "  -9.97\n",
       "  -9.96\n",
       "  -9.95\n",
       "  -9.94\n",
       "  -9.93\n",
       "  -9.92\n",
       "  -9.91\n",
       "  -9.9\n",
       "  -9.89\n",
       "  -9.88\n",
       "   ⋮\n",
       "   9.89\n",
       "   9.9\n",
       "   9.91\n",
       "   9.92\n",
       "   9.93\n",
       "   9.94\n",
       "   9.95\n",
       "   9.96\n",
       "   9.97\n",
       "   9.98\n",
       "   9.99\n",
       "  10.0"
      ]
     },
     "execution_count": 34,
     "metadata": {},
     "output_type": "execute_result"
    }
   ],
   "source": [
    "-10:0.01:10\n",
    "typeof(-10:0.01:10)\n",
    "collect(-10:0.01:10)"
   ]
  },
  {
   "cell_type": "code",
   "execution_count": 63,
   "metadata": {},
   "outputs": [
    {
     "data": {
      "text/plain": [
       "3.141592653589794"
      ]
     },
     "execution_count": 63,
     "metadata": {},
     "output_type": "execute_result"
    }
   ],
   "source": [
    "function pi_a()\n",
    "    an = 6/sqrt(3)\n",
    "    k = 0\n",
    "    term = (-1)*(2k+1)/(3*(2k+3))\n",
    "    an1 = an * term\n",
    "    sum = an+an1\n",
    "    while abs(an1 - an)>(10^(-15))\n",
    "        k += 1\n",
    "        term = (-1)*(2k+1)/(3*(2k+3))\n",
    "        an = an1\n",
    "        an1 = an1*term\n",
    "        sum = sum + an1\n",
    "    end\n",
    "    return sum\n",
    "end\n",
    "pi_a()"
   ]
  },
  {
   "cell_type": "code",
   "execution_count": 88,
   "metadata": {},
   "outputs": [
    {
     "data": {
      "text/plain": [
       "85836449"
      ]
     },
     "execution_count": 88,
     "metadata": {},
     "output_type": "execute_result"
    }
   ],
   "source": [
    "function is_prime(test_num)\n",
    "    for i in 2:isqrt(test_num)\n",
    "        if (test_num % i == 0)\n",
    "            return false\n",
    "        end\n",
    "    end\n",
    "    return true\n",
    "end\n",
    "function largest_prime_factor(n)\n",
    "    for i in (n ÷ 2):-1:2\n",
    "        if (n%i == 0)&&(is_prime(i))\n",
    "            return i\n",
    "        end\n",
    "    end\n",
    "    return 1\n",
    "end\n",
    "largest_prime_factor(600855143)"
   ]
  },
  {
   "cell_type": "code",
   "execution_count": 107,
   "metadata": {},
   "outputs": [
    {
     "data": {
      "text/plain": [
       "4×6 Matrix{Float64}:\n",
       " 10.0  1.0  3.0  2.0  1.0  7.0\n",
       "  2.0  1.0  3.0  7.0  4.0  5.0\n",
       "  3.0  0.0  0.0  1.0  1.0  1.0\n",
       "  4.0  8.0  1.0  1.0  1.0  1.0"
      ]
     },
     "execution_count": 107,
     "metadata": {},
     "output_type": "execute_result"
    }
   ],
   "source": [
    "A = [1:4 5:8 ones(Float64,4)] \n",
    "A[1,1] = 9 + A[2,3]\n",
    "A[1:3,2:3] = [0 0; 0 0; 0 0]\n",
    "A[1:2,2:3] = [1 3; 1 3]\n",
    "A = [A [2 1 7; 7 4 5; ones(Int64,2,3)]]"
   ]
  },
  {
   "cell_type": "code",
   "execution_count": 105,
   "metadata": {},
   "outputs": [
    {
     "data": {
      "text/plain": [
       "4×6 Matrix{Float64}:\n",
       " 10.0  1.0  3.0  2.0  1.0  7.0\n",
       "  2.0  1.0  3.0  7.0  4.0  5.0\n",
       "  3.0  0.0  0.0  1.0  1.0  1.0\n",
       "  4.0  8.0  1.0  1.0  1.0  1.0"
      ]
     },
     "execution_count": 105,
     "metadata": {},
     "output_type": "execute_result"
    }
   ],
   "source": [
    "A"
   ]
  },
  {
   "cell_type": "code",
   "execution_count": 108,
   "metadata": {},
   "outputs": [
    {
     "data": {
      "text/plain": [
       "3×2 Matrix{Float64}:\n",
       " 10.0  3.0\n",
       "  2.0  3.0\n",
       "  4.0  1.0"
      ]
     },
     "execution_count": 108,
     "metadata": {},
     "output_type": "execute_result"
    }
   ],
   "source": [
    "A[[1,2,4],[1,3]]"
   ]
  },
  {
   "cell_type": "code",
   "execution_count": 103,
   "metadata": {},
   "outputs": [
    {
     "data": {
      "text/plain": [
       "1×3×3 Array{Float64, 3}:\n",
       "[:, :, 1] =\n",
       " 10.0  2.0  4.0\n",
       "\n",
       "[:, :, 2] =\n",
       " 3.0  3.0  1.0\n",
       "\n",
       "[:, :, 3] =\n",
       " 2.0  7.0  1.0"
      ]
     },
     "execution_count": 103,
     "metadata": {},
     "output_type": "execute_result"
    }
   ],
   "source": [
    "A[[1 2 4],[1,3,4]]"
   ]
  },
  {
   "cell_type": "code",
   "execution_count": 104,
   "metadata": {},
   "outputs": [
    {
     "data": {
      "text/plain": [
       "1×3×1×3 Array{Float64, 4}:\n",
       "[:, :, 1, 1] =\n",
       " 10.0  2.0  4.0\n",
       "\n",
       "[:, :, 1, 2] =\n",
       " 3.0  3.0  1.0\n",
       "\n",
       "[:, :, 1, 3] =\n",
       " 2.0  7.0  1.0"
      ]
     },
     "execution_count": 104,
     "metadata": {},
     "output_type": "execute_result"
    }
   ],
   "source": [
    "A[[1 2 4],[1 3 4]]"
   ]
  },
  {
   "cell_type": "code",
   "execution_count": 124,
   "metadata": {},
   "outputs": [
    {
     "data": {
      "text/plain": [
       "true"
      ]
     },
     "execution_count": 124,
     "metadata": {},
     "output_type": "execute_result"
    }
   ],
   "source": [
    "x = 1:-0.01:-1\n",
    "y = sin.(2π*x);\n",
    "v = y[1:25]\n",
    "w = y[50:75]\n",
    "z = y[2:2:end];\n",
    "#y[y.<-0.2]\n",
    "w = Float64[]\n",
    "for i = 1:length(y)\n",
    " if y[i] < -0.2\n",
    " push!(w, y[i])\n",
    " end\n",
    "end\n",
    "w == y[y.<-0.2]\n",
    "z = Float64[]\n",
    "for i = 1:length(y)\n",
    " if y[i] > .5\n",
    " push!(z, i)\n",
    " end\n",
    "end\n",
    "z == findall(x -> x>0.5,y)"
   ]
  },
  {
   "cell_type": "code",
   "execution_count": 151,
   "metadata": {},
   "outputs": [
    {
     "data": {
      "text/plain": [
       "4×3 Matrix{Int64}:\n",
       " 1  0  0\n",
       " 0  0  1\n",
       " 0  0  0\n",
       " 0  1  0"
      ]
     },
     "execution_count": 151,
     "metadata": {},
     "output_type": "execute_result"
    }
   ],
   "source": [
    "A = [0 2 1; 3 1 0; 4 6 4; 2 0 2] \n",
    "B = zeros(Int, size(A,1),size(A,2))\n",
    "B[A .== 0] .= 1\n",
    "#B = A .== 0\n",
    "#B[findall(x -> x == 0, A)] .= 1\n",
    "B"
   ]
  },
  {
   "cell_type": "code",
   "execution_count": 152,
   "metadata": {},
   "outputs": [
    {
     "data": {
      "text/plain": [
       "4×3 Matrix{Int64}:\n",
       " 0  2  0\n",
       " 3  0  0\n",
       " 0  6  0\n",
       " 2  0  2"
      ]
     },
     "execution_count": 152,
     "metadata": {},
     "output_type": "execute_result"
    }
   ],
   "source": [
    "C = copy(A)\n",
    "for i in 1:size(A,1)\n",
    "    for j in 1:size(A,2)\n",
    "        if C[i,j] != maximum(A[i,:])\n",
    "            C[i,j] = 0\n",
    "        end\n",
    "    end\n",
    "end\n",
    "C"
   ]
  },
  {
   "cell_type": "code",
   "execution_count": 167,
   "metadata": {},
   "outputs": [
    {
     "name": "stdout",
     "output_type": "stream",
     "text": [
      "0100464856\n",
      "100464856\n"
     ]
    }
   ],
   "source": [
    "function print_bigint(X)\n",
    "    for i = length(X):-1:1\n",
    "    print(X[i])\n",
    "    end\n",
    "    println()\n",
    "   end\n",
    "   \n",
    "function int_to_bigint(x,n)\n",
    "    A = zeros(Int64,n)\n",
    "    i = 1\n",
    "    while x > 0\n",
    "        A[i] = x%10\n",
    "        x = x÷10\n",
    "        i+=1\n",
    "    end\n",
    "    return A\n",
    "end\n",
    "int_to_bigint(34278273,10)\n",
    "function add_bigints(X,Y)\n",
    "    r = 0\n",
    "    n = length(X)\n",
    "    Z = zeros(Int64,n)\n",
    "    for i in 1:n\n",
    "        if (X[i]+Y[i]+r) >= 10\n",
    "            Z[i] = (X[i]+Y[i]+r)%10\n",
    "            r = 1\n",
    "        else\n",
    "            Z[i] = (X[i]+Y[i]+r)\n",
    "            r = 0\n",
    "        end\n",
    "    end\n",
    "    if r == 1\n",
    "        error(\"Overflow\")\n",
    "    end\n",
    "    return Z\n",
    "end\n",
    "x = 637465\n",
    "y = 99827391\n",
    "z = x + y\n",
    "X = int_to_bigint(x,10)\n",
    "Y = int_to_bigint(y,10)\n",
    "Z = add_bigints(X,Y)\n",
    "print_bigint(Z)\n",
    "println(z)"
   ]
  },
  {
   "cell_type": "code",
   "execution_count": 180,
   "metadata": {},
   "outputs": [
    {
     "data": {
      "text/plain": [
       "4782"
      ]
     },
     "execution_count": 180,
     "metadata": {},
     "output_type": "execute_result"
    }
   ],
   "source": [
    "function big_fibonacci(n)\n",
    "    i = 3\n",
    "    Fn = int_to_bigint(1,n)\n",
    "    Fn1 = int_to_bigint(1,n)\n",
    "    Fn2 = add_bigints(Fn,Fn1)\n",
    "    while (Fn2[n] == 0)\n",
    "        Fn = copy(Fn1)\n",
    "        Fn1 = copy(Fn2)\n",
    "        Fn2 = add_bigints(Fn,Fn1)\n",
    "        i+=1\n",
    "    end\n",
    "    return i\n",
    "end\n",
    "big_fibonacci(1000)"
   ]
  },
  {
   "cell_type": "code",
   "execution_count": 187,
   "metadata": {},
   "outputs": [
    {
     "data": {
      "text/plain": [
       "9×5 Matrix{Int64}:\n",
       "   0   -6  -12   5   3\n",
       " -30   -1   -3  18  12\n",
       "  -9    0   -6   7   5\n",
       " -24  -30   -1  24  18\n",
       "  -7   -9    0   9   7\n",
       " -18  -24    1  30  24\n",
       "  -5   -7    6   0   9\n",
       " -12  -18    3   1  30\n",
       "  -3   -5   12   6   0"
      ]
     },
     "execution_count": 187,
     "metadata": {},
     "output_type": "execute_result"
    }
   ],
   "source": [
    "A = reshape((-22:22) .% 11, 9, 5) \n",
    "sum(A.^2 .< 10)\n",
    "A[:,findall(x -> x>=0,A[1,:])]\n",
    "A[findall(x->x%2==0,A)] .= A[findall(x->x%2==0,A)] .*3\n",
    "A"
   ]
  },
  {
   "cell_type": "code",
   "execution_count": 5,
   "metadata": {},
   "outputs": [
    {
     "data": {
      "text/plain": [
       "1-element Vector{Complex{Int64}}:\n",
       " 1 + 4im"
      ]
     },
     "execution_count": 5,
     "metadata": {},
     "output_type": "execute_result"
    }
   ],
   "source": [
    "[1+4im]"
   ]
  },
  {
   "cell_type": "markdown",
   "metadata": {},
   "source": [
    "### Some Lecture Notes"
   ]
  },
  {
   "cell_type": "code",
   "execution_count": null,
   "metadata": {},
   "outputs": [],
   "source": [
    "###Lecture 20240312\n"
   ]
  }
 ],
 "metadata": {
  "kernelspec": {
   "display_name": "Julia 1.10.0",
   "language": "julia",
   "name": "julia-1.10"
  },
  "language_info": {
   "file_extension": ".jl",
   "mimetype": "application/julia",
   "name": "julia",
   "version": "1.10.0"
  }
 },
 "nbformat": 4,
 "nbformat_minor": 2
}
