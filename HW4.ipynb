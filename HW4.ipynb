{
 "cells": [
  {
   "cell_type": "markdown",
   "metadata": {},
   "source": [
    "### Problem 1"
   ]
  },
  {
   "cell_type": "code",
   "execution_count": 6,
   "metadata": {},
   "outputs": [
    {
     "data": {
      "text/plain": [
       "10-element Vector{Float64}:\n",
       " 8.942454282009884\n",
       " 9.53124627284842\n",
       " 7.955469475347194\n",
       " 7.484150218874741\n",
       " 7.279350012266056\n",
       " 0.07448006132865004\n",
       " 1.9937661409915552\n",
       " 9.567409540049077\n",
       " 9.96665291437684\n",
       " 7.491940599574348"
      ]
     },
     "execution_count": 6,
     "metadata": {},
     "output_type": "execute_result"
    }
   ],
   "source": [
    "using PyPlot\n",
    "using Random\n",
    "Random.seed!(1234)\n",
    "function generate_n_randomnum(n)\n",
    "    num = Float64[]\n",
    "    while length(num) < n\n",
    "        x = 10*rand()\n",
    "        if (x<=2)||(x>=7)\n",
    "            push!(num,x)\n",
    "        end\n",
    "    end\n",
    "    return num\n",
    "end\n",
    "g = generate_n_randomnum(10)\n",
    "g"
   ]
  },
  {
   "cell_type": "markdown",
   "metadata": {},
   "source": [
    "### Problem 2"
   ]
  },
  {
   "cell_type": "code",
   "execution_count": 25,
   "metadata": {},
   "outputs": [
    {
     "data": {
      "text/plain": [
       "0.379"
      ]
     },
     "execution_count": 25,
     "metadata": {},
     "output_type": "execute_result"
    }
   ],
   "source": [
    "function simulate_prob_complex(n)\n",
    "    comp = 0\n",
    "    for i in 1:n\n",
    "        a = 4rand()-2\n",
    "        b = 4rand()-2\n",
    "        c = 4rand()-2\n",
    "        if (b^2-4a*c) < 0\n",
    "            comp += 1\n",
    "        end\n",
    "    end\n",
    "    return comp/n\n",
    "end\n",
    "simulate_prob_complex(100)\n",
    "function simulate_normprob_complex(n)\n",
    "    comp = 0\n",
    "    x = 0\n",
    "    y = 0.4\n",
    "    for i in 1:n\n",
    "        a = y*randn() + x\n",
    "        b = y*randn() + x\n",
    "        c = y*randn() + x\n",
    "        if (b^2-4a*c) < 0\n",
    "            comp += 1\n",
    "        end\n",
    "    end\n",
    "    return comp/n\n",
    "end\n",
    "simulate_normprob_complex(1000)"
   ]
  },
  {
   "cell_type": "markdown",
   "metadata": {},
   "source": [
    "### Problem 3"
   ]
  },
  {
   "cell_type": "code",
   "execution_count": 61,
   "metadata": {},
   "outputs": [
    {
     "data": {
      "text/plain": [
       "0.6692"
      ]
     },
     "execution_count": 61,
     "metadata": {},
     "output_type": "execute_result"
    }
   ],
   "source": [
    "function simulate_unit_circle(n)\n",
    "    m = 0\n",
    "    for i in 1:n\n",
    "        angle1 = 2π*rand()  # Random angle in radians\n",
    "        x1 = cos(angle1)\n",
    "        y1 = sin(angle1)\n",
    "\n",
    "        angle2 = 2π*rand()  # Random angle in radians\n",
    "        x2 = cos(angle2)\n",
    "        y2 = sin(angle2)\n",
    "    \n",
    "        if sqrt((x2-x1)^2+(y2-y1)^2) > 1\n",
    "            m += 1\n",
    "        end\n",
    "    end\n",
    "    return m/n\n",
    "end\n",
    "simulate_unit_circle(10000)"
   ]
  },
  {
   "cell_type": "markdown",
   "metadata": {},
   "source": [
    "### Problem 4"
   ]
  },
  {
   "cell_type": "code",
   "execution_count": 70,
   "metadata": {},
   "outputs": [
    {
     "data": {
      "text/plain": [
       "0.23867109"
      ]
     },
     "execution_count": 70,
     "metadata": {},
     "output_type": "execute_result"
    }
   ],
   "source": [
    "function f(x)\n",
    "    return 1/sqrt(2*(pi))*exp(-(x^2)/2)\n",
    "end\n",
    "function ProbG(L,R)\n",
    "    n = 100000000\n",
    "    m = 0\n",
    "    for i in 1:n\n",
    "        x = (L-R)*rand()+L\n",
    "        y = rand()\n",
    "        if y < f(x)\n",
    "            m += 1\n",
    "        end\n",
    "    end\n",
    "    return m/n\n",
    "end\n",
    "ProbG(0,2)"
   ]
  },
  {
   "cell_type": "markdown",
   "metadata": {},
   "source": [
    "### Problem 5"
   ]
  },
  {
   "cell_type": "code",
   "execution_count": null,
   "metadata": {},
   "outputs": [],
   "source": []
  }
 ],
 "metadata": {
  "kernelspec": {
   "display_name": "Julia 1.10.0",
   "language": "julia",
   "name": "julia-1.10"
  },
  "language_info": {
   "file_extension": ".jl",
   "mimetype": "application/julia",
   "name": "julia",
   "version": "1.10.0"
  }
 },
 "nbformat": 4,
 "nbformat_minor": 2
}
