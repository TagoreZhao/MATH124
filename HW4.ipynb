{
 "cells": [
  {
   "cell_type": "markdown",
   "metadata": {},
   "source": [
    "### Problem 1"
   ]
  },
  {
   "cell_type": "code",
   "execution_count": 32,
   "metadata": {},
   "outputs": [
    {
     "data": {
      "text/plain": [
       "10-element Vector{Float64}:\n",
       " 8.942454282009884\n",
       " 9.53124627284842\n",
       " 7.955469475347194\n",
       " 7.484150218874741\n",
       " 7.279350012266056\n",
       " 0.07448006132865004\n",
       " 1.9937661409915552\n",
       " 9.567409540049077\n",
       " 9.96665291437684\n",
       " 7.491940599574348"
      ]
     },
     "execution_count": 32,
     "metadata": {},
     "output_type": "execute_result"
    }
   ],
   "source": [
    "using PyPlot\n",
    "using Random\n",
    "Random.seed!(1234)\n",
    "function generate_n_randomnum(n)\n",
    "    num = Float64[]\n",
    "    while length(num) < n\n",
    "        x = 10*rand()\n",
    "        if (x<=2)||(x>=7)\n",
    "            push!(num,x)\n",
    "        end\n",
    "        \n",
    "    end\n",
    "    return num\n",
    "end\n",
    "g = generate_n_randomnum(10)\n",
    "g"
   ]
  },
  {
   "cell_type": "markdown",
   "metadata": {},
   "source": [
    "### Problem 2"
   ]
  },
  {
   "cell_type": "code",
   "execution_count": 33,
   "metadata": {},
   "outputs": [
    {
     "name": "stdout",
     "output_type": "stream",
     "text": [
      "The probability of complex roots under uniform distribution is 0.372788\n",
      "The probability of complex roots under normal distribution is 0.351555\n"
     ]
    }
   ],
   "source": [
    "function simulate_prob_complex(n)\n",
    "    comp = 0\n",
    "    for i in 1:n\n",
    "        a = 4rand()-2\n",
    "        b = 4rand()-2\n",
    "        c = 4rand()-2\n",
    "        if (b^2-4a*c) < 0\n",
    "            comp += 1\n",
    "        end\n",
    "    end\n",
    "    return comp/n\n",
    "end\n",
    "function simulate_normprob_complex(n)\n",
    "    comp = 0\n",
    "    x = 0\n",
    "    y = 0.4\n",
    "    for i in 1:n\n",
    "        a = y*randn() + x\n",
    "        b = y*randn() + x\n",
    "        c = y*randn() + x\n",
    "        if (b^2-4a*c) < 0\n",
    "            comp += 1\n",
    "        end\n",
    "    end\n",
    "    return comp/n\n",
    "end\n",
    "simulate_normprob_complex(1000000)\n",
    "println(\"The probability of complex roots under uniform distribution is \", simulate_prob_complex(1000000))\n",
    "println(\"The probability of complex roots under normal distribution is \", simulate_normprob_complex(1000000))"
   ]
  },
  {
   "cell_type": "markdown",
   "metadata": {},
   "source": [
    "### Problem 3"
   ]
  },
  {
   "cell_type": "code",
   "execution_count": 34,
   "metadata": {},
   "outputs": [
    {
     "data": {
      "text/plain": [
       "0.6676"
      ]
     },
     "execution_count": 34,
     "metadata": {},
     "output_type": "execute_result"
    }
   ],
   "source": [
    "function simulate_unit_circle(n)\n",
    "    m = 0\n",
    "    for i in 1:n\n",
    "        angle1 = 2π*rand()  # Random angle in radians\n",
    "        x1 = cos(angle1)\n",
    "        y1 = sin(angle1)\n",
    "\n",
    "        angle2 = 2π*rand()  # Random angle in radians\n",
    "        x2 = cos(angle2)\n",
    "        y2 = sin(angle2)\n",
    "    \n",
    "        if sqrt((x2-x1)^2+(y2-y1)^2) > 1\n",
    "            m += 1\n",
    "        end\n",
    "    end\n",
    "    return m/n\n",
    "end\n",
    "simulate_unit_circle(10000)"
   ]
  },
  {
   "cell_type": "markdown",
   "metadata": {},
   "source": [
    "### Problem 4"
   ]
  },
  {
   "cell_type": "code",
   "execution_count": 35,
   "metadata": {},
   "outputs": [
    {
     "data": {
      "text/plain": [
       "0.47726454"
      ]
     },
     "execution_count": 35,
     "metadata": {},
     "output_type": "execute_result"
    }
   ],
   "source": [
    "function f(x)\n",
    "    return 1/sqrt(2*(pi))*exp(-(x^2)/2)\n",
    "end\n",
    "function ProbG(L,R)\n",
    "    n = 100000000\n",
    "    m = 0\n",
    "    for i in 1:n\n",
    "        x = (L-R)*rand()+L\n",
    "        y = rand()\n",
    "        if y < f(x)\n",
    "            m += 1\n",
    "        end\n",
    "    end\n",
    "    return m/n*(R-L)\n",
    "end\n",
    "ProbG(0,2)"
   ]
  },
  {
   "cell_type": "markdown",
   "metadata": {},
   "source": [
    "### Problem 5"
   ]
  },
  {
   "cell_type": "code",
   "execution_count": 36,
   "metadata": {},
   "outputs": [
    {
     "name": "stdout",
     "output_type": "stream",
     "text": [
      "The probability of exit in the middle is 0.6996\n"
     ]
    },
    {
     "data": {
      "image/png": "[encoded data removed]",
      "text/plain": [
       "Figure(PyObject <Figure size 640x480 with 1 Axes>)"
      ]
     },
     "metadata": {},
     "output_type": "display_data"
    },
    {
     "data": {
      "text/plain": [
       "(PyObject <matplotlib.patches.Rectangle object at 0x7f025bd6d8d0>, PyObject <matplotlib.patches.Rectangle object at 0x7f025bd6d720>, PyObject <matplotlib.patches.Rectangle object at 0x7f025bd6dcf0>, PyObject <matplotlib.patches.Rectangle object at 0x7f025bd6df30>, PyObject <matplotlib.patches.Rectangle object at 0x7f025bd6e110>, PyObject <matplotlib.patches.Rectangle object at 0x7f025d7a8460>, PyObject <matplotlib.patches.Rectangle object at 0x7f025d73da20>, PyObject <matplotlib.patches.Rectangle object at 0x7f025bf492d0>, PyObject <matplotlib.patches.Rectangle object at 0x7f025bf49240>, PyObject <matplotlib.patches.Rectangle object at 0x7f025bd6e440>, PyObject <matplotlib.patches.Rectangle object at 0x7f025bd6e620>, PyObject <matplotlib.patches.Rectangle object at 0x7f025bd6e800>, PyObject <matplotlib.patches.Rectangle object at 0x7f025bd6e9e0>, PyObject <matplotlib.patches.Rectangle object at 0x7f025bd6ebc0>, PyObject <matplotlib.patches.Rectangle object at 0x7f025bd6eda0>, PyObject <matplotlib.patches.Rectangle object at 0x7f025bd6ef80>, PyObject <matplotlib.patches.Rectangle object at 0x7f025bd6f160>, PyObject <matplotlib.patches.Rectangle object at 0x7f025bd6f340>, PyObject <matplotlib.patches.Rectangle object at 0x7f025bd6f520>, PyObject <matplotlib.patches.Rectangle object at 0x7f025bd6f700>, PyObject <matplotlib.patches.Rectangle object at 0x7f025bd6f8e0>, PyObject <matplotlib.patches.Rectangle object at 0x7f025bd6fac0>, PyObject <matplotlib.patches.Rectangle object at 0x7f025bd6fca0>, PyObject <matplotlib.patches.Rectangle object at 0x7f025bd6fe80>, PyObject <matplotlib.patches.Rectangle object at 0x7f025bd6ff10>, PyObject <matplotlib.patches.Rectangle object at 0x7f025bda8280>, PyObject <matplotlib.patches.Rectangle object at 0x7f025bda8460>, PyObject <matplotlib.patches.Rectangle object at 0x7f025bda8640>, PyObject <matplotlib.patches.Rectangle object at 0x7f025bda8820>, PyObject <matplotlib.patches.Rectangle object at 0x7f025bda8a00>, PyObject <matplotlib.patches.Rectangle object at 0x7f025bda8be0>, PyObject <matplotlib.patches.Rectangle object at 0x7f025bda8dc0>, PyObject <matplotlib.patches.Rectangle object at 0x7f025bda8fa0>, PyObject <matplotlib.patches.Rectangle object at 0x7f025bda9180>, PyObject <matplotlib.patches.Rectangle object at 0x7f025bda9360>, PyObject <matplotlib.patches.Rectangle object at 0x7f025bda9540>, PyObject <matplotlib.patches.Rectangle object at 0x7f025bda9720>, PyObject <matplotlib.patches.Rectangle object at 0x7f025bda9900>, PyObject <matplotlib.patches.Rectangle object at 0x7f025bda9ae0>, PyObject <matplotlib.patches.Rectangle object at 0x7f025bda9cc0>, PyObject <matplotlib.patches.Rectangle object at 0x7f025bda9ea0>, PyObject <matplotlib.patches.Rectangle object at 0x7f025bdaa080>, PyObject <matplotlib.patches.Rectangle object at 0x7f025bdaa260>, PyObject <matplotlib.patches.Rectangle object at 0x7f025bdaa440>, PyObject <matplotlib.patches.Rectangle object at 0x7f025bdaa620>, PyObject <matplotlib.patches.Rectangle object at 0x7f025bdaa800>, PyObject <matplotlib.patches.Rectangle object at 0x7f025bdaa9e0>, PyObject <matplotlib.patches.Rectangle object at 0x7f025bdaabc0>, PyObject <matplotlib.patches.Rectangle object at 0x7f025bdaada0>, PyObject <matplotlib.patches.Rectangle object at 0x7f025bdaaf80>, PyObject <matplotlib.patches.Rectangle object at 0x7f025bdab160>, PyObject <matplotlib.patches.Rectangle object at 0x7f025bdab340>, PyObject <matplotlib.patches.Rectangle object at 0x7f025bdab520>, PyObject <matplotlib.patches.Rectangle object at 0x7f025bdab700>, PyObject <matplotlib.patches.Rectangle object at 0x7f025bdab8e0>, PyObject <matplotlib.patches.Rectangle object at 0x7f025bdabac0>, PyObject <matplotlib.patches.Rectangle object at 0x7f025bdabca0>, PyObject <matplotlib.patches.Rectangle object at 0x7f025bdabe80>, PyObject <matplotlib.patches.Rectangle object at 0x7f025bdabf10>, PyObject <matplotlib.patches.Rectangle object at 0x7f025bdec280>, PyObject <matplotlib.patches.Rectangle object at 0x7f025bdec460>, PyObject <matplotlib.patches.Rectangle object at 0x7f025bdec640>, PyObject <matplotlib.patches.Rectangle object at 0x7f025bdec820>, PyObject <matplotlib.patches.Rectangle object at 0x7f025bdeca00>, PyObject <matplotlib.patches.Rectangle object at 0x7f025bdecbe0>, PyObject <matplotlib.patches.Rectangle object at 0x7f025bdecdc0>, PyObject <matplotlib.patches.Rectangle object at 0x7f025bdecfa0>, PyObject <matplotlib.patches.Rectangle object at 0x7f025bded180>, PyObject <matplotlib.patches.Rectangle object at 0x7f025bded360>, PyObject <matplotlib.patches.Rectangle object at 0x7f025bded540>, PyObject <matplotlib.patches.Rectangle object at 0x7f025bded720>, PyObject <matplotlib.patches.Rectangle object at 0x7f025bded900>, PyObject <matplotlib.patches.Rectangle object at 0x7f025bdedae0>, PyObject <matplotlib.patches.Rectangle object at 0x7f025bdedcc0>, PyObject <matplotlib.patches.Rectangle object at 0x7f025bdedea0>, PyObject <matplotlib.patches.Rectangle object at 0x7f025bdee080>, PyObject <matplotlib.patches.Rectangle object at 0x7f025bdee260>, PyObject <matplotlib.patches.Rectangle object at 0x7f025bdee440>, PyObject <matplotlib.patches.Rectangle object at 0x7f025bdee620>, PyObject <matplotlib.patches.Rectangle object at 0x7f025bdee800>, PyObject <matplotlib.patches.Rectangle object at 0x7f025bdee9e0>, PyObject <matplotlib.patches.Rectangle object at 0x7f025bdeebc0>, PyObject <matplotlib.patches.Rectangle object at 0x7f025bdeeda0>, PyObject <matplotlib.patches.Rectangle object at 0x7f025bdeef80>, PyObject <matplotlib.patches.Rectangle object at 0x7f025bdef160>, PyObject <matplotlib.patches.Rectangle object at 0x7f025bdef340>, PyObject <matplotlib.patches.Rectangle object at 0x7f025bdef520>, PyObject <matplotlib.patches.Rectangle object at 0x7f025bdef700>, PyObject <matplotlib.patches.Rectangle object at 0x7f025bdef8e0>, PyObject <matplotlib.patches.Rectangle object at 0x7f025bdefac0>, PyObject <matplotlib.patches.Rectangle object at 0x7f025bdefca0>, PyObject <matplotlib.patches.Rectangle object at 0x7f025bdefe80>, PyObject <matplotlib.patches.Rectangle object at 0x7f025bdeff10>, PyObject <matplotlib.patches.Rectangle object at 0x7f025be2c280>, PyObject <matplotlib.patches.Rectangle object at 0x7f025be2c460>, PyObject <matplotlib.patches.Rectangle object at 0x7f025be2c640>, PyObject <matplotlib.patches.Rectangle object at 0x7f025be2c820>, PyObject <matplotlib.patches.Rectangle object at 0x7f025be2ca00>, PyObject <matplotlib.patches.Rectangle object at 0x7f025be2cbe0>, PyObject <matplotlib.patches.Rectangle object at 0x7f025be2cdc0>, PyObject <matplotlib.patches.Rectangle object at 0x7f025be2cfa0>, PyObject <matplotlib.patches.Rectangle object at 0x7f025be2d180>, PyObject <matplotlib.patches.Rectangle object at 0x7f025be2d360>, PyObject <matplotlib.patches.Rectangle object at 0x7f025be2d540>, PyObject <matplotlib.patches.Rectangle object at 0x7f025be2d720>, PyObject <matplotlib.patches.Rectangle object at 0x7f025be2d900>, PyObject <matplotlib.patches.Rectangle object at 0x7f025be2dae0>, PyObject <matplotlib.patches.Rectangle object at 0x7f025be2dcc0>, PyObject <matplotlib.patches.Rectangle object at 0x7f025be2dea0>, PyObject <matplotlib.patches.Rectangle object at 0x7f025be2e080>, PyObject <matplotlib.patches.Rectangle object at 0x7f025be2e260>, PyObject <matplotlib.patches.Rectangle object at 0x7f025be2e440>, PyObject <matplotlib.patches.Rectangle object at 0x7f025be2e620>, PyObject <matplotlib.patches.Rectangle object at 0x7f025be2e800>, PyObject <matplotlib.patches.Rectangle object at 0x7f025be2e9e0>, PyObject <matplotlib.patches.Rectangle object at 0x7f025be2ebc0>, PyObject <matplotlib.patches.Rectangle object at 0x7f025be2eda0>, PyObject <matplotlib.patches.Rectangle object at 0x7f025be2ef80>, PyObject <matplotlib.patches.Rectangle object at 0x7f025be2f160>, PyObject <matplotlib.patches.Rectangle object at 0x7f025be2f340>, PyObject <matplotlib.patches.Rectangle object at 0x7f025be2f520>, PyObject <matplotlib.patches.Rectangle object at 0x7f025be2f700>, PyObject <matplotlib.patches.Rectangle object at 0x7f025be2f8e0>, PyObject <matplotlib.patches.Rectangle object at 0x7f025be2fac0>, PyObject <matplotlib.patches.Rectangle object at 0x7f025be2fca0>, PyObject <matplotlib.patches.Rectangle object at 0x7f025be2fe80>, PyObject <matplotlib.patches.Rectangle object at 0x7f025be2ff10>, PyObject <matplotlib.patches.Rectangle object at 0x7f025bb70280>, PyObject <matplotlib.patches.Rectangle object at 0x7f025bb70460>, PyObject <matplotlib.patches.Rectangle object at 0x7f025bb70640>, PyObject <matplotlib.patches.Rectangle object at 0x7f025bb70820>, PyObject <matplotlib.patches.Rectangle object at 0x7f025bb70a00>, PyObject <matplotlib.patches.Rectangle object at 0x7f025bb70be0>, PyObject <matplotlib.patches.Rectangle object at 0x7f025bb70dc0>, PyObject <matplotlib.patches.Rectangle object at 0x7f025bb70fa0>, PyObject <matplotlib.patches.Rectangle object at 0x7f025bb71180>, PyObject <matplotlib.patches.Rectangle object at 0x7f025bb71360>, PyObject <matplotlib.patches.Rectangle object at 0x7f025bb71540>, PyObject <matplotlib.patches.Rectangle object at 0x7f025bb71720>, PyObject <matplotlib.patches.Rectangle object at 0x7f025bb71900>, PyObject <matplotlib.patches.Rectangle object at 0x7f025bb71ae0>, PyObject <matplotlib.patches.Rectangle object at 0x7f025bb71cc0>, PyObject <matplotlib.patches.Rectangle object at 0x7f025bb71ea0>, PyObject <matplotlib.patches.Rectangle object at 0x7f025bb72080>, PyObject <matplotlib.patches.Rectangle object at 0x7f025bb72260>, PyObject <matplotlib.patches.Rectangle object at 0x7f025bb72440>, PyObject <matplotlib.patches.Rectangle object at 0x7f025bb72620>, PyObject <matplotlib.patches.Rectangle object at 0x7f025bb72800>, PyObject <matplotlib.patches.Rectangle object at 0x7f025bb729e0>, PyObject <matplotlib.patches.Rectangle object at 0x7f025bb72bc0>, PyObject <matplotlib.patches.Rectangle object at 0x7f025bb72da0>, PyObject <matplotlib.patches.Rectangle object at 0x7f025bb72f80>, PyObject <matplotlib.patches.Rectangle object at 0x7f025bb73160>, PyObject <matplotlib.patches.Rectangle object at 0x7f025bb73340>, PyObject <matplotlib.patches.Rectangle object at 0x7f025bb73520>, PyObject <matplotlib.patches.Rectangle object at 0x7f025bb73700>, PyObject <matplotlib.patches.Rectangle object at 0x7f025bb738e0>, PyObject <matplotlib.patches.Rectangle object at 0x7f025bb73ac0>, PyObject <matplotlib.patches.Rectangle object at 0x7f025bb73ca0>, PyObject <matplotlib.patches.Rectangle object at 0x7f025bb73e80>)"
      ]
     },
     "execution_count": 36,
     "metadata": {},
     "output_type": "execute_result"
    }
   ],
   "source": [
    "using PyPlot\n",
    "function random_walk(n)\n",
    "    x = [0]\n",
    "    y = [0]\n",
    "    while abs(x[end]) < n && abs(y[end]) < n\n",
    "        if rand() < 0.5\n",
    "            if rand() < 0.5  # Up\n",
    "                push!(x, x[end])\n",
    "                push!(y, y[end] + 1)\n",
    "            else             # Down\n",
    "                push!(x, x[end])\n",
    "                push!(y, y[end] - 1)\n",
    "            end\n",
    "        else\n",
    "            if rand() < 0.5  # Right\n",
    "                push!(x, x[end] + 1)\n",
    "                push!(y, y[end])\n",
    "            else             # Left    \n",
    "                push!(x, x[end] - 1)\n",
    "                push!(y, y[end])\n",
    "            end\n",
    "        end\n",
    "    end\n",
    "    x,y\n",
    "end    \n",
    "\n",
    "function exit_middle(n,i) #We assume here that the middle part is [-10,10]\n",
    "    m = 0\n",
    "    for i in 1:i\n",
    "        x,y = random_walk(n)\n",
    "        if ((x[end] < 10) & (x[end] > -10)) | ((y[end]< 10)&(y[end] > -10))\n",
    "            m += 1\n",
    "        end\n",
    "    end\n",
    "    return m , i\n",
    "end\n",
    "#Here we simulate all possible end points and plot the frequency distribution\n",
    "#Since the for edge are perfectly symmetric, we only need to look at one edge\n",
    "function end_point(size,n) \n",
    "    count1 = zeros(8*size)\n",
    "    for i in 1:n\n",
    "        x,y = random_walk(size)\n",
    "        x_end, y_end = x[end], y[end]\n",
    "        if y_end == -size\n",
    "            count1[x_end + size] += 1\n",
    "        elseif y_end == size \n",
    "            count1[x_end + 3*size] += 1\n",
    "        elseif x_end == -size\n",
    "            count1[y_end + 5*size] += 1\n",
    "        elseif x_end == size\n",
    "            count1[y_end + 7*size] += 1\n",
    "        end\n",
    "    end\n",
    "    return count1\n",
    "end\n",
    "n = 20\n",
    "x = 10000\n",
    "a,b = exit_middle(n,x)\n",
    "println(\"The probability of exit in the middle is \", a/b)\n",
    "b2 = bar(1:160,end_point(20,x))\n"
   ]
  },
  {
   "cell_type": "code",
   "execution_count": 37,
   "metadata": {},
   "outputs": [
    {
     "data": {
      "image/png": "[encoded data removed]",
      "text/plain": [
       "Figure(PyObject <Figure size 640x480 with 1 Axes>)"
      ]
     },
     "metadata": {},
     "output_type": "display_data"
    },
    {
     "data": {
      "text/plain": [
       "(PyObject <matplotlib.patches.Rectangle object at 0x7f025bc1b4f0>, PyObject <matplotlib.patches.Rectangle object at 0x7f025bc1b340>)"
      ]
     },
     "execution_count": 37,
     "metadata": {},
     "output_type": "execute_result"
    }
   ],
   "source": [
    "b1 = bar([\"middle\",\"corner\"],[a,b-a]) "
   ]
  },
  {
   "cell_type": "markdown",
   "metadata": {},
   "source": [
    "### Problem 6"
   ]
  },
  {
   "cell_type": "code",
   "execution_count": 38,
   "metadata": {},
   "outputs": [
    {
     "data": {
      "text/plain": [
       "0.047681"
      ]
     },
     "execution_count": 38,
     "metadata": {},
     "output_type": "execute_result"
    }
   ],
   "source": [
    "function card_rank(card)\n",
    "    (card - 1) % 13 + 1\n",
    "end\n",
    "function card_suit(card)\n",
    "    (card - 1) ÷ 13 + 1\n",
    "end\n",
    "function card_deck()\n",
    "    cards = 1:52      # All cards\n",
    "    return [card_rank.(cards) card_suit.(cards)]\n",
    "end\n",
    "\n",
    "function draw_card(n)\n",
    "    cards = randperm(52)\n",
    "    hand = cards[1:n]\n",
    "    [card_rank.(hand) card_suit.(hand)]\n",
    "end\n",
    "\n",
    "function two_pairs(c)\n",
    "    num = 0\n",
    "    for i in 1:size(c,1)\n",
    "        for j in i+1:size(c,1)\n",
    "            if c[i,1] == c[j,1]\n",
    "                num += 1\n",
    "            end\n",
    "        end\n",
    "    end\n",
    "    if num == 2\n",
    "        return true\n",
    "    else\n",
    "        return false\n",
    "    end\n",
    "end\n",
    "\n",
    "function two_pair_prob(n)\n",
    "    m = 0\n",
    "    for i in 1:n\n",
    "        c = draw_card(5)\n",
    "        if two_pairs(c)\n",
    "            m += 1\n",
    "        end\n",
    "    end\n",
    "    return m/n\n",
    "end\n",
    "two_pair_prob(1000000)"
   ]
  },
  {
   "cell_type": "markdown",
   "metadata": {},
   "source": [
    "### Problem 7(a)"
   ]
  },
  {
   "cell_type": "code",
   "execution_count": 39,
   "metadata": {},
   "outputs": [
    {
     "data": {
      "text/plain": [
       "9×5 Matrix{Int64}:\n",
       "   0   -2  -4   5   3\n",
       " -10   -1  -3   6   4\n",
       "  -9    0  -2   7   5\n",
       "  -8  -10  -1   8   6\n",
       "  -7   -9   0   9   7\n",
       "  -6   -8   1  10   8\n",
       "  -5   -7   2   0   9\n",
       "  -4   -6   3   1  10\n",
       "  -3   -5   4   2   0"
      ]
     },
     "execution_count": 39,
     "metadata": {},
     "output_type": "execute_result"
    }
   ],
   "source": [
    "A = reshape((-22:22) .% 11, 9, 5) # For testing"
   ]
  },
  {
   "cell_type": "code",
   "execution_count": 40,
   "metadata": {},
   "outputs": [
    {
     "data": {
      "text/plain": [
       "17"
      ]
     },
     "execution_count": 40,
     "metadata": {},
     "output_type": "execute_result"
    }
   ],
   "source": [
    "length(A[findall(x -> (x^2 < 10),A)])"
   ]
  },
  {
   "cell_type": "markdown",
   "metadata": {},
   "source": [
    "### Problem 7(b)"
   ]
  },
  {
   "cell_type": "code",
   "execution_count": 41,
   "metadata": {},
   "outputs": [
    {
     "data": {
      "text/plain": [
       "9×3 Matrix{Int64}:\n",
       "   0   5   3\n",
       " -10   6   4\n",
       "  -9   7   5\n",
       "  -8   8   6\n",
       "  -7   9   7\n",
       "  -6  10   8\n",
       "  -5   0   9\n",
       "  -4   1  10\n",
       "  -3   2   0"
      ]
     },
     "execution_count": 41,
     "metadata": {},
     "output_type": "execute_result"
    }
   ],
   "source": [
    "A[:,findall(x -> x>=0,A[1,:])]"
   ]
  },
  {
   "cell_type": "markdown",
   "metadata": {},
   "source": [
    "### Problem 7(c)"
   ]
  },
  {
   "cell_type": "code",
   "execution_count": 42,
   "metadata": {},
   "outputs": [
    {
     "data": {
      "text/plain": [
       "9×5 Matrix{Int64}:\n",
       "   0   -6  -12   5   3\n",
       " -30   -1   -3  18  12\n",
       "  -9    0   -6   7   5\n",
       " -24  -30   -1  24  18\n",
       "  -7   -9    0   9   7\n",
       " -18  -24    1  30  24\n",
       "  -5   -7    6   0   9\n",
       " -12  -18    3   1  30\n",
       "  -3   -5   12   6   0"
      ]
     },
     "execution_count": 42,
     "metadata": {},
     "output_type": "execute_result"
    }
   ],
   "source": [
    "Int.(A .* (3 .^ (-((A .^ 2).^(1/2).%2).+1)))"
   ]
  }
 ],
 "metadata": {
  "kernelspec": {
   "display_name": "Julia 1.10.0",
   "language": "julia",
   "name": "julia-1.10"
  },
  "language_info": {
   "file_extension": ".jl",
   "mimetype": "application/julia",
   "name": "julia",
   "version": "1.10.0"
  }
 },
 "nbformat": 4,
 "nbformat_minor": 2
}
