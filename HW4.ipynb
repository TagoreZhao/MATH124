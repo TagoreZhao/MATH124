{
 "cells": [
  {
   "cell_type": "markdown",
   "metadata": {},
   "source": [
    "### Problem 1"
   ]
  },
  {
   "cell_type": "code",
   "execution_count": 6,
   "metadata": {},
   "outputs": [
    {
     "data": {
      "text/plain": [
       "10-element Vector{Float64}:\n",
       " 8.942454282009884\n",
       " 9.53124627284842\n",
       " 7.955469475347194\n",
       " 7.484150218874741\n",
       " 7.279350012266056\n",
       " 0.07448006132865004\n",
       " 1.9937661409915552\n",
       " 9.567409540049077\n",
       " 9.96665291437684\n",
       " 7.491940599574348"
      ]
     },
     "execution_count": 6,
     "metadata": {},
     "output_type": "execute_result"
    }
   ],
   "source": [
    "using PyPlot\n",
    "using Random\n",
    "Random.seed!(1234)\n",
    "function generate_n_randomnum(n)\n",
    "    num = Float64[]\n",
    "    while length(num) < n\n",
    "        x = 10*rand()\n",
    "        if (x<=2)||(x>=7)\n",
    "            push!(num,x)\n",
    "        end\n",
    "    end\n",
    "    return num\n",
    "end\n",
    "g = generate_n_randomnum(10)\n",
    "g"
   ]
  },
  {
   "cell_type": "markdown",
   "metadata": {},
   "source": [
    "### Problem 2"
   ]
  },
  {
   "cell_type": "code",
   "execution_count": 25,
   "metadata": {},
   "outputs": [
    {
     "data": {
      "text/plain": [
       "0.379"
      ]
     },
     "execution_count": 25,
     "metadata": {},
     "output_type": "execute_result"
    }
   ],
   "source": [
    "function simulate_prob_complex(n)\n",
    "    comp = 0\n",
    "    for i in 1:n\n",
    "        a = 4rand()-2\n",
    "        b = 4rand()-2\n",
    "        c = 4rand()-2\n",
    "        if (b^2-4a*c) < 0\n",
    "            comp += 1\n",
    "        end\n",
    "    end\n",
    "    return comp/n\n",
    "end\n",
    "simulate_prob_complex(100)\n",
    "function simulate_normprob_complex(n)\n",
    "    comp = 0\n",
    "    x = 0\n",
    "    y = 0.4\n",
    "    for i in 1:n\n",
    "        a = y*randn() + x\n",
    "        b = y*randn() + x\n",
    "        c = y*randn() + x\n",
    "        if (b^2-4a*c) < 0\n",
    "            comp += 1\n",
    "        end\n",
    "    end\n",
    "    return comp/n\n",
    "end\n",
    "simulate_normprob_complex(1000)"
   ]
  },
  {
   "cell_type": "markdown",
   "metadata": {},
   "source": [
    "### Problem 3"
   ]
  },
  {
   "cell_type": "code",
   "execution_count": 61,
   "metadata": {},
   "outputs": [
    {
     "data": {
      "text/plain": [
       "0.6692"
      ]
     },
     "execution_count": 61,
     "metadata": {},
     "output_type": "execute_result"
    }
   ],
   "source": [
    "function simulate_unit_circle(n)\n",
    "    m = 0\n",
    "    for i in 1:n\n",
    "        angle1 = 2π*rand()  # Random angle in radians\n",
    "        x1 = cos(angle1)\n",
    "        y1 = sin(angle1)\n",
    "\n",
    "        angle2 = 2π*rand()  # Random angle in radians\n",
    "        x2 = cos(angle2)\n",
    "        y2 = sin(angle2)\n",
    "    \n",
    "        if sqrt((x2-x1)^2+(y2-y1)^2) > 1\n",
    "            m += 1\n",
    "        end\n",
    "    end\n",
    "    return m/n\n",
    "end\n",
    "simulate_unit_circle(10000)"
   ]
  },
  {
   "cell_type": "markdown",
   "metadata": {},
   "source": [
    "### Problem 4"
   ]
  },
  {
   "cell_type": "code",
   "execution_count": 70,
   "metadata": {},
   "outputs": [
    {
     "data": {
      "text/plain": [
       "0.23867109"
      ]
     },
     "execution_count": 70,
     "metadata": {},
     "output_type": "execute_result"
    }
   ],
   "source": [
    "function f(x)\n",
    "    return 1/sqrt(2*(pi))*exp(-(x^2)/2)\n",
    "end\n",
    "function ProbG(L,R)\n",
    "    n = 100000000\n",
    "    m = 0\n",
    "    for i in 1:n\n",
    "        x = (L-R)*rand()+L\n",
    "        y = rand()\n",
    "        if y < f(x)\n",
    "            m += 1\n",
    "        end\n",
    "    end\n",
    "    return m/n\n",
    "end\n",
    "ProbG(0,2)"
   ]
  },
  {
   "cell_type": "markdown",
   "metadata": {},
   "source": [
    "### Problem 5"
   ]
  },
  {
   "cell_type": "code",
   "execution_count": 105,
   "metadata": {},
   "outputs": [
    {
     "data": {
      "text/plain": [
       "0.7014"
      ]
     },
     "execution_count": 105,
     "metadata": {},
     "output_type": "execute_result"
    }
   ],
   "source": [
    "function random_walk(n)\n",
    "    x = [0]\n",
    "    y = [0]\n",
    "    while abs(x[end]) < n && abs(y[end]) < n\n",
    "        if rand() < 0.5\n",
    "            if rand() < 0.5  # Up\n",
    "                push!(x, x[end])\n",
    "                push!(y, y[end] + 1)\n",
    "            else             # Down\n",
    "                push!(x, x[end])\n",
    "                push!(y, y[end] - 1)\n",
    "            end\n",
    "        else\n",
    "            if rand() < 0.5  # Right\n",
    "                push!(x, x[end] + 1)\n",
    "                push!(y, y[end])\n",
    "            else             # Left    \n",
    "                push!(x, x[end] - 1)\n",
    "                push!(y, y[end])\n",
    "            end\n",
    "        end\n",
    "    end\n",
    "    x,y\n",
    "end    \n",
    "\n",
    "function exit_middle(n,i)\n",
    "    m = 0\n",
    "    for i in 1:i\n",
    "        x,y = random_walk(n)\n",
    "        if ((x[end] < 10) & (x[end] > -10)) | ((y[end]< 10)&(y[end] > -10))\n",
    "            m += 1\n",
    "        end\n",
    "    end\n",
    "    return m/i\n",
    "end\n",
    "n = 20\n",
    "x = 10000\n",
    "exit_middle(n,x)"
   ]
  },
  {
   "cell_type": "markdown",
   "metadata": {},
   "source": [
    "### Problem 6"
   ]
  },
  {
   "cell_type": "code",
   "execution_count": 143,
   "metadata": {},
   "outputs": [
    {
     "data": {
      "text/plain": [
       "0.047601"
      ]
     },
     "execution_count": 143,
     "metadata": {},
     "output_type": "execute_result"
    }
   ],
   "source": [
    "function card_rank(card)\n",
    "    (card - 1) % 13 + 1\n",
    "end\n",
    "function card_suit(card)\n",
    "    (card - 1) ÷ 13 + 1\n",
    "end\n",
    "function card_deck()\n",
    "    cards = 1:52      # All cards\n",
    "    return [card_rank.(cards) card_suit.(cards)]\n",
    "end\n",
    "\n",
    "function draw_card(n)\n",
    "    cards = randperm(52)\n",
    "    hand = cards[1:n]\n",
    "    [card_rank.(hand) card_suit.(hand)]\n",
    "end\n",
    "\n",
    "function two_pairs(c)\n",
    "    num = 0\n",
    "    for i in 1:size(c,1)\n",
    "        for j in i+1:size(c,1)\n",
    "            if c[i,1] == c[j,1]\n",
    "                num += 1\n",
    "            end\n",
    "        end\n",
    "    end\n",
    "    if num == 2\n",
    "        return true\n",
    "    else\n",
    "        return false\n",
    "    end\n",
    "end\n",
    "\n",
    "function two_pair_prob(n)\n",
    "    m = 0\n",
    "    for i in 1:n\n",
    "        c = draw_card(5)\n",
    "        if two_pairs(c)\n",
    "            m += 1\n",
    "        end\n",
    "    end\n",
    "    return m/n\n",
    "end\n",
    "two_pair_prob(1000000)"
   ]
  },
  {
   "cell_type": "markdown",
   "metadata": {},
   "source": [
    "### Problem 7(a)"
   ]
  },
  {
   "cell_type": "code",
   "execution_count": 145,
   "metadata": {},
   "outputs": [
    {
     "data": {
      "text/plain": [
       "9×5 Matrix{Int64}:\n",
       "   0   -2  -4   5   3\n",
       " -10   -1  -3   6   4\n",
       "  -9    0  -2   7   5\n",
       "  -8  -10  -1   8   6\n",
       "  -7   -9   0   9   7\n",
       "  -6   -8   1  10   8\n",
       "  -5   -7   2   0   9\n",
       "  -4   -6   3   1  10\n",
       "  -3   -5   4   2   0"
      ]
     },
     "execution_count": 145,
     "metadata": {},
     "output_type": "execute_result"
    }
   ],
   "source": [
    "A = reshape((-22:22) .% 11, 9, 5) # For testing"
   ]
  },
  {
   "cell_type": "code",
   "execution_count": 150,
   "metadata": {},
   "outputs": [
    {
     "data": {
      "text/plain": [
       "17"
      ]
     },
     "execution_count": 150,
     "metadata": {},
     "output_type": "execute_result"
    }
   ],
   "source": [
    "length(A[findall(x -> (x^2 < 10),A)])"
   ]
  },
  {
   "cell_type": "markdown",
   "metadata": {},
   "source": [
    "### Problem 7(b)"
   ]
  },
  {
   "cell_type": "code",
   "execution_count": 172,
   "metadata": {},
   "outputs": [
    {
     "data": {
      "text/plain": [
       "9×2 Matrix{Int64}:\n",
       "  5   3\n",
       "  6   4\n",
       "  7   5\n",
       "  8   6\n",
       "  9   7\n",
       " 10   8\n",
       "  0   9\n",
       "  1  10\n",
       "  2   0"
      ]
     },
     "execution_count": 172,
     "metadata": {},
     "output_type": "execute_result"
    }
   ],
   "source": [
    "A[:,findall(x -> x>0,A[1,:])]"
   ]
  },
  {
   "cell_type": "markdown",
   "metadata": {},
   "source": [
    "### Problem 7(c)"
   ]
  },
  {
   "cell_type": "code",
   "execution_count": 173,
   "metadata": {},
   "outputs": [
    {
     "data": {
      "text/plain": [
       "9×5 Matrix{Int64}:\n",
       "   0   -6  -12   5   3\n",
       " -30   -1   -3  18  12\n",
       "  -9    0   -6   7   5\n",
       " -24  -30   -1  24  18\n",
       "  -7   -9    0   9   7\n",
       " -18  -24    1  30  24\n",
       "  -5   -7    6   0   9\n",
       " -12  -18    3   1  30\n",
       "  -3   -5   12   6   0"
      ]
     },
     "execution_count": 173,
     "metadata": {},
     "output_type": "execute_result"
    }
   ],
   "source": [
    "for i in 1:size(A,1)\n",
    "    for j in 1:size(A,2)\n",
    "        if A[i,j]%2 == 0\n",
    "            A[i,j] *= 3\n",
    "        end\n",
    "    end\n",
    "end\n",
    "A"
   ]
  }
 ],
 "metadata": {
  "kernelspec": {
   "display_name": "Julia 1.10.0",
   "language": "julia",
   "name": "julia-1.10"
  },
  "language_info": {
   "file_extension": ".jl",
   "mimetype": "application/julia",
   "name": "julia",
   "version": "1.10.0"
  }
 },
 "nbformat": 4,
 "nbformat_minor": 2
}
