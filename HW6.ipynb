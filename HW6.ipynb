{
 "cells": [
  {
   "cell_type": "markdown",
   "metadata": {},
   "source": [
    "#### Problem 1(a)"
   ]
  },
  {
   "cell_type": "code",
   "execution_count": 99,
   "metadata": {},
   "outputs": [
    {
     "data": {
      "text/plain": [
       "6×6 Matrix{Rational}:\n",
       "  1    1//2  1//3  1//4  1//5   1//6\n",
       " 1//2  1//3  1//4  1//5  1//6   1//7\n",
       " 1//3  1//4  1//5  1//6  1//7   1//8\n",
       " 1//4  1//5  1//6  1//7  1//8   1//9\n",
       " 1//5  1//6  1//7  1//8  1//9   1//10\n",
       " 1//6  1//7  1//8  1//9  1//10  1//11"
      ]
     },
     "execution_count": 99,
     "metadata": {},
     "output_type": "execute_result"
    }
   ],
   "source": [
    "using LinearAlgebra, PyPlot\n",
    "import Random\n",
    "function hilbert_matrix(n)\n",
    "    H = zeros(Rational,n,n)\n",
    "    for i in 1:n\n",
    "        for j in 1:n\n",
    "            H[i,j] = 1//(i+j-1)\n",
    "        end\n",
    "    end\n",
    "    return H\n",
    "end\n",
    "H = hilbert_matrix(6)"
   ]
  },
  {
   "cell_type": "markdown",
   "metadata": {},
   "source": [
    "#### Problem 1(b)"
   ]
  },
  {
   "cell_type": "code",
   "execution_count": 100,
   "metadata": {},
   "outputs": [
    {
     "data": {
      "text/plain": [
       "6×6 Symmetric{Rational, Matrix{Rational}}:\n",
       "  1    1//2  1//3  1//4  1//5   1//6\n",
       " 1//2  1//3  1//4  1//5  1//6   1//7\n",
       " 1//3  1//4  1//5  1//6  1//7   1//8\n",
       " 1//4  1//5  1//6  1//7  1//8   1//9\n",
       " 1//5  1//6  1//7  1//8  1//9   1//10\n",
       " 1//6  1//7  1//8  1//9  1//10  1//11"
      ]
     },
     "execution_count": 100,
     "metadata": {},
     "output_type": "execute_result"
    }
   ],
   "source": [
    "Symmetric(H)"
   ]
  },
  {
   "cell_type": "markdown",
   "metadata": {},
   "source": [
    "#### Problem 1(c)"
   ]
  },
  {
   "cell_type": "code",
   "execution_count": 101,
   "metadata": {},
   "outputs": [
    {
     "data": {
      "text/plain": [
       "6×6 Matrix{Float64}:\n",
       " 1.49139   0.857143  0.616071  0.484788  0.401091  0.342691\n",
       " 0.857143  0.511797  0.375     0.298611  0.249074  0.214078\n",
       " 0.616071  0.375     0.277422  0.222222  0.186111  0.160438\n",
       " 0.484788  0.298611  0.222222  0.178657  0.15      0.129545\n",
       " 0.401091  0.249074  0.186111  0.15      0.126157  0.109091\n",
       " 0.342691  0.214078  0.160438  0.129545  0.109091  0.0944211"
      ]
     },
     "execution_count": 101,
     "metadata": {},
     "output_type": "execute_result"
    }
   ],
   "source": [
    "G = Float64.(H*H)"
   ]
  },
  {
   "cell_type": "markdown",
   "metadata": {},
   "source": [
    "#### Problem 1(d)\n",
    "\n",
    "$$\n",
    "    x = G^{-1}b\n",
    "$$"
   ]
  },
  {
   "cell_type": "markdown",
   "metadata": {},
   "source": [
    "#### Problem 1(e)"
   ]
  },
  {
   "cell_type": "code",
   "execution_count": 102,
   "metadata": {},
   "outputs": [
    {
     "data": {
      "text/plain": [
       "6-element Vector{Float64}:\n",
       " 1.0000076293945312\n",
       " 0.999267578125\n",
       " 1.005859375\n",
       " 0.984375\n",
       " 1.013671875\n",
       " 0.994140625"
      ]
     },
     "execution_count": 102,
     "metadata": {},
     "output_type": "execute_result"
    }
   ],
   "source": [
    "b = zeros(6)\n",
    "for i in 1:6\n",
    "    b[i] = sum(G[i,:])\n",
    "end\n",
    "x = inv(G)*b\n",
    "x"
   ]
  },
  {
   "cell_type": "markdown",
   "metadata": {},
   "source": [
    "#### Problem 1(f)"
   ]
  },
  {
   "cell_type": "code",
   "execution_count": 103,
   "metadata": {},
   "outputs": [
    {
     "data": {
      "text/plain": [
       "0.0005002618418075145"
      ]
     },
     "execution_count": 103,
     "metadata": {},
     "output_type": "execute_result"
    }
   ],
   "source": [
    "norm(x.-1)^2"
   ]
  },
  {
   "cell_type": "markdown",
   "metadata": {},
   "source": [
    "#### Problem 1(g)"
   ]
  },
  {
   "cell_type": "code",
   "execution_count": 104,
   "metadata": {},
   "outputs": [
    {
     "data": {
      "text/plain": [
       "2.235747710866038e14"
      ]
     },
     "execution_count": 104,
     "metadata": {},
     "output_type": "execute_result"
    }
   ],
   "source": [
    "maximum(eigvals(G))/minimum(eigvals(G))"
   ]
  },
  {
   "cell_type": "markdown",
   "metadata": {},
   "source": [
    "#### Problem 2 - The Strassen Algorithm"
   ]
  },
  {
   "cell_type": "code",
   "execution_count": 105,
   "metadata": {},
   "outputs": [
    {
     "data": {
      "text/plain": [
       "5.8264504332328215e-12"
      ]
     },
     "execution_count": 105,
     "metadata": {},
     "output_type": "execute_result"
    }
   ],
   "source": [
    "Random.seed!(1234)\n",
    "function submatrix(A)\n",
    "    n = size(A,1)\n",
    "    A11 = zeros(Int(n/2),Int(n/2))\n",
    "    A12 = zeros(Int(n/2),Int(n/2))\n",
    "    A21 = zeros(Int(n/2),Int(n/2))\n",
    "    A22 = zeros(Int(n/2),Int(n/2))\n",
    "    #println(\"start creating matrix, start A11\")\n",
    "    for i in 1:Int(n/2)\n",
    "        for j in 1:Int(n/2)\n",
    "            A11[i,j] = A[i,j]\n",
    "        end\n",
    "    end\n",
    "    #println(\"finish A11\")\n",
    "    for i in 1+Int(n/2):n\n",
    "        for j in 1:Int(n/2)\n",
    "            A21[i-Int(n/2),j] = A[i,j]\n",
    "        end\n",
    "    end\n",
    "    #println(\"finish A12\")\n",
    "    for i in 1:Int(n/2)\n",
    "        for j in 1+Int(n/2):n\n",
    "            A12[i,j-Int(n/2)] = A[i,j]\n",
    "        end\n",
    "    end\n",
    "    #println(\"finish A21\")\n",
    "    for i in 1+Int(n/2):n\n",
    "        for j in 1+Int(n/2):n\n",
    "            A22[i-Int(n/2),j-Int(n/2)] = A[i,j]\n",
    "        end\n",
    "    end\n",
    "    #println(\"finish A22\")\n",
    "    return A11, A12, A21, A22\n",
    "end\n",
    "function strassen(A,B)\n",
    "    n = size(A,1)\n",
    "    #println(\"start the program, n = \", n)\n",
    "    if n <= 2\n",
    "        #println(\"the smallest matrix\")\n",
    "        A11, A12, A21, A22 = A[1,1],A[1,2],A[2,1],A[2,2]\n",
    "        B11, B12, B21, B22 = B[1,1],B[1,2],B[2,1],B[2,2]\n",
    "        M1 = (A11+A22)*(B11+B22)\n",
    "        M2 = (A21+A22)*B11\n",
    "        M3 = A11*(B12-B22)\n",
    "        M4 = A22*(B21-B11)\n",
    "        M5 = (A11 + A12)*B22\n",
    "        M6 = (A21 - A11)*(B11+B12)\n",
    "        M7 = (A12 -A22)*(B21+B22)\n",
    "        C11 = M1 + M4 - M5 + M7\n",
    "        C12 = M3 + M5\n",
    "        C21 = M2 + M4\n",
    "        C22 = M1 - M2 + M3 + M6\n",
    "        #println(\"C2 is\", C11, \"C2 is\",C12,\"C3 is\",C21,\"C4 is\",C22)\n",
    "        return [C11 C12\n",
    "                C21 C22]\n",
    "    else\n",
    "        #println(\"start calculation\")\n",
    "        A11, A12, A21, A22 = submatrix(A)\n",
    "        B11, B12, B21, B22 = submatrix(B)\n",
    "        M1 = strassen((A11+A22),(B11+B22))\n",
    "        M2 = strassen((A21+A22),B11)\n",
    "        M3 = strassen(A11,(B12-B22))\n",
    "        M4 = strassen(A22,(B21-B11))\n",
    "        M5 = strassen((A11+A12),B22)\n",
    "        M6 = strassen((A21 - A11),(B11+B12))\n",
    "        M7 = strassen((A12 -A22),(B21+B22))\n",
    "        C11 = M1 + M4 - M5 + M7\n",
    "        C12 = M3 + M5\n",
    "        C21 = M2 + M4\n",
    "        C22 = M1 - M2 + M3 + M6\n",
    "        return[C11 C12\n",
    "               C21 C22]\n",
    "    end\n",
    "    \n",
    "end\n",
    "A = randn(256,256)\n",
    "B = randn(256,256)\n",
    "A11, A12, A21, A22 = submatrix(A)\n",
    "C = strassen(A,B)\n",
    "D = A * B\n",
    "maximum(abs.(C-D)) "
   ]
  },
  {
   "cell_type": "markdown",
   "metadata": {},
   "source": [
    "#### Problem 3(a)"
   ]
  },
  {
   "cell_type": "code",
   "execution_count": 106,
   "metadata": {},
   "outputs": [
    {
     "data": {
      "text/plain": [
       "polyfit (generic function with 1 method)"
      ]
     },
     "execution_count": 106,
     "metadata": {},
     "output_type": "execute_result"
    }
   ],
   "source": [
    "using Polynomials\n",
    "function polyfit(x,y,p)\n",
    "    n = length(x)\n",
    "    A = reduce(hcat, [x .^ i for i in 0:p])\n",
    "    ab = A \\ y\n",
    "    return ab\n",
    "end"
   ]
  },
  {
   "cell_type": "markdown",
   "metadata": {},
   "source": [
    "#### Problem 3(b)"
   ]
  },
  {
   "cell_type": "code",
   "execution_count": 107,
   "metadata": {},
   "outputs": [
    {
     "data": {
      "text/plain": [
       "polyval (generic function with 1 method)"
      ]
     },
     "execution_count": 107,
     "metadata": {},
     "output_type": "execute_result"
    }
   ],
   "source": [
    "function polyval(pol, xx)\n",
    "    xx = reduce(hcat, [xx .^ i for i in 0:(length(pol)-1)])\n",
    "    return xx*pol\n",
    "end"
   ]
  },
  {
   "cell_type": "markdown",
   "metadata": {},
   "source": [
    "#### Problem 3(c)"
   ]
  },
  {
   "cell_type": "code",
   "execution_count": 108,
   "metadata": {},
   "outputs": [
    {
     "data": {
      "image/png": "[encoded data removed]",
      "text/plain": [
       "Figure(PyObject <Figure size 640x480 with 1 Axes>)"
      ]
     },
     "metadata": {},
     "output_type": "display_data"
    }
   ],
   "source": [
    "x = 0:0.1:10\n",
    "noise = 2randn(size(x))\n",
    "y = @. 0.1x^3 - x^2 + 2x - 2 + noise; # Example data: cubic with noise\n",
    "using PyPlot\n",
    "xplot = 0:10;\n",
    "ab = polyfit(x,y,3)\n",
    "yplot = polyval(ab,xplot)\n",
    "plot(x,y,\".\")\n",
    "plot(xplot, yplot, \"r\");"
   ]
  },
  {
   "cell_type": "markdown",
   "metadata": {},
   "source": [
    "#### Problem 4"
   ]
  },
  {
   "cell_type": "code",
   "execution_count": 109,
   "metadata": {},
   "outputs": [
    {
     "name": "stdout",
     "output_type": "stream",
     "text": [
      "bookkeeper\n",
      "bookkeepers\n",
      "bookkeeping\n",
      "bookkeepings\n"
     ]
    }
   ],
   "source": [
    "lines = readlines(\"words.txt\")\n",
    "function check_consec(f)\n",
    "    for i in 1:(length(f)-5)\n",
    "        if (f[i] == f[i+1])&(f[i+2] == f[i+3])&(f[i+4] == f[i+5])\n",
    "            return true\n",
    "        end\n",
    "    end\n",
    "    return false\n",
    "end\n",
    "\n",
    "\n",
    "a = []\n",
    "b = []\n",
    "for i in 1:length(lines)\n",
    "    if check_consec(lines[i])\n",
    "        push!(a,lines[i])\n",
    "        append!(b,i)\n",
    "        println(lines[i])\n",
    "    end\n",
    "end\n"
   ]
  }
 ],
 "metadata": {
  "kernelspec": {
   "display_name": "Julia 1.10.0",
   "language": "julia",
   "name": "julia-1.10"
  },
  "language_info": {
   "file_extension": ".jl",
   "mimetype": "application/julia",
   "name": "julia",
   "version": "1.10.0"
  }
 },
 "nbformat": 4,
 "nbformat_minor": 2
}
