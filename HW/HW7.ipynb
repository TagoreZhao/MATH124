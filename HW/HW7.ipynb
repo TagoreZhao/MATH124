{
 "cells": [
  {
   "cell_type": "markdown",
   "metadata": {},
   "source": [
    "### HW 7"
   ]
  },
  {
   "cell_type": "markdown",
   "metadata": {},
   "source": [
    "#### Problem 1(a)"
   ]
  },
  {
   "cell_type": "markdown",
   "metadata": {},
   "source": [
    "$$\n",
    "(1+0*2^{-1})*2^{-2} = 0.25 \\\\\n",
    "(1+0*2^{-1})*2^{-1} = 0.5 \\\\\n",
    "(1+0*2^{-1})*2^{0} = 1.5   \\\\\n",
    "(1+0*2^{-1})*2^{1} = 2 \\\\\n",
    "(1+0*2^{-1})*2^{2} = 4\\\\\n",
    "(1+1*2^{-1})*2^{-2} = 0.375 \\\\\n",
    "(1+1*2^{-1})*2^{-1} = 0.75 \\\\\n",
    "(1+1*2^{-1})*2^{0} = 1.5 \\\\\n",
    "(1+1*2^{-1})*2^{1} = 3 \\\\\n",
    "(1+1*2^{-1})*2^{2} = 6\n",
    "$$"
   ]
  },
  {
   "cell_type": "markdown",
   "metadata": {},
   "source": [
    "#### Problem 1(b)"
   ]
  },
  {
   "cell_type": "markdown",
   "metadata": {},
   "source": [
    "For each additional bit of precision, the number of representable number between two adjacent numbers doubles. So there would be $2^{q-1-(p-1)}-1 = 2^{q-p}-1$ new numbers between two previous adjacent numbers（not including the end points）."
   ]
  },
  {
   "cell_type": "markdown",
   "metadata": {},
   "source": [
    "#### Problem 1(c)"
   ]
  },
  {
   "cell_type": "markdown",
   "metadata": {},
   "source": [
    "By equation we derived from part b, it should be $2^{53-24} = 2^{29}$. If not including the endpoints, we should have $2^{29}-1$."
   ]
  },
  {
   "cell_type": "markdown",
   "metadata": {},
   "source": [
    "#### Problem 1(d)"
   ]
  },
  {
   "cell_type": "markdown",
   "metadata": {},
   "source": [
    "We can obtain the largest integer that can be represented by moving the decimal point to the right most position. The largest representable integer in Float64 is $2^{53}$. Thus The smallest positive integer that can not be represented by Float64 is $2^{53}+1$."
   ]
  },
  {
   "cell_type": "markdown",
   "metadata": {},
   "source": [
    "#### Problem 2(a)"
   ]
  },
  {
   "cell_type": "markdown",
   "metadata": {},
   "source": [
    "Operation: The function will perform exactly n time so that the total operation count is $\\mathcal{O}(n)$   \n",
    "\n",
    "\n",
    "Memory: The input is n and the output is s. The function creates s and output s. Thus the memory usage is $\\mathcal{O}(1)$"
   ]
  },
  {
   "cell_type": "markdown",
   "metadata": {},
   "source": [
    "#### Problem 2(b)"
   ]
  },
  {
   "cell_type": "markdown",
   "metadata": {},
   "source": [
    "Operation: let i be the number of digits of n. The function will perform exactly i time so that the total operation count is $\\mathcal{O}(log(n))$   \n",
    "\n",
    "\n",
    "Memory: The input is n and the output is an array digits. The function creates an array that stores exactly i elements. Thus the memory usage is $\\mathcal{O}(log(n))$"
   ]
  },
  {
   "cell_type": "markdown",
   "metadata": {},
   "source": [
    "#### Problem 2(c)"
   ]
  },
  {
   "cell_type": "markdown",
   "metadata": {},
   "source": [
    "Operation: The function will perform exactly n*n time to create an array so that the total operation count is $\\mathcal{O}(n^2)$. Although it still have n operations to change the diagnal to infinity and calls the minimum function, they are still bounded by $\\mathcal{O}(n^2)$.\n",
    "\n",
    "\n",
    "Memory: The input is an array x and the output is mindiff. The function creates a n*n matrix where n is the length of array x. Thus the memory usage is $\\mathcal{O}(n^2)$"
   ]
  },
  {
   "cell_type": "markdown",
   "metadata": {},
   "source": [
    "#### Problem 2(d)"
   ]
  },
  {
   "cell_type": "code",
   "execution_count": 27,
   "metadata": {},
   "outputs": [
    {
     "data": {
      "text/plain": [
       "0.07877861810416698"
      ]
     },
     "execution_count": 27,
     "metadata": {},
     "output_type": "execute_result"
    }
   ],
   "source": [
    "function p2d(x)\n",
    "    x = sort(x)\n",
    "    mindiff = Inf\n",
    "    for i in 1:(length(x) - 1)\n",
    "        if abs(x[i+1]-x[i])<mindiff\n",
    "            mindiff = abs(x[i+1]-x[i])\n",
    "        end\n",
    "    end\n",
    "    mindiff\n",
    "end"
   ]
  },
  {
   "cell_type": "markdown",
   "metadata": {},
   "source": [
    "Operation: The time complexity for sorting algorithm is $\\mathcal{O}(nlog(n))$, thus the entire function has operation complexity of $\\mathcal{O}(nlog(n))$.\n",
    "\n",
    "Memory: The input is an array x and the output is an integer. The function creates a n element array copy of x, thus it needs $\\mathcal{O}(n)$ memory."
   ]
  }
 ],
 "metadata": {
  "kernelspec": {
   "display_name": "Julia 1.10.0",
   "language": "julia",
   "name": "julia-1.10"
  },
  "language_info": {
   "file_extension": ".jl",
   "mimetype": "application/julia",
   "name": "julia",
   "version": "1.10.0"
  }
 },
 "nbformat": 4,
 "nbformat_minor": 2
}
