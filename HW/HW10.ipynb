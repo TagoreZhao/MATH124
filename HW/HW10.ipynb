{
 "cells": [
  {
   "cell_type": "markdown",
   "metadata": {},
   "source": [
    "#### Homework 10\n",
    "\n",
    "The code chunk below is from the description."
   ]
  },
  {
   "cell_type": "code",
   "execution_count": 220,
   "metadata": {},
   "outputs": [],
   "source": [
    "using PyPlot   # Packages needed\n",
    "\n",
    "struct MyPoly\n",
    "    c\n",
    "end\n",
    "\n",
    "function degree(p::MyPoly)\n",
    "    ix1 = findfirst(p.c .!= 0)\n",
    "    if ix1 == nothing\n",
    "        return 0\n",
    "    else\n",
    "        return length(p.c) - ix1\n",
    "    end\n",
    "end\n",
    "\n",
    "function Base.show(io::IO, p::MyPoly)\n",
    "    d = degree(p)\n",
    "    print(io, \"MyPoly(\")\n",
    "    for k = d:-1:0\n",
    "        coeff = p.c[end-k]\n",
    "        if coeff == 0 && d > 0\n",
    "            continue\n",
    "        end\n",
    "        if k < d\n",
    "            if isa(coeff, Real)\n",
    "                if coeff > 0\n",
    "                    print(io, \" + \")\n",
    "                else\n",
    "                    print(io, \" - \")\n",
    "                end\n",
    "                coeff = abs(coeff)\n",
    "            else\n",
    "                print(io, \" + \")\n",
    "            end\n",
    "        end\n",
    "        if isa(coeff, Real)\n",
    "            print(io, coeff)\n",
    "        else\n",
    "            print(io, \"($coeff)\")\n",
    "        end\n",
    "        if k == 0\n",
    "            continue\n",
    "        end\n",
    "        print(io, \"⋅x\")\n",
    "        if k > 1\n",
    "            print(io, \"^\", k)\n",
    "        end\n",
    "    end\n",
    "    print(io, \")\")\n",
    "end\n",
    "\n",
    "function (p::MyPoly)(x)\n",
    "    d = degree(p)\n",
    "    v = p.c[end-d]\n",
    "    for cc = p.c[end-d+1:end]\n",
    "        v = v*x + cc\n",
    "    end\n",
    "    if abs(v) <= 3.469446951953614e-15\n",
    "        return 0\n",
    "    end\n",
    "    return v\n",
    "end\n",
    "\n",
    "function PyPlot.plot(p::MyPoly, xlim=[-2,2])\n",
    "    xx = range(xlim[1], xlim[2], length=100)\n",
    "    plot(xx, p.(xx))\n",
    "    xlabel(\"x\")\n",
    "end\n",
    "\n",
    "function Base.:+(p1::MyPoly, p2::MyPoly)\n",
    "    d1 = length(p1.c)\n",
    "    d2 = length(p2.c)\n",
    "    d = max(d1,d2)\n",
    "    c = [fill(0, d-d1); p1.c] + [fill(0, d-d2); p2.c]\n",
    "    return MyPoly(c)\n",
    "end\n",
    "\n",
    "function Base.:-(p1::MyPoly, p2::MyPoly)\n",
    "    return p1 + MyPoly(-p2.c)\n",
    "end\n",
    "\n",
    "function Base.:*(a, p::MyPoly)\n",
    "    newp = deepcopy(p)\n",
    "    newp.c .*= a\n",
    "    return newp\n",
    "end\n",
    "\n",
    "function Base.:*(p::MyPoly, a)\n",
    "    return a*p\n",
    "end"
   ]
  },
  {
   "cell_type": "markdown",
   "metadata": {},
   "source": [
    "#### Problem 1(a)"
   ]
  },
  {
   "cell_type": "code",
   "execution_count": 212,
   "metadata": {},
   "outputs": [],
   "source": [
    "function Base.:*(p::MyPoly,q::MyPoly)\n",
    "    d1 = degree(p) #degree of the first polynomial\n",
    "    d2 = degree(q) #degree of the second polynomial\n",
    "    c = zeros(typeof(p.c[1]),d1+d2+1) #Create an array of degree(p)+degree(q) to store the final polynomial\n",
    "    \n",
    "    #We will time each term correspondingly and add it to the right position\n",
    "    for i in 1:(d1+1)\n",
    "        for j in 1:(d2+1)\n",
    "            c[i+j-1] += p.c[i]*q.c[j]\n",
    "        end\n",
    "    end\n",
    "    return MyPoly(c)\n",
    "end"
   ]
  },
  {
   "cell_type": "code",
   "execution_count": 213,
   "metadata": {},
   "outputs": [
    {
     "data": {
      "text/plain": [
       "MyPoly(4⋅x^4 - 5⋅x^3 - 5⋅x^2 - 1⋅x - 2)"
      ]
     },
     "metadata": {},
     "output_type": "display_data"
    },
    {
     "data": {
      "text/plain": [
       "MyPoly(-1//3⋅x^3 + 55//126⋅x^2 - 13//42⋅x + 3//28)"
      ]
     },
     "metadata": {},
     "output_type": "display_data"
    }
   ],
   "source": [
    "#Test Case\n",
    "p1 = MyPoly([1,-2])\n",
    "p2 = MyPoly([4,3,1,1])\n",
    "display(p1 * p2)  # Should have integer coefficients\n",
    "\n",
    "p1 = MyPoly([2//3, -3//7])\n",
    "p2 = MyPoly([-1//2, 1//3, -1//4])\n",
    "display(p1 * p2)  # Should have rational coefficients"
   ]
  },
  {
   "cell_type": "markdown",
   "metadata": {},
   "source": [
    "#### Problem 1(b)"
   ]
  },
  {
   "cell_type": "code",
   "execution_count": 214,
   "metadata": {},
   "outputs": [
    {
     "data": {
      "text/plain": [
       "MyPoly"
      ]
     },
     "execution_count": 214,
     "metadata": {},
     "output_type": "execute_result"
    }
   ],
   "source": [
    "function MyPoly(; roots)\n",
    "    c = MyPoly([1,-roots[1]])\n",
    "    for i in 2:(length(roots))\n",
    "        c = c*MyPoly([1,-roots[i]])\n",
    "    end\n",
    "    return c\n",
    "end"
   ]
  },
  {
   "cell_type": "code",
   "execution_count": 195,
   "metadata": {},
   "outputs": [
    {
     "data": {
      "text/plain": [
       "MyPoly(1⋅x^6 - 1⋅x^5 - 15⋅x^4 + 5⋅x^3 + 34⋅x^2 - 24⋅x)"
      ]
     },
     "metadata": {},
     "output_type": "display_data"
    }
   ],
   "source": [
    "#Test Case\n",
    "p = MyPoly(roots=[-3,-2,0,1,1,4])\n",
    "display(p)  # Should have integer coefficients\n",
    "#=\n",
    "p = MyPoly(roots=[-7//3,-2//1,0,1//2,1//2,3//2])\n",
    "display(p)  # Should have rational coefficients\n",
    "=#\n",
    "\n",
    "\n"
   ]
  },
  {
   "cell_type": "markdown",
   "metadata": {},
   "source": [
    "#### Problem 1(c)"
   ]
  },
  {
   "cell_type": "code",
   "execution_count": 70,
   "metadata": {},
   "outputs": [
    {
     "data": {
      "text/plain": [
       "differenciate (generic function with 2 methods)"
      ]
     },
     "execution_count": 70,
     "metadata": {},
     "output_type": "execute_result"
    }
   ],
   "source": [
    "function differenciate(p::MyPoly)\n",
    "    d = degree(p)\n",
    "\n",
    "    # return 0 if we have a constant\n",
    "    if d == 0 \n",
    "        return MyPoly(0)\n",
    "    end\n",
    "\n",
    "    c = zeros(typeof(p.c[1]),d) #Create an array to store the final polynomial\n",
    "\n",
    "    for i in 1:d\n",
    "        c[i] = p.c[i]*(d-i+1)\n",
    "    end\n",
    "\n",
    "    return MyPoly(c)\n",
    "end\n",
    "\n",
    "function differenciate(p)\n",
    "    return MyPoly(0)\n",
    "end"
   ]
  },
  {
   "cell_type": "code",
   "execution_count": 94,
   "metadata": {},
   "outputs": [
    {
     "data": {
      "text/plain": [
       "MyPoly(1⋅x^6 + 13⋅x^5 + 70⋅x^4 + 200⋅x^3 + 320⋅x^2 + 272⋅x + 96)"
      ]
     },
     "metadata": {},
     "output_type": "display_data"
    },
    {
     "data": {
      "text/plain": [
       "MyPoly(6⋅x^5 + 65⋅x^4 + 280⋅x^3 + 600⋅x^2 + 640⋅x + 272)"
      ]
     },
     "metadata": {},
     "output_type": "display_data"
    },
    {
     "data": {
      "text/plain": [
       "MyPoly(1//1⋅x^6 + 37//3⋅x^5 + 190//3⋅x^4 + 520//3⋅x^3 + 800//3⋅x^2 + 656//3⋅x + 224//3)"
      ]
     },
     "metadata": {},
     "output_type": "display_data"
    },
    {
     "data": {
      "text/plain": [
       "MyPoly(6//1⋅x^5 + 185//3⋅x^4 + 760//3⋅x^3 + 520//1⋅x^2 + 1600//3⋅x + 656//3)"
      ]
     },
     "metadata": {},
     "output_type": "display_data"
    }
   ],
   "source": [
    "#Test Case\n",
    "p = MyPoly(roots=[-3,-2,0,1,1,4])\n",
    "display(p)\n",
    "display(differenciate(p))\n",
    "\n",
    "p = MyPoly(roots=[-7//3,-2//1,0,1//2,1//2,3//2])\n",
    "display(p)\n",
    "display(differenciate(p))"
   ]
  },
  {
   "cell_type": "markdown",
   "metadata": {},
   "source": [
    "#### Problem 1(d)"
   ]
  },
  {
   "cell_type": "code",
   "execution_count": 182,
   "metadata": {},
   "outputs": [
    {
     "data": {
      "text/plain": [
       "integrate (generic function with 1 method)"
      ]
     },
     "execution_count": 182,
     "metadata": {},
     "output_type": "execute_result"
    }
   ],
   "source": [
    "function integrate(p::MyPoly)\n",
    "    d = degree(p)\n",
    "        if typeof(p.c[1]) == Int\n",
    "            c = zeros(Float64,d+2) \n",
    "        else\n",
    "            c = zeros(typeof(p.c[1]),d+2) \n",
    "        end\n",
    "\n",
    "    for i in 1:(d+1)\n",
    "        c[i] = p.c[i] / (d+2-i)\n",
    "    end\n",
    "    \n",
    "    return MyPoly(c)\n",
    "end"
   ]
  },
  {
   "cell_type": "code",
   "execution_count": 183,
   "metadata": {},
   "outputs": [
    {
     "data": {
      "text/plain": [
       "MyPoly(1⋅x^6 + 13⋅x^5 + 70⋅x^4 + 200⋅x^3 + 320⋅x^2 + 272⋅x + 96)"
      ]
     },
     "metadata": {},
     "output_type": "display_data"
    },
    {
     "data": {
      "text/plain": [
       "MyPoly(0.14285714285714285⋅x^7 + 2.1666666666666665⋅x^6 + 14.0⋅x^5 + 50.0⋅x^4 + 106.66666666666667⋅x^3 + 136.0⋅x^2 + 96.0⋅x)"
      ]
     },
     "metadata": {},
     "output_type": "display_data"
    },
    {
     "data": {
      "text/plain": [
       "MyPoly(1//1⋅x^6 + 37//3⋅x^5 + 190//3⋅x^4 + 520//3⋅x^3 + 800//3⋅x^2 + 656//3⋅x + 224//3)"
      ]
     },
     "metadata": {},
     "output_type": "display_data"
    },
    {
     "data": {
      "text/plain": [
       "MyPoly(1//7⋅x^7 + 37//18⋅x^6 + 38//3⋅x^5 + 130//3⋅x^4 + 800//9⋅x^3 + 328//3⋅x^2 + 224//3⋅x)"
      ]
     },
     "metadata": {},
     "output_type": "display_data"
    }
   ],
   "source": [
    "p = MyPoly(roots=[-3,-2,0,1,1,4])\n",
    "display(p)\n",
    "display(integrate(p))\n",
    "\n",
    "p = MyPoly(roots=[-7//3,-2//1,0,1//2,1//2,3//2])\n",
    "display(p)\n",
    "display(integrate(p))"
   ]
  },
  {
   "cell_type": "markdown",
   "metadata": {},
   "source": [
    "#### Problem 2"
   ]
  },
  {
   "cell_type": "code",
   "execution_count": 222,
   "metadata": {},
   "outputs": [
    {
     "data": {
      "image/png": "[encoded data removed]",
      "text/plain": [
       "Figure(PyObject <Figure size 640x480 with 1 Axes>)"
      ]
     },
     "metadata": {},
     "output_type": "display_data"
    }
   ],
   "source": [
    "function LagrangePolynomials(s)\n",
    "    n = length(s)\n",
    "    d = n-1\n",
    "    L = []\n",
    "    for i in 1:n\n",
    "        scaler = 1/(prod([(s[i]-s[k]) for k in 1:n if k != i]))\n",
    "        Lk = scaler * MyPoly(roots = [s[m] for m in 1:n if m != i])\n",
    "        push!(L,Lk)\n",
    "    end\n",
    "    return L\n",
    "end\n",
    "\n",
    "Ls = LagrangePolynomials((0:6) / 6)\n",
    "plot.(Ls, Ref([0,1]));\n"
   ]
  },
  {
   "cell_type": "code",
   "execution_count": 225,
   "metadata": {},
   "outputs": [
    {
     "data": {
      "text/plain": [
       "0.9999999999999999"
      ]
     },
     "execution_count": 225,
     "metadata": {},
     "output_type": "execute_result"
    }
   ],
   "source": [
    "# Test Case\n",
    "s = (0:6) / 6\n",
    "scaler = 1/(prod([(s[1]-s[k]) for k in 1:7 if k != 1]))\n",
    "Lk =  scaler*MyPoly(roots = [s[m] for m in 1:7 if m != 1])\n",
    "Lk(s[1])"
   ]
  },
  {
   "cell_type": "markdown",
   "metadata": {},
   "source": [
    "#### Problem 2(b)"
   ]
  },
  {
   "cell_type": "code",
   "execution_count": 227,
   "metadata": {},
   "outputs": [
    {
     "data": {
      "text/plain": [
       "mkK (generic function with 1 method)"
      ]
     },
     "execution_count": 227,
     "metadata": {},
     "output_type": "execute_result"
    }
   ],
   "source": [
    "function mkM(Ls)\n",
    "    n = length(Ls)\n",
    "    M = zeros(n,n)\n",
    "    for i in 1:n\n",
    "        for j in 1:n\n",
    "            Lk = integrate(Ls[i]*Ls[j])\n",
    "            M[i,j] = Lk(1)-Lk(0)\n",
    "        end\n",
    "    end\n",
    "    return M\n",
    "end\n",
    "\n",
    "function mkK(Ls)\n",
    "    n = length(Ls)\n",
    "    M = zeros(n,n)\n",
    "    for i in 1:n\n",
    "        for j in 1:n\n",
    "            Lk = integrate(differenciate(Ls[i])*differenciate(Ls[j]))\n",
    "            M[i,j] = Lk(1)-Lk(0)\n",
    "        end\n",
    "    end\n",
    "    return M\n",
    "end"
   ]
  },
  {
   "cell_type": "code",
   "execution_count": 228,
   "metadata": {},
   "outputs": [
    {
     "data": {
      "text/plain": [
       "5-element Vector{Any}:\n",
       " MyPoly(32//3⋅x^4 - 80//3⋅x^3 + 70//3⋅x^2 - 25//3⋅x + 1//1)\n",
       " MyPoly(-128//3⋅x^4 + 96//1⋅x^3 - 208//3⋅x^2 + 16//1⋅x)\n",
       " MyPoly(64//1⋅x^4 - 128//1⋅x^3 + 76//1⋅x^2 - 12//1⋅x)\n",
       " MyPoly(-128//3⋅x^4 + 224//3⋅x^3 - 112//3⋅x^2 + 16//3⋅x)\n",
       " MyPoly(32//3⋅x^4 - 16//1⋅x^3 + 22//3⋅x^2 - 1//1⋅x)"
      ]
     },
     "metadata": {},
     "output_type": "display_data"
    },
    {
     "data": {
      "text/plain": [
       "5×5 Matrix{Float64}:\n",
       "  0.0514991    0.0522046   -0.0306878   0.00987654  -0.00511464\n",
       "  0.0522046    0.316049    -0.0677249   0.0451499    0.00987654\n",
       " -0.0306878   -0.0677249    0.330159   -0.0677249   -0.0306878\n",
       "  0.00987654   0.0451499   -0.0677249   0.316049     0.0522046\n",
       " -0.00511464   0.00987654  -0.0306878   0.0522046    0.0514991"
      ]
     },
     "metadata": {},
     "output_type": "display_data"
    },
    {
     "data": {
      "text/plain": [
       "5×5 Matrix{Float64}:\n",
       "  5.21164    -7.24656    3.2254   -1.55767   0.367196\n",
       " -7.24656    17.6085   -15.0349    6.23069  -1.55767\n",
       "  3.2254    -15.0349    23.619   -15.0349    3.2254\n",
       " -1.55767     6.23069  -15.0349   17.6085   -7.24656\n",
       "  0.367196   -1.55767    3.2254   -7.24656   5.21164"
      ]
     },
     "metadata": {},
     "output_type": "display_data"
    }
   ],
   "source": [
    "d = 4\n",
    "Ls = LagrangePolynomials((0:d) // d)\n",
    "M = mkM(Ls)\n",
    "K = mkK(Ls)\n",
    "display(Ls)\n",
    "display(M)\n",
    "display(K)"
   ]
  }
 ],
 "metadata": {
  "kernelspec": {
   "display_name": "Julia 1.10.0",
   "language": "julia",
   "name": "julia-1.10"
  },
  "language_info": {
   "file_extension": ".jl",
   "mimetype": "application/julia",
   "name": "julia",
   "version": "1.10.0"
  }
 },
 "nbformat": 4,
 "nbformat_minor": 2
}
