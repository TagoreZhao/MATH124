{
 "cells": [
  {
   "cell_type": "markdown",
   "metadata": {},
   "source": [
    "### Problem 1"
   ]
  },
  {
   "cell_type": "markdown",
   "metadata": {},
   "source": [
    "$fun1(x,y) = (x+y)+\\sum_{x=1}^{x-1}x$\n",
    "\n",
    "The test for the equation is given below."
   ]
  },
  {
   "cell_type": "code",
   "execution_count": 38,
   "metadata": {},
   "outputs": [
    {
     "data": {
      "text/plain": [
       "true"
      ]
     },
     "execution_count": 38,
     "metadata": {},
     "output_type": "execute_result"
    }
   ],
   "source": [
    "function fun1(x,y)\n",
    "    if x == 0\n",
    "        return y\n",
    "    else\n",
    "        return fun1(x - 1, x + y)\n",
    "    end\n",
    "end\n",
    "function test1(n_trial)\n",
    "    for i in 1:n_trial\n",
    "        x = rand(1:n_trial)\n",
    "        y = rand(1:n_trial)\n",
    "        if !((x+y)+sum(1:(x-1)) == fun1(x,y))\n",
    "            return false\n",
    "        end\n",
    "    end\n",
    "    return true\n",
    "end\n",
    "test1(100)\n"
   ]
  },
  {
   "cell_type": "markdown",
   "metadata": {},
   "source": [
    "### Problem 2\n",
    "\n",
    "$fun2(a,b) = a^b$"
   ]
  },
  {
   "cell_type": "code",
   "execution_count": 40,
   "metadata": {},
   "outputs": [
    {
     "data": {
      "text/plain": [
       "true"
      ]
     },
     "execution_count": 40,
     "metadata": {},
     "output_type": "execute_result"
    }
   ],
   "source": [
    "function fun2(a,b)\n",
    "    if b == 0\n",
    "        return 1\n",
    "    elseif b % 2 == 0\n",
    "        return fun2(a * a, b ÷ 2)\n",
    "    else\n",
    "        return fun2(a * a, b ÷ 2) * a\n",
    "    end\n",
    "end\n",
    "function test2(n_trial)\n",
    "    for i in 1:n_trial\n",
    "        x = rand(1:n_trial)\n",
    "        y = rand(1:n_trial)\n",
    "        if !(x^y == fun2(x,y))\n",
    "            return false\n",
    "        end\n",
    "    end\n",
    "    return true\n",
    "end\n",
    "test1(100)"
   ]
  },
  {
   "cell_type": "markdown",
   "metadata": {},
   "source": [
    "### Problem 3\n",
    "\n",
    "The outcome is 0 1 2 0 3 0 1 4 0 1 2 0."
   ]
  },
  {
   "cell_type": "code",
   "execution_count": 42,
   "metadata": {},
   "outputs": [
    {
     "name": "stdout",
     "output_type": "stream",
     "text": [
      "0 1 2 0 3 0 1 4 0 1 2 0 "
     ]
    }
   ],
   "source": [
    "function fun3(x)\n",
    "    if x > 0\n",
    "        x -= 1\n",
    "        fun3(x)\n",
    "        print(x, \" \")\n",
    "        x -= 1\n",
    "        fun3(x)\n",
    "    end\n",
    "end\n",
    "\n",
    "fun3(5)\n"
   ]
  },
  {
   "cell_type": "markdown",
   "metadata": {},
   "source": [
    "### Problem 4(a)"
   ]
  },
  {
   "cell_type": "code",
   "execution_count": 21,
   "metadata": {},
   "outputs": [
    {
     "data": {
      "text/plain": [
       "500×600 Matrix{ComplexF64}:\n",
       " -2.25-1.25im     -2.24499-1.25im     …  0.744992-1.25im     0.75-1.25im\n",
       " -2.25-1.24499im  -2.24499-1.24499im     0.744992-1.24499im  0.75-1.24499im\n",
       " -2.25-1.23998im  -2.24499-1.23998im     0.744992-1.23998im  0.75-1.23998im\n",
       " -2.25-1.23497im  -2.24499-1.23497im     0.744992-1.23497im  0.75-1.23497im\n",
       " -2.25-1.22996im  -2.24499-1.22996im     0.744992-1.22996im  0.75-1.22996im\n",
       " -2.25-1.22495im  -2.24499-1.22495im  …  0.744992-1.22495im  0.75-1.22495im\n",
       " -2.25-1.21994im  -2.24499-1.21994im     0.744992-1.21994im  0.75-1.21994im\n",
       " -2.25-1.21493im  -2.24499-1.21493im     0.744992-1.21493im  0.75-1.21493im\n",
       " -2.25-1.20992im  -2.24499-1.20992im     0.744992-1.20992im  0.75-1.20992im\n",
       " -2.25-1.20491im  -2.24499-1.20491im     0.744992-1.20491im  0.75-1.20491im\n",
       " -2.25-1.1999im   -2.24499-1.1999im   …  0.744992-1.1999im   0.75-1.1999im\n",
       " -2.25-1.19489im  -2.24499-1.19489im     0.744992-1.19489im  0.75-1.19489im\n",
       " -2.25-1.18988im  -2.24499-1.18988im     0.744992-1.18988im  0.75-1.18988im\n",
       "      ⋮                               ⋱                      \n",
       " -2.25+1.19489im  -2.24499+1.19489im     0.744992+1.19489im  0.75+1.19489im\n",
       " -2.25+1.1999im   -2.24499+1.1999im      0.744992+1.1999im   0.75+1.1999im\n",
       " -2.25+1.20491im  -2.24499+1.20491im  …  0.744992+1.20491im  0.75+1.20491im\n",
       " -2.25+1.20992im  -2.24499+1.20992im     0.744992+1.20992im  0.75+1.20992im\n",
       " -2.25+1.21493im  -2.24499+1.21493im     0.744992+1.21493im  0.75+1.21493im\n",
       " -2.25+1.21994im  -2.24499+1.21994im     0.744992+1.21994im  0.75+1.21994im\n",
       " -2.25+1.22495im  -2.24499+1.22495im     0.744992+1.22495im  0.75+1.22495im\n",
       " -2.25+1.22996im  -2.24499+1.22996im  …  0.744992+1.22996im  0.75+1.22996im\n",
       " -2.25+1.23497im  -2.24499+1.23497im     0.744992+1.23497im  0.75+1.23497im\n",
       " -2.25+1.23998im  -2.24499+1.23998im     0.744992+1.23998im  0.75+1.23998im\n",
       " -2.25+1.24499im  -2.24499+1.24499im     0.744992+1.24499im  0.75+1.24499im\n",
       " -2.25+1.25im     -2.24499+1.25im        0.744992+1.25im     0.75+1.25im"
      ]
     },
     "metadata": {},
     "output_type": "display_data"
    }
   ],
   "source": [
    "\n",
    "function mkCmatrix(xmin,xmax,ymin,ymax,nx,ny)\n",
    "    C =  Complex.(zeros(ny,nx))\n",
    "    x = collect(range(xmin, stop = xmax, length =nx))\n",
    "    y = collect(range(ymin, stop = ymax, length = ny))\n",
    "    for i in 1:ny \n",
    "        for j in 1:nx\n",
    "            C[i,j] = x[j]+y[i]im\n",
    "        end\n",
    "    end\n",
    "    return C\n",
    "end\n",
    "C = mkCmatrix(-2.25, 0.75, -1.25, 1.25, 600, 500)\n",
    "display(C)"
   ]
  },
  {
   "cell_type": "code",
   "execution_count": null,
   "metadata": {},
   "outputs": [],
   "source": []
  }
 ],
 "metadata": {
  "kernelspec": {
   "display_name": "Julia 1.10.0",
   "language": "julia",
   "name": "julia-1.10"
  },
  "language_info": {
   "file_extension": ".jl",
   "mimetype": "application/julia",
   "name": "julia",
   "version": "1.10.0"
  }
 },
 "nbformat": 4,
 "nbformat_minor": 2
}
