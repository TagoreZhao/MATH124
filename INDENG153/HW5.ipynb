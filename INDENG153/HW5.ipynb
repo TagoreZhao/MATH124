{
 "cells": [
  {
   "cell_type": "code",
   "execution_count": 2,
   "metadata": {},
   "outputs": [],
   "source": [
    "using Optim"
   ]
  },
  {
   "cell_type": "code",
   "execution_count": 4,
   "metadata": {},
   "outputs": [
    {
     "data": {
      "text/plain": [
       "14.647329234563065"
      ]
     },
     "execution_count": 4,
     "metadata": {},
     "output_type": "execute_result"
    }
   ],
   "source": [
    "# Define the function to maximize\n",
    "f(x) = (100 - x) / (10 / sqrt(x) + 5)\n",
    "\n",
    "# Define the negative of the function to minimize\n",
    "neg_f(x) = -f(x)\n",
    "\n",
    "# Initial guess for the optimizer\n",
    "x0 = 1.0\n",
    "\n",
    "# Find the maximum of the function\n",
    "result = optimize(neg_f, 0.01, 100.0)  # Optimizing within the range [0.01, 100.0]\n",
    "\n",
    "Optim.minimizer(result)\n"
   ]
  },
  {
   "cell_type": "code",
   "execution_count": 7,
   "metadata": {},
   "outputs": [
    {
     "name": "stdout",
     "output_type": "stream",
     "text": [
      "maximum achieves at O = 15\n"
     ]
    },
    {
     "data": {
      "text/plain": [
       "11.210778748086167"
      ]
     },
     "execution_count": 7,
     "metadata": {},
     "output_type": "execute_result"
    }
   ],
   "source": [
    "n = findfirst(x ->x == maximum(f.(1:100)),f.(1:100))\n",
    "println(\"maximum achieves at O = \",n)\n",
    "f(15)"
   ]
  }
 ],
 "metadata": {
  "kernelspec": {
   "display_name": "Julia 1.10.0",
   "language": "julia",
   "name": "julia-1.10"
  },
  "language_info": {
   "file_extension": ".jl",
   "mimetype": "application/julia",
   "name": "julia",
   "version": "1.10.0"
  }
 },
 "nbformat": 4,
 "nbformat_minor": 2
}
