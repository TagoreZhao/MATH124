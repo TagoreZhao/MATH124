{
 "cells": [
  {
   "cell_type": "code",
   "execution_count": 2,
   "metadata": {},
   "outputs": [],
   "source": [
    "using Optim"
   ]
  },
  {
   "cell_type": "code",
   "execution_count": 5,
   "metadata": {},
   "outputs": [
    {
     "data": {
      "text/plain": [
       "2.924017735193394"
      ]
     },
     "execution_count": 5,
     "metadata": {},
     "output_type": "execute_result"
    }
   ],
   "source": [
    "# Define the function to minimize\n",
    "f(x) = x + 10/sqrt(x) + 15\n",
    "\n",
    "# Initial guess for the optimizer\n",
    "x0 = 3.0\n",
    "\n",
    "# Find the maximum of the function\n",
    "result = optimize(f, 0.01, 1000.0)  # Optimizing within the range [0.01, 100.0]\n",
    "\n",
    "Optim.minimizer(result)\n"
   ]
  },
  {
   "cell_type": "code",
   "execution_count": 11,
   "metadata": {},
   "outputs": [
    {
     "name": "stdout",
     "output_type": "stream",
     "text": [
      "minimum achieves at x = 3\n"
     ]
    },
    {
     "data": {
      "text/plain": [
       "23.773502691896258"
      ]
     },
     "execution_count": 11,
     "metadata": {},
     "output_type": "execute_result"
    }
   ],
   "source": [
    "n = findfirst(x ->x == minimum(f.(1:100)),f.(1:100))\n",
    "println(\"minimum achieves at x = \",n)\n",
    "f(3)"
   ]
  }
 ],
 "metadata": {
  "kernelspec": {
   "display_name": "Julia 1.10.0",
   "language": "julia",
   "name": "julia-1.10"
  },
  "language_info": {
   "file_extension": ".jl",
   "mimetype": "application/julia",
   "name": "julia",
   "version": "1.10.0"
  }
 },
 "nbformat": 4,
 "nbformat_minor": 2
}
