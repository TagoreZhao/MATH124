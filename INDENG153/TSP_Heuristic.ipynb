{
 "cells": [
  {
   "cell_type": "code",
   "execution_count": 2,
   "metadata": {},
   "outputs": [],
   "source": [
    "#We will start by doing some ground work \n",
    "struct Vertex\n",
    "    neighbors::Vector{Int}       # Indices of neighbors of this Vertex\n",
    "    distances::Vector{Int}       # The distance between this vertex and its neighbor\n",
    "    #coordinates::Vector{Float64} # 2D coordinates of this Vertex - only for plotting\n",
    "    Vertex(neighbors; distances = zeros(length(neighbors))) = new(neighbors, distances)\n",
    "end\n",
    "\n",
    "function Base.show(io::IO, v::Vertex)\n",
    "    print(io, \"Neighbors = \", v.neighbors)\n",
    "end\n",
    "\n",
    "struct Graph\n",
    "    vertices::Vector{Vertex}\n",
    "end\n",
    "\n",
    "function Base.show(io::IO,g::Graph)\n",
    "    for i = 1:length(g.vertices)\n",
    "        println(io, \"Vertex $i\", g.vertices[i])\n",
    "    end\n",
    "end"
   ]
  },
  {
   "cell_type": "code",
   "execution_count": 6,
   "metadata": {},
   "outputs": [
    {
     "data": {
      "text/plain": [
       "Vertex 1Neighbors = [2, 4, 6]\n",
       "Vertex 2Neighbors = [1, 4, 5]\n",
       "Vertex 3Neighbors = [2, 5, 8]\n",
       "Vertex 4Neighbors = [1, 2, 5, 6]\n",
       "Vertex 5Neighbors = [2, 3, 4, 6, 7, 8]\n",
       "Vertex 6Neighbors = [1, 4, 5, 7]\n",
       "Vertex 7Neighbors = [3, 5, 6, 8]\n",
       "Vertex 8Neighbors = [3, 5, 7]\n"
      ]
     },
     "execution_count": 6,
     "metadata": {},
     "output_type": "execute_result"
    }
   ],
   "source": [
    "#We will initialize the graph.\n",
    "#Important Notice: We require the neighbors and distances to be putted into corresponding order.\n",
    "v1 = Vertex([2,4,6],distances=[4,6,8])\n",
    "v2 = Vertex([1,4,5],distances=[4,3,5])\n",
    "v3 = Vertex([2,5,8],distances=[10,7,5])\n",
    "v4 = Vertex([1,2,5,6],distances=[6,3,8,5])\n",
    "v5 = Vertex([2,3,4,6,7,8],distances=[5,7,8,6,7,7])\n",
    "v6 = Vertex([1,4,5,7],distances=[8,5,6,12])\n",
    "v7 = Vertex([3,5,6,8],distances=[9,7,12,4])\n",
    "v8 = Vertex([3,5,7],distances=[5,7,4])\n",
    "g = Graph([v1,v2,v3,v4,v5,v6,v7,v8])\n",
    "\n",
    "#We will also need a matrix storing all distances between all nodes\n",
    "C = []"
   ]
  },
  {
   "cell_type": "code",
   "execution_count": 30,
   "metadata": {},
   "outputs": [
    {
     "name": "stdout",
     "output_type": "stream",
     "text": [
      "The path obtained using the nearest neighbor algorithm is: [1, 2, 4, 6, 5, 3, 8, 7, 1]\n",
      "return the index of: 1return the index of: 2return the index of: 4return the index of: 3return the index of: 2return the index of: 3return the index of: 3return the index of: nothing"
     ]
    },
    {
     "data": {
      "text/plain": [
       "0"
      ]
     },
     "execution_count": 30,
     "metadata": {},
     "output_type": "execute_result"
    }
   ],
   "source": [
    "function TSP_neighbor(G::Graph,start::Int)\n",
    "    visited = falses(length(g.vertices))\n",
    "    path = Int64[]\n",
    "    function visit(ivertex)\n",
    "        visited[ivertex] = true\n",
    "        #println(\"now we look at the next step neighbors: \",visited[G.vertices[ivertex].neighbors])\n",
    "        #println(\"path: \", path)\n",
    "        length = 0\n",
    "        if all(visited[G.vertices[ivertex].neighbors])\n",
    "            push!(path,ivertex)\n",
    "            push!(path,start)\n",
    "            return nothing\n",
    "        end\n",
    "        push!(path,ivertex)\n",
    "        for i in G.vertices[ivertex].neighbors[sortperm(G.vertices[ivertex].distances)]\n",
    "            if !visited[i]\n",
    "                visit(i)\n",
    "            end\n",
    "        end\n",
    "        return nothing\n",
    "    end\n",
    "    visit(start)\n",
    "    return path\n",
    "end\n",
    "\n",
    "tsp_neighbor_path = TSP_neighbor(g,1)\n",
    "\n",
    "function total_length(G::Graph,path::Vector)\n",
    "    len = 0 \n",
    "    for i in 1:length(path)-1\n",
    "        ver = path[i]\n",
    "        ver1 = path[i+1]\n",
    "        print(\"return the index of: \", findfirst(x -> x == ver1, G.vertices[ver].neighbors))\n",
    "        #len += G.vertices[ver].distances[findfirst(x -> x == ver1, G.vertices[ver].neighbors)]\n",
    "    end\n",
    "    return len\n",
    "end\n",
    "println(\"The path obtained using the nearest neighbor algorithm is: \", tsp_neighbor_path)\n",
    "total_length(g,tsp_neighbor_path)\n"
   ]
  },
  {
   "cell_type": "code",
   "execution_count": 5,
   "metadata": {},
   "outputs": [
    {
     "data": {
      "text/plain": [
       "2"
      ]
     },
     "execution_count": 5,
     "metadata": {},
     "output_type": "execute_result"
    }
   ],
   "source": [
    "#This is the test chunk\n",
    "\n",
    "#g.vertices[1].neighbors[sortperm(g.vertices[1].distances)][1]\n",
    "#all(.![false,false,false])\n",
    "#ex = [1 2 3]\n",
    "#ex2 = [2 1 4]\n",
    "#sortperm(ex2, dims = 2)\n",
    "#ex2[sortperm(ex2, dims = 2)[:]]\n",
    "#sort(ex, by = ex[2,:], dims = 2)"
   ]
  }
 ],
 "metadata": {
  "kernelspec": {
   "display_name": "Julia 1.10.0",
   "language": "julia",
   "name": "julia-1.10"
  },
  "language_info": {
   "file_extension": ".jl",
   "mimetype": "application/julia",
   "name": "julia",
   "version": "1.10.0"
  }
 },
 "nbformat": 4,
 "nbformat_minor": 2
}
