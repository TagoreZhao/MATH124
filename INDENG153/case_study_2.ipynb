{
 "cells": [
  {
   "cell_type": "markdown",
   "metadata": {},
   "source": [
    "### Case Study- Flexiweight"
   ]
  },
  {
   "cell_type": "markdown",
   "metadata": {},
   "source": [
    "#### 1. import the data"
   ]
  },
  {
   "cell_type": "code",
   "execution_count": 18,
   "metadata": {},
   "outputs": [
    {
     "data": {
      "text/plain": [
       "9-element Vector{String}:\n",
       " \"Solver Demo\"\n",
       " \"Inventory\"\n",
       " \"Demands\"\n",
       " \"Shipping costs\"\n",
       " \"Shipping cost graph\"\n",
       " \"Shipping Linear Program\"\n",
       " \"BA_Hidden_Sheet1\"\n",
       " \"BA_Hidden_Sheet1 (2)\"\n",
       " \"BA_Hidden_Sim. (shadow cost)\""
      ]
     },
     "execution_count": 18,
     "metadata": {},
     "output_type": "execute_result"
    }
   ],
   "source": [
    "using DataFrames\n",
    "using XLSX\n",
    "xf = XLSX.readxlsx(\"flexiweight_pre_class.xlsx\")\n",
    "XLSX.sheetnames(xf)\n",
    "#d = xf[\"Shipping Linear Program\"]\n",
    "\n",
    "#same_day = DataFrame(d[\"R14:U20\"],d[\"R13:U13\"][:])"
   ]
  }
 ],
 "metadata": {
  "kernelspec": {
   "display_name": "Julia 1.10.0",
   "language": "julia",
   "name": "julia-1.10"
  },
  "language_info": {
   "file_extension": ".jl",
   "mimetype": "application/julia",
   "name": "julia",
   "version": "1.10.0"
  }
 },
 "nbformat": 4,
 "nbformat_minor": 2
}
