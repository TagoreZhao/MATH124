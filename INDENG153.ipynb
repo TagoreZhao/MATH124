{
 "cells": [
  {
   "cell_type": "markdown",
   "metadata": {},
   "source": [
    "#### UFLP Model"
   ]
  },
  {
   "cell_type": "code",
   "execution_count": 37,
   "metadata": {},
   "outputs": [
    {
     "data": {
      "text/plain": [
       "200"
      ]
     },
     "execution_count": 37,
     "metadata": {},
     "output_type": "execute_result"
    }
   ],
   "source": [
    "using DataFrames\n",
    "using XLSX\n",
    "import XLSX\n",
    "xf = XLSX.readxlsx(\"10node.xlsx\")\n",
    "XLSX.sheetnames(xf)\n",
    "d = xf[\"Sheet1\"]\n",
    "location = d[\"A2:E12\"]\n",
    "location = DataFrame(location[2:end,:],location[1,:])\n",
    "distances = d[\"A15:K25\"]\n",
    "distances = DataFrame(distances[2:end,2:end], :auto)\n",
    "location[1,\"Fixed Cost\"]\n"
   ]
  },
  {
   "cell_type": "code",
   "execution_count": 8,
   "metadata": {},
   "outputs": [
    {
     "data": {
      "text/plain": [
       "UFLP_heuristic (generic function with 1 method)"
      ]
     },
     "execution_count": 8,
     "metadata": {},
     "output_type": "execute_result"
    }
   ],
   "source": [
    "\n",
    "function calc_trans_cost(location,distances,status,assignment) #Given the opening of the inventory and the assignment, calculate the cost.\n",
    "\n",
    "\n",
    "\n",
    "end\n",
    "\n",
    "function UFLP_heuristic(location,distances,x,y)\n",
    "    status = false(nrow(location)) #this is indicate whether a index is a inventory or not. If true it is an inventory, else it is a demand\n",
    "    assignment = zeros(nrow(location)) #this is to indicate where are the demands assigned to.\n",
    "    cost = typemax(Int64)#Initialize the cost to the largest possible number.\n",
    "    temp_cost = typemax(Int64)#A temporary cost for each iteration, it will contain the minimum cost for each iteration.\n",
    "    terminal = true #if all next possible opening will incur a larger cost we terminate.\n",
    "    while terminal\n",
    "        for i in 1 : length(status) \n",
    "            if !status[i] #try openning locations at the place where there is no inventory\n",
    "                status[i] = true\n",
    "                #Now we need to decide the assigment of the demands\n",
    "                temp_assigment = zeros(nrow(location)) #we need a temp_assigment and only record it if it brings a lower cost.\n",
    "                for j in length(status)\n",
    "                    if !status[j]\n",
    "                        assignment[j] = findfirst(x -> x==minimum(distances[j,status]),status) #assign the demand j to the inventory with the lowest distance\n",
    "                    end\n",
    "                end\n",
    "                if temp_cost < sum(status.*location[1,\"Fixed Cost\"])+ #this is to calculate the best, need to add in transportation cost\n",
    "                    #need to update tempcost and the assigment\n",
    "                else\n",
    "                    #we keep everything the same\n",
    "                end\n",
    "            end\n",
    "        end\n",
    "    end\n",
    "\n",
    "end"
   ]
  },
  {
   "cell_type": "code",
   "execution_count": 33,
   "metadata": {},
   "outputs": [
    {
     "data": {
      "text/plain": [
       "12"
      ]
     },
     "execution_count": 33,
     "metadata": {},
     "output_type": "execute_result"
    }
   ],
   "source": [
    "a=trues(10)\n",
    "a[1] = a[3] = a[7] = a[9] = false\n",
    "b = zeros(5)\n",
    "b .= typemax(Int64)\n",
    "#findfirst(x -> x==minimum(distances[2,a]),a)\n",
    "sum(a.*2)"
   ]
  }
 ],
 "metadata": {
  "kernelspec": {
   "display_name": "Julia 1.10.0",
   "language": "julia",
   "name": "julia-1.10"
  },
  "language_info": {
   "file_extension": ".jl",
   "mimetype": "application/julia",
   "name": "julia",
   "version": "1.10.0"
  }
 },
 "nbformat": 4,
 "nbformat_minor": 2
}
