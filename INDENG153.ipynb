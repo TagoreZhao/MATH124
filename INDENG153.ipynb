{
 "cells": [
  {
   "cell_type": "markdown",
   "metadata": {},
   "source": [
    "#### UFLP Model"
   ]
  },
  {
   "cell_type": "code",
   "execution_count": 3,
   "metadata": {},
   "outputs": [
    {
     "data": {
      "text/html": [
       "<div><div style = \"float: left;\"><span>10×10 DataFrame</span></div><div style = \"clear: both;\"></div></div><div class = \"data-frame\" style = \"overflow-x: scroll;\"><table class = \"data-frame\" style = \"margin-bottom: 6px;\"><thead><tr class = \"header\"><th class = \"rowNumber\" style = \"font-weight: bold; text-align: right;\">Row</th><th style = \"text-align: left;\">x1</th><th style = \"text-align: left;\">x2</th><th style = \"text-align: left;\">x3</th><th style = \"text-align: left;\">x4</th><th style = \"text-align: left;\">x5</th><th style = \"text-align: left;\">x6</th><th style = \"text-align: left;\">x7</th><th style = \"text-align: left;\">x8</th><th style = \"text-align: left;\">x9</th><th style = \"text-align: left;\">x10</th></tr><tr class = \"subheader headerLastRow\"><th class = \"rowNumber\" style = \"font-weight: bold; text-align: right;\"></th><th title = \"Any\" style = \"text-align: left;\">Any</th><th title = \"Any\" style = \"text-align: left;\">Any</th><th title = \"Any\" style = \"text-align: left;\">Any</th><th title = \"Any\" style = \"text-align: left;\">Any</th><th title = \"Any\" style = \"text-align: left;\">Any</th><th title = \"Any\" style = \"text-align: left;\">Any</th><th title = \"Any\" style = \"text-align: left;\">Any</th><th title = \"Any\" style = \"text-align: left;\">Any</th><th title = \"Any\" style = \"text-align: left;\">Any</th><th title = \"Any\" style = \"text-align: left;\">Any</th></tr></thead><tbody><tr><td class = \"rowNumber\" style = \"font-weight: bold; text-align: right;\">1</td><td style = \"text-align: left;\">0.0</td><td style = \"text-align: left;\">9.21954</td><td style = \"text-align: left;\">3.0</td><td style = \"text-align: left;\">7.07107</td><td style = \"text-align: left;\">8.544</td><td style = \"text-align: left;\">4.47214</td><td style = \"text-align: left;\">6.7082</td><td style = \"text-align: left;\">3.60555</td><td style = \"text-align: left;\">5.09902</td><td style = \"text-align: left;\">5.0</td></tr><tr><td class = \"rowNumber\" style = \"font-weight: bold; text-align: right;\">2</td><td style = \"text-align: left;\">9.21954</td><td style = \"text-align: left;\">0.0</td><td style = \"text-align: left;\">7.61577</td><td style = \"text-align: left;\">5.0</td><td style = \"text-align: left;\">4.47214</td><td style = \"text-align: left;\">5.0</td><td style = \"text-align: left;\">3.16228</td><td style = \"text-align: left;\">5.65685</td><td style = \"text-align: left;\">6.08276</td><td style = \"text-align: left;\">7.07107</td></tr><tr><td class = \"rowNumber\" style = \"font-weight: bold; text-align: right;\">3</td><td style = \"text-align: left;\">3.0</td><td style = \"text-align: left;\">7.61577</td><td style = \"text-align: left;\">0.0</td><td style = \"text-align: left;\">7.28011</td><td style = \"text-align: left;\">5.83095</td><td style = \"text-align: left;\">4.12311</td><td style = \"text-align: left;\">6.0</td><td style = \"text-align: left;\">3.16228</td><td style = \"text-align: left;\">2.23607</td><td style = \"text-align: left;\">2.0</td></tr><tr><td class = \"rowNumber\" style = \"font-weight: bold; text-align: right;\">4</td><td style = \"text-align: left;\">7.07107</td><td style = \"text-align: left;\">5.0</td><td style = \"text-align: left;\">7.28011</td><td style = \"text-align: left;\">0.0</td><td style = \"text-align: left;\">8.06226</td><td style = \"text-align: left;\">3.16228</td><td style = \"text-align: left;\">2.23607</td><td style = \"text-align: left;\">4.12311</td><td style = \"text-align: left;\">7.2111</td><td style = \"text-align: left;\">8.06226</td></tr><tr><td class = \"rowNumber\" style = \"font-weight: bold; text-align: right;\">5</td><td style = \"text-align: left;\">8.544</td><td style = \"text-align: left;\">4.47214</td><td style = \"text-align: left;\">5.83095</td><td style = \"text-align: left;\">8.06226</td><td style = \"text-align: left;\">0.0</td><td style = \"text-align: left;\">6.08276</td><td style = \"text-align: left;\">5.83095</td><td style = \"text-align: left;\">6.0</td><td style = \"text-align: left;\">3.60555</td><td style = \"text-align: left;\">4.24264</td></tr><tr><td class = \"rowNumber\" style = \"font-weight: bold; text-align: right;\">6</td><td style = \"text-align: left;\">4.47214</td><td style = \"text-align: left;\">5.0</td><td style = \"text-align: left;\">4.12311</td><td style = \"text-align: left;\">3.16228</td><td style = \"text-align: left;\">6.08276</td><td style = \"text-align: left;\">0.0</td><td style = \"text-align: left;\">2.23607</td><td style = \"text-align: left;\">1.0</td><td style = \"text-align: left;\">4.24264</td><td style = \"text-align: left;\">5.0</td></tr><tr><td class = \"rowNumber\" style = \"font-weight: bold; text-align: right;\">7</td><td style = \"text-align: left;\">6.7082</td><td style = \"text-align: left;\">3.16228</td><td style = \"text-align: left;\">6.0</td><td style = \"text-align: left;\">2.23607</td><td style = \"text-align: left;\">5.83095</td><td style = \"text-align: left;\">2.23607</td><td style = \"text-align: left;\">0.0</td><td style = \"text-align: left;\">3.16228</td><td style = \"text-align: left;\">5.38516</td><td style = \"text-align: left;\">6.32456</td></tr><tr><td class = \"rowNumber\" style = \"font-weight: bold; text-align: right;\">8</td><td style = \"text-align: left;\">3.60555</td><td style = \"text-align: left;\">5.65685</td><td style = \"text-align: left;\">3.16228</td><td style = \"text-align: left;\">4.12311</td><td style = \"text-align: left;\">6.0</td><td style = \"text-align: left;\">1.0</td><td style = \"text-align: left;\">3.16228</td><td style = \"text-align: left;\">0.0</td><td style = \"text-align: left;\">3.60555</td><td style = \"text-align: left;\">4.24264</td></tr><tr><td class = \"rowNumber\" style = \"font-weight: bold; text-align: right;\">9</td><td style = \"text-align: left;\">5.09902</td><td style = \"text-align: left;\">6.08276</td><td style = \"text-align: left;\">2.23607</td><td style = \"text-align: left;\">7.2111</td><td style = \"text-align: left;\">3.60555</td><td style = \"text-align: left;\">4.24264</td><td style = \"text-align: left;\">5.38516</td><td style = \"text-align: left;\">3.60555</td><td style = \"text-align: left;\">0.0</td><td style = \"text-align: left;\">1.0</td></tr><tr><td class = \"rowNumber\" style = \"font-weight: bold; text-align: right;\">10</td><td style = \"text-align: left;\">5.0</td><td style = \"text-align: left;\">7.07107</td><td style = \"text-align: left;\">2.0</td><td style = \"text-align: left;\">8.06226</td><td style = \"text-align: left;\">4.24264</td><td style = \"text-align: left;\">5.0</td><td style = \"text-align: left;\">6.32456</td><td style = \"text-align: left;\">4.24264</td><td style = \"text-align: left;\">1.0</td><td style = \"text-align: left;\">0.0</td></tr></tbody></table></div>"
      ],
      "text/latex": [
       "\\begin{tabular}{r|cccccccccc}\n",
       "\t& x1 & x2 & x3 & x4 & x5 & x6 & x7 & x8 & x9 & \\\\\n",
       "\t\\hline\n",
       "\t& Any & Any & Any & Any & Any & Any & Any & Any & Any & \\\\\n",
       "\t\\hline\n",
       "\t1 & 0.0 & 9.21954 & 3.0 & 7.07107 & 8.544 & 4.47214 & 6.7082 & 3.60555 & 5.09902 & $\\dots$ \\\\\n",
       "\t2 & 9.21954 & 0.0 & 7.61577 & 5.0 & 4.47214 & 5.0 & 3.16228 & 5.65685 & 6.08276 & $\\dots$ \\\\\n",
       "\t3 & 3.0 & 7.61577 & 0.0 & 7.28011 & 5.83095 & 4.12311 & 6.0 & 3.16228 & 2.23607 & $\\dots$ \\\\\n",
       "\t4 & 7.07107 & 5.0 & 7.28011 & 0.0 & 8.06226 & 3.16228 & 2.23607 & 4.12311 & 7.2111 & $\\dots$ \\\\\n",
       "\t5 & 8.544 & 4.47214 & 5.83095 & 8.06226 & 0.0 & 6.08276 & 5.83095 & 6.0 & 3.60555 & $\\dots$ \\\\\n",
       "\t6 & 4.47214 & 5.0 & 4.12311 & 3.16228 & 6.08276 & 0.0 & 2.23607 & 1.0 & 4.24264 & $\\dots$ \\\\\n",
       "\t7 & 6.7082 & 3.16228 & 6.0 & 2.23607 & 5.83095 & 2.23607 & 0.0 & 3.16228 & 5.38516 & $\\dots$ \\\\\n",
       "\t8 & 3.60555 & 5.65685 & 3.16228 & 4.12311 & 6.0 & 1.0 & 3.16228 & 0.0 & 3.60555 & $\\dots$ \\\\\n",
       "\t9 & 5.09902 & 6.08276 & 2.23607 & 7.2111 & 3.60555 & 4.24264 & 5.38516 & 3.60555 & 0.0 & $\\dots$ \\\\\n",
       "\t10 & 5.0 & 7.07107 & 2.0 & 8.06226 & 4.24264 & 5.0 & 6.32456 & 4.24264 & 1.0 & $\\dots$ \\\\\n",
       "\\end{tabular}\n"
      ],
      "text/plain": [
       "\u001b[1m10×10 DataFrame\u001b[0m\n",
       "\u001b[1m Row \u001b[0m│\u001b[1m x1      \u001b[0m\u001b[1m x2      \u001b[0m\u001b[1m x3      \u001b[0m\u001b[1m x4      \u001b[0m\u001b[1m x5      \u001b[0m\u001b[1m x6      \u001b[0m\u001b[1m x7      \u001b[0m\u001b[1m x8      \u001b[0m\u001b[1m\u001b[0m ⋯\n",
       "     │\u001b[90m Any     \u001b[0m\u001b[90m Any     \u001b[0m\u001b[90m Any     \u001b[0m\u001b[90m Any     \u001b[0m\u001b[90m Any     \u001b[0m\u001b[90m Any     \u001b[0m\u001b[90m Any     \u001b[0m\u001b[90m Any     \u001b[0m\u001b[90m\u001b[0m ⋯\n",
       "─────┼──────────────────────────────────────────────────────────────────────────\n",
       "   1 │ 0.0      9.21954  3.0      7.07107  8.544    4.47214  6.7082   3.60555  ⋯\n",
       "   2 │ 9.21954  0.0      7.61577  5.0      4.47214  5.0      3.16228  5.65685\n",
       "   3 │ 3.0      7.61577  0.0      7.28011  5.83095  4.12311  6.0      3.16228\n",
       "   4 │ 7.07107  5.0      7.28011  0.0      8.06226  3.16228  2.23607  4.12311\n",
       "   5 │ 8.544    4.47214  5.83095  8.06226  0.0      6.08276  5.83095  6.0      ⋯\n",
       "   6 │ 4.47214  5.0      4.12311  3.16228  6.08276  0.0      2.23607  1.0\n",
       "   7 │ 6.7082   3.16228  6.0      2.23607  5.83095  2.23607  0.0      3.16228\n",
       "   8 │ 3.60555  5.65685  3.16228  4.12311  6.0      1.0      3.16228  0.0\n",
       "   9 │ 5.09902  6.08276  2.23607  7.2111   3.60555  4.24264  5.38516  3.60555  ⋯\n",
       "  10 │ 5.0      7.07107  2.0      8.06226  4.24264  5.0      6.32456  4.24264\n",
       "\u001b[36m                                                               2 columns omitted\u001b[0m"
      ]
     },
     "execution_count": 3,
     "metadata": {},
     "output_type": "execute_result"
    }
   ],
   "source": [
    "using DataFrames\n",
    "using XLSX\n",
    "import XLSX\n",
    "xf = XLSX.readxlsx(\"10node.xlsx\")\n",
    "XLSX.sheetnames(xf)\n",
    "d = xf[\"Sheet1\"]\n",
    "location = d[\"A2:E12\"]\n",
    "location = DataFrame(location[2:end,:],location[1,:])\n",
    "distances = d[\"A15:K25\"]\n",
    "distances = DataFrame(distances[2:end,2:end], :auto)"
   ]
  },
  {
   "cell_type": "code",
   "execution_count": 10,
   "metadata": {},
   "outputs": [
    {
     "name": "stdout",
     "output_type": "stream",
     "text": [
      "we open 1 inventories in total, the assigments are given here [8, 8, 8, 8, 8, 8, 8, 0, 8, 8]the cost is 12850.823066732119the transportation cost is 12650.823066732119\n",
      "we open 2 inventories in total, the assigments are given here [8, 8, 9, 8, 9, 8, 8, 0, 0, 9]the cost is 7878.5677119086085the transportation cost is 7478.5677119086085\n",
      "we open 3 inventories in total, the assigments are given here [0, 8, 9, 8, 9, 8, 8, 0, 0, 9]the cost is 5915.236946630214the transportation cost is 5315.236946630214\n",
      "we open 4 inventories in total, the assigments are given here [0, 7, 9, 7, 9, 8, 0, 0, 0, 9]the cost is 4413.4842767734635the transportation cost is 3613.4842767734635\n",
      "we open 5 inventories in total, the assigments are given here [0, 7, 9, 7, 0, 8, 0, 0, 0, 9]the cost is 3423.652355870347the transportation cost is 2423.652355870347\n",
      "we open 6 inventories in total, the assigments are given here [0, 0, 9, 7, 0, 8, 0, 0, 0, 9]the cost is 2769.8373876248843the transportation cost is 1569.8373876248843\n",
      "we open 7 inventories in total, the assigments are given here [0, 0, 0, 7, 0, 8, 0, 0, 0, 9]the cost is 2321.3776741499455the transportation cost is 921.3776741499454\n",
      "we open 8 inventories in total, the assigments are given here [0, 0, 0, 0, 0, 8, 0, 0, 0, 9]the cost is 1940.0the transportation cost is 340.0\n",
      "we open inventory at: [1, 2, 3, 4, 5, 7, 8, 9]our assigment for the demand is listed here: [0, 0, 0, 0, 0, 8, 0, 0, 0, 9]our cost is: 1940.0\n"
     ]
    }
   ],
   "source": [
    "\n",
    "function calc_trans_cost(location,distances,status,assignment) #Given the opening of the inventory and the assignment, calculate the cost.\n",
    "    transp = 0\n",
    "    for i in 1:length(status)\n",
    "        if status[i] == false \n",
    "            transp += distances[i,assignment[i]]*location[i,\"Demand\"]*10\n",
    "        else\n",
    "            transp += 0\n",
    "        end\n",
    "    end\n",
    "    return transp\n",
    "end\n",
    "\n",
    "function UFLP_heuristic(location,distances)\n",
    "    status = falses(nrow(location)) #this is indicate whether a index is a inventory or not. If true it is an inventory, else it is a demand\n",
    "    assignment = zeros(nrow(location)) #this is to indicate where are the demands assigned to.\n",
    "    cost = typemax(Int64)#Initialize the cost to the largest possible number.\n",
    "    temp_cost = typemax(Int64)#A temporary cost for each iteration, it will contain the minimum cost for each iteration.\n",
    "    terminal = true #if all next possible opening will incur a larger cost we terminate.\n",
    "    num = 0 #this represents the number of inventory open\n",
    "    temp_final_assignment = zeros(Int,nrow(location)) #final assigment at the end of each iteration\n",
    "    temp_assignment = zeros(Int,nrow(location)) #we need a temp_assigment for each possible iteration.\n",
    "    while terminal\n",
    "        for i in 1 : length(status) \n",
    "            if !status[i] #try openning locations at the place where there is no inventory\n",
    "                status[i] = true\n",
    "                #Now we need to decide the assigment of the demands\n",
    "                #println(\"we set \", i , \"to be a inventory: \", status)\n",
    "                for j in 1:length(status)\n",
    "                    if !status[j]\n",
    "                        temp_assignment[j] = parse(Int,string(findmin(distances[j,status])[2])[2:end]) #assign the demand j to the inventory with the lowest distance\n",
    "                    elseif status[j]\n",
    "                        temp_assignment[j] = 0\n",
    "                    end\n",
    "                end\n",
    "                if temp_cost >= sum(status.*location[1,\"Fixed Cost\"])+ calc_trans_cost(location,distances,status,temp_assignment)#this is to calculate the best, need to add in transportation cost\n",
    "                    #need to update tempcost and the assigment\n",
    "                    temp_cost = sum(status.*location[1,\"Fixed Cost\"])+ calc_trans_cost(location,distances,status,temp_assignment)\n",
    "                    temp_final_assignment = copy(temp_assignment)\n",
    "                    #println(\"our assigment is \", temp_final_assignment, \"our cost is \",temp_cost)\n",
    "                end\n",
    "                status[i] = false\n",
    "            end\n",
    "        end\n",
    "        if cost > temp_cost\n",
    "            cost = temp_cost\n",
    "            assignment = copy(temp_final_assignment)\n",
    "            status[findall(x->x == 0,assignment)] .= true\n",
    "            num = sum(status)\n",
    "            println(\"we open \", num, \" inventories in total, the assigments are given here \", assignment,\"the cost is \",cost, \"the transportation cost is \", calc_trans_cost(location,distances,status,assignment))\n",
    "        else\n",
    "            terminal = false\n",
    "        end\n",
    "    end\n",
    "    println(\"we open inventory at: \",findall(x->x==true,status),\"our assigment for the demand is listed here: \",assignment,\"our cost is: \", cost)\n",
    "end\n",
    "UFLP_heuristic(location,distances)"
   ]
  },
  {
   "cell_type": "code",
   "execution_count": 33,
   "metadata": {},
   "outputs": [],
   "source": [
    "using JuMP\n",
    "using Cbc"
   ]
  },
  {
   "cell_type": "code",
   "execution_count": 39,
   "metadata": {},
   "outputs": [
    {
     "name": "stdout",
     "output_type": "stream",
     "text": [
      "Optimal solution found.\n",
      "Solution:\n",
      "x = [1.0, 1.0, 1.0, 1.0, 1.0, 0.0, 1.0, 1.0, 1.0, 0.0]\n",
      "y = [1.0 0.0 0.0 0.0 0.0 0.0 0.0 0.0 0.0 0.0; 0.0 1.0 0.0 0.0 0.0 0.0 0.0 0.0 0.0 0.0; 0.0 0.0 1.0 0.0 0.0 0.0 0.0 0.0 0.0 0.0; 0.0 0.0 0.0 1.0 0.0 0.0 0.0 0.0 0.0 0.0; 0.0 0.0 0.0 0.0 1.0 0.0 0.0 0.0 0.0 0.0; 0.0 0.0 0.0 0.0 0.0 0.0 0.0 1.0 0.0 0.0; 0.0 0.0 0.0 0.0 0.0 0.0 1.0 0.0 0.0 0.0; 0.0 0.0 0.0 0.0 0.0 0.0 0.0 1.0 0.0 0.0; 0.0 0.0 0.0 0.0 0.0 0.0 0.0 0.0 1.0 0.0; 0.0 0.0 0.0 0.0 0.0 0.0 0.0 0.0 1.0 0.0]\n",
      "Welcome to the CBC MILP Solver \n",
      "Version: 2.10.8 \n",
      "Build Date: Jan  1 1970 \n",
      "\n",
      "command line - Cbc_C_Interface -solve -quit (default strategy 1)\n",
      "Continuous objective value is 1940 - 0.00 seconds\n",
      "Cgl0004I processed model has 110 rows, 110 columns (110 integer (110 of which binary)) and 300 elements\n",
      "Cbc0038I Initial state - 0 integers unsatisfied sum - 0\n",
      "Cbc0038I Solution found of 1940\n",
      "Cbc0038I Before mini branch and bound, 110 integers at bound fixed and 0 continuous\n",
      "Cbc0038I Mini branch and bound did not improve solution (0.00 seconds)\n",
      "Cbc0038I After 0.00 seconds - Feasibility pump exiting with objective of 1940 - took 0.00 seconds\n",
      "Cbc0012I Integer solution of 1940 found by feasibility pump after 0 iterations and 0 nodes (0.00 seconds)\n",
      "Cbc0001I Search completed - best objective 1940, took 0 iterations and 0 nodes (0.00 seconds)\n",
      "Cbc0035I Maximum depth 0, 0 variables fixed on reduced cost\n",
      "Cuts at root node changed objective from 1940 to 1940\n",
      "Probing was tried 0 times and created 0 cuts of which 0 were active after adding rounds of cuts (0.000 seconds)\n",
      "Gomory was tried 0 times and created 0 cuts of which 0 were active after adding rounds of cuts (0.000 seconds)\n",
      "Knapsack was tried 0 times and created 0 cuts of which 0 were active after adding rounds of cuts (0.000 seconds)\n",
      "Clique was tried 0 times and created 0 cuts of which 0 were active after adding rounds of cuts (0.000 seconds)\n",
      "MixedIntegerRounding2 was tried 0 times and created 0 cuts of which 0 were active after adding rounds of cuts (0.000 seconds)\n",
      "FlowCover was tried 0 times and created 0 cuts of which 0 were active after adding rounds of cuts (0.000 seconds)\n",
      "TwoMirCuts was tried 0 times and created 0 cuts of which 0 were active after adding rounds of cuts (0.000 seconds)\n",
      "ZeroHalf was tried 0 times and created 0 cuts of which 0 were active after adding rounds of cuts (0.000 seconds)\n",
      "\n",
      "Result - Optimal solution found\n",
      "\n",
      "Objective value:                1940.00000000\n",
      "Enumerated nodes:               0\n",
      "Total iterations:               0\n",
      "Time (CPU seconds):             0.01\n",
      "Time (Wallclock seconds):       0.01\n",
      "\n",
      "Total time (CPU seconds):       0.01   (Wallclock seconds):       0.01\n",
      "\n"
     ]
    }
   ],
   "source": [
    "\n",
    "demand = location[!,\"Demand\"]\n",
    "h = demand\n",
    "f = [200,200,200,200,200,200,200,200,200,200]\n",
    "c = Matrix(distances[1:10,1:10].*10)\n",
    "\n",
    "\n",
    "model = Model(Cbc.Optimizer)\n",
    "\n",
    "# Define variables\n",
    "@variable(model, x[1:10], Bin)\n",
    "@variable(model, y[1:10, 1:10], Bin)\n",
    "\n",
    "# Add constraint: sum of all entries of y has to be 1\n",
    "@constraint(model, sum(y[:,j] for j in 1:10) .== 1)\n",
    "\n",
    "# Add constraints: y[i,j] <= x[j] for all i, j\n",
    "for i in 1:10\n",
    "    for j in 1:10\n",
    "        @constraint(model, y[i,j] <= x[j])\n",
    "    end\n",
    "end\n",
    "\n",
    "# Define objective function\n",
    "@objective(model, Min, sum(f[j] * x[j] for j in 1:10) +\n",
    "                        sum(h[i] * sum(c[i,j] * y[i,j] for j in 1:10) for i in 1:10))\n",
    "\n",
    "# Optimize the model\n",
    "optimize!(model)\n",
    "\n",
    "# Check optimization status and print solution if optimal\n",
    "status = termination_status(model)\n",
    "if status == MOI.OPTIMAL\n",
    "    println(\"Optimal solution found.\")\n",
    "    println(\"Solution:\")\n",
    "    println(\"x = \", value.(x))\n",
    "    println(\"y = \", value.(y))\n",
    "else\n",
    "    println(\"No optimal solution found. Solver status: \", status)\n",
    "end\n"
   ]
  }
 ],
 "metadata": {
  "kernelspec": {
   "display_name": "Julia 1.10.0",
   "language": "julia",
   "name": "julia-1.10"
  },
  "language_info": {
   "file_extension": ".jl",
   "mimetype": "application/julia",
   "name": "julia",
   "version": "1.10.0"
  }
 },
 "nbformat": 4,
 "nbformat_minor": 2
}
