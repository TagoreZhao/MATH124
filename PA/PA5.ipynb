{
 "cells": [
  {
   "cell_type": "markdown",
   "metadata": {},
   "source": [
    "####"
   ]
  },
  {
   "cell_type": "markdown",
   "metadata": {},
   "source": [
    "#### Project 5 - Neural Networks for Character Recognition"
   ]
  },
  {
   "cell_type": "code",
   "execution_count": 1,
   "metadata": {},
   "outputs": [],
   "source": [
    "using PyPlot, Random, LinearAlgebra, Optim   # Packages needed"
   ]
  },
  {
   "cell_type": "code",
   "execution_count": 4,
   "metadata": {},
   "outputs": [
    {
     "data": {
      "text/plain": [
       "plot_chars (generic function with 1 method)"
      ]
     },
     "execution_count": 4,
     "metadata": {},
     "output_type": "execute_result"
    }
   ],
   "source": [
    "\n",
    "charstr = \"\"\"\n",
    "          OOOOOO  OOOOOO  OOOOOO  OO..OO\n",
    "          OOOOOO  OOOOOO  OOOOOO  OO..OO\n",
    "          O.OO.O  OO..OO  ..OO..  OO..OO\n",
    "          O.OO.O  OO..OO  ..OO..  OOOOOO\n",
    "          O....O  OOOOOO  ..OO..  OO..OO\n",
    "          O....O  OO..OO  ..OO..  OO..OO\n",
    "          O... O  OO..OO  ..OO..  OO..OO\n",
    "          \"\"\"\n",
    "\n",
    "training = reshape(collect(charstr), :, 7)\n",
    "training = Int.(training[[1:6;9:14;17:22;25:30],:] .== 'O')\n",
    "training = reshape(training', 7*6, 4)\n",
    "target = [0 0; 0 1; 1 0; 1 1]'\n",
    "mapstr = \"MATH\";\n",
    "\n",
    "function plot_chars(images)\n",
    "    gray()\n",
    "    n_images = size(images,2)\n",
    "    for j = 1:n_images\n",
    "        subplot(ceil(Int, n_images/4), 4, j)\n",
    "        im = 1 .- reshape(images[:,j], 7, 6)\n",
    "        imshow(im); axis(\"off\");\n",
    "    end\n",
    "end"
   ]
  },
  {
   "cell_type": "code",
   "execution_count": 5,
   "metadata": {},
   "outputs": [
    {
     "data": {
      "image/png": "[encoded data removed]",
      "text/plain": [
       "Figure(PyObject <Figure size 640x480 with 4 Axes>)"
      ]
     },
     "metadata": {},
     "output_type": "display_data"
    }
   ],
   "source": [
    "plot_chars(training)"
   ]
  },
  {
   "cell_type": "code",
   "execution_count": 32,
   "metadata": {},
   "outputs": [
    {
     "data": {
      "text/plain": [
       "make_testdata (generic function with 1 method)"
      ]
     },
     "execution_count": 32,
     "metadata": {},
     "output_type": "execute_result"
    }
   ],
   "source": [
    "function make_testdata(training)\n",
    "    testdata = [training training training training training]\n",
    "    for i in 1:4\n",
    "        for j in 1:4\n",
    "            p = rand(1:42,i*2)\n",
    "            testdata[p,j+4*(i)] = abs.(training[p,j].-1)\n",
    "        end\n",
    "    end\n",
    "    return testdata\n",
    "end"
   ]
  },
  {
   "cell_type": "code",
   "execution_count": 33,
   "metadata": {},
   "outputs": [
    {
     "data": {
      "image/png": "[encoded data removed]",
      "text/plain": [
       "Figure(PyObject <Figure size 640x480 with 20 Axes>)"
      ]
     },
     "metadata": {},
     "output_type": "display_data"
    }
   ],
   "source": [
    "testdata = make_testdata(training);\n",
    "plot_chars(testdata)"
   ]
  },
  {
   "cell_type": "code",
   "execution_count": 29,
   "metadata": {},
   "outputs": [
    {
     "data": {
      "text/plain": [
       "42×16 Matrix{Int64}:\n",
       " 1  1  1  1  1  1  1  1  1  1  1  1  1  1  1  1\n",
       " 1  1  1  1  1  1  1  1  1  1  1  1  1  1  1  1\n",
       " 1  1  0  1  1  1  0  1  1  1  0  1  1  1  0  1\n",
       " 1  1  0  1  1  1  0  1  1  1  0  1  1  1  0  1\n",
       " 1  1  0  1  1  1  0  1  1  1  0  1  1  1  0  1\n",
       " 1  1  0  1  1  1  0  1  1  1  0  1  1  1  0  1\n",
       " 1  1  0  1  1  1  0  1  1  1  0  1  1  1  0  1\n",
       " 1  1  1  1  1  1  1  1  1  1  1  1  1  1  1  1\n",
       " 1  1  1  1  1  1  1  1  1  1  1  1  1  1  1  1\n",
       " 0  1  0  1  0  1  0  1  0  1  0  1  0  1  0  1\n",
       " 0  1  0  1  0  1  0  1  0  1  0  1  0  1  0  1\n",
       " 0  1  0  1  0  1  0  1  0  1  0  1  0  1  0  1\n",
       " 0  1  0  1  0  1  0  1  0  1  0  1  0  1  0  1\n",
       " ⋮              ⋮              ⋮              ⋮\n",
       " 0  1  0  1  0  1  0  1  0  1  0  1  0  1  0  1\n",
       " 0  1  0  1  0  1  0  1  0  1  0  1  0  1  0  1\n",
       " 0  1  0  1  0  1  0  1  0  1  0  1  0  1  0  1\n",
       " 0  1  0  1  0  1  0  1  0  1  0  1  0  1  0  1\n",
       " 0  1  0  1  0  1  0  1  0  1  0  1  0  1  0  1\n",
       " 1  1  1  1  1  1  1  1  1  1  1  1  1  1  1  1\n",
       " 1  1  1  1  1  1  1  1  1  1  1  1  1  1  1  1\n",
       " 1  1  0  1  1  1  0  1  1  1  0  1  1  1  0  1\n",
       " 1  1  0  1  1  1  0  1  1  1  0  1  1  1  0  1\n",
       " 1  1  0  1  1  1  0  1  1  1  0  1  1  1  0  1\n",
       " 1  1  0  1  1  1  0  1  1  1  0  1  1  1  0  1\n",
       " 1  1  0  1  1  1  0  1  1  1  0  1  1  1  0  1"
      ]
     },
     "execution_count": 29,
     "metadata": {},
     "output_type": "execute_result"
    }
   ],
   "source": []
  },
  {
   "cell_type": "code",
   "execution_count": null,
   "metadata": {},
   "outputs": [],
   "source": []
  }
 ],
 "metadata": {
  "kernelspec": {
   "display_name": "Julia 1.10.0",
   "language": "julia",
   "name": "julia-1.10"
  },
  "language_info": {
   "file_extension": ".jl",
   "mimetype": "application/julia",
   "name": "julia",
   "version": "1.10.0"
  }
 },
 "nbformat": 4,
 "nbformat_minor": 2
}
