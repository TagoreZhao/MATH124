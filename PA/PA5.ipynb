{
 "cells": [
  {
   "cell_type": "markdown",
   "metadata": {},
   "source": [
    "####"
   ]
  },
  {
   "cell_type": "markdown",
   "metadata": {},
   "source": [
    "#### Project 5 - Neural Networks for Character Recognition"
   ]
  },
  {
   "cell_type": "code",
   "execution_count": 71,
   "metadata": {},
   "outputs": [],
   "source": [
    "using PyPlot, Random, LinearAlgebra, Optim   # Packages needed\n",
    "Random.seed!(12);"
   ]
  },
  {
   "cell_type": "code",
   "execution_count": 58,
   "metadata": {},
   "outputs": [
    {
     "data": {
      "text/plain": [
       "plot_chars (generic function with 1 method)"
      ]
     },
     "execution_count": 58,
     "metadata": {},
     "output_type": "execute_result"
    }
   ],
   "source": [
    "\n",
    "charstr = \"\"\"\n",
    "          OOOOOO  OOOOOO  OOOOOO  OO..OO\n",
    "          OOOOOO  OOOOOO  OOOOOO  OO..OO\n",
    "          O.OO.O  OO..OO  ..OO..  OO..OO\n",
    "          O.OO.O  OO..OO  ..OO..  OOOOOO\n",
    "          O....O  OOOOOO  ..OO..  OO..OO\n",
    "          O....O  OO..OO  ..OO..  OO..OO\n",
    "          O... O  OO..OO  ..OO..  OO..OO\n",
    "          \"\"\"\n",
    "\n",
    "training = reshape(collect(charstr), :, 7)\n",
    "training = Int.(training[[1:6;9:14;17:22;25:30],:] .== 'O')\n",
    "training = reshape(training', 7*6, 4)\n",
    "target = [0 0; 0 1; 1 0; 1 1]'\n",
    "mapstr = \"MATH\";\n",
    "\n",
    "function plot_chars(images)\n",
    "    gray()\n",
    "    n_images = size(images,2)\n",
    "    for j = 1:n_images\n",
    "        subplot(ceil(Int, n_images/4), 4, j)\n",
    "        im = 1 .- reshape(images[:,j], 7, 6)\n",
    "        imshow(im); axis(\"off\");\n",
    "    end\n",
    "end"
   ]
  },
  {
   "cell_type": "code",
   "execution_count": 59,
   "metadata": {},
   "outputs": [
    {
     "data": {
      "image/png": "[encoded data removed]",
      "text/plain": [
       "Figure(PyObject <Figure size 640x480 with 4 Axes>)"
      ]
     },
     "metadata": {},
     "output_type": "display_data"
    }
   ],
   "source": [
    "plot_chars(training)"
   ]
  },
  {
   "cell_type": "code",
   "execution_count": 60,
   "metadata": {},
   "outputs": [
    {
     "data": {
      "text/plain": [
       "make_testdata (generic function with 1 method)"
      ]
     },
     "execution_count": 60,
     "metadata": {},
     "output_type": "execute_result"
    }
   ],
   "source": [
    "function make_testdata(training)\n",
    "    testdata = [training training training training training]\n",
    "    for i in 1:4\n",
    "        for j in 1:4\n",
    "            p = rand(1:42,i*2)\n",
    "            testdata[p,j+4*(i)] = abs.(training[p,j].-1)\n",
    "        end\n",
    "    end\n",
    "    return testdata\n",
    "end"
   ]
  },
  {
   "cell_type": "code",
   "execution_count": 61,
   "metadata": {},
   "outputs": [
    {
     "data": {
      "image/png": "[encoded data removed]",
      "text/plain": [
       "Figure(PyObject <Figure size 640x480 with 20 Axes>)"
      ]
     },
     "metadata": {},
     "output_type": "display_data"
    }
   ],
   "source": [
    "testdata = make_testdata(training);\n",
    "plot_chars(testdata)"
   ]
  },
  {
   "cell_type": "markdown",
   "metadata": {},
   "source": [
    "#### Problem 2 - Training using SGD"
   ]
  },
  {
   "cell_type": "code",
   "execution_count": 62,
   "metadata": {},
   "outputs": [
    {
     "data": {
      "text/plain": [
       "train_sgd (generic function with 1 method)"
      ]
     },
     "execution_count": 62,
     "metadata": {},
     "output_type": "execute_result"
    }
   ],
   "source": [
    "function sigmoid_function(x)\n",
    "    return @. 1/(1+exp(0.5-x))\n",
    "end\n",
    "\n",
    "function train_sgd(; maxiter=10000, rate=1)\n",
    "    V = randn(10,42)\n",
    "    W = randn(2,10)\n",
    "    #n = 0\n",
    "    for i in 1:maxiter\n",
    "        j = rand(1:4)\n",
    "        k = rand(1:2)\n",
    "        x = training[:,j]\n",
    "        r = sigmoid_function(V*x)\n",
    "        y = sigmoid_function(dot(W[k,:],r))\n",
    "        q = @. (y - target[k,j])*y*(1-y)\n",
    "        u = @.  (W[k,:])*r*(1-r)\n",
    "        E1 = @. q*r'\n",
    "        E2 = @. q*u*x'\n",
    "        #if (norm(E1) <= 1e-4)&&(norm(E2) <= 1e-4)\n",
    "        #    return V,W\n",
    "        #end\n",
    "        @. V -= rate*E2\n",
    "        @. W[k,:] -= rate*E1[:]\n",
    "        #n+=1\n",
    "    end\n",
    "    #println(\"it runs: \", n)\n",
    "    return V,W\n",
    "end"
   ]
  },
  {
   "cell_type": "code",
   "execution_count": 63,
   "metadata": {},
   "outputs": [
    {
     "data": {
      "text/plain": [
       "([0.8898438325785856 -1.3705086149192915 … -1.5203977594825102 -1.0990029524589198; -0.8698480036605966 0.16923580417612274 … 0.5536951926441469 0.7160581016149346; … ; -0.34426173652848474 -0.930511022355269 … -0.5724783168919823 -2.0253025737975627; 0.7970001892859907 -0.45077801800333395 … 0.6966599191181717 -0.26492562611829223], [1.514821602602535 -3.436376880931131 … -0.186736528578268 4.162398221824472; -1.6080296811852937 -0.27186729188973463 … 0.05793461765134662 4.378110908044213])"
      ]
     },
     "execution_count": 63,
     "metadata": {},
     "output_type": "execute_result"
    }
   ],
   "source": [
    "V,W = train_sgd()"
   ]
  },
  {
   "cell_type": "markdown",
   "metadata": {},
   "source": [
    "#### Problem 3 - Predict output for noisy characters"
   ]
  },
  {
   "cell_type": "code",
   "execution_count": 64,
   "metadata": {},
   "outputs": [
    {
     "data": {
      "text/plain": [
       "predict (generic function with 1 method)"
      ]
     },
     "execution_count": 64,
     "metadata": {},
     "output_type": "execute_result"
    }
   ],
   "source": [
    "function predict(testdata, V, W)\n",
    "    a = []\n",
    "    for i in 1:20\n",
    "        y = round.(Int,sigmoid_function(W*sigmoid_function(V*testdata[:,i])))\n",
    "        if y == [0,0]\n",
    "            push!(a, \"M\")\n",
    "        elseif y == [0,1]\n",
    "            push!(a, \"A\")\n",
    "        elseif y == [1,0]\n",
    "            push!(a, \"T\")\n",
    "        else\n",
    "            push!(a, \"H\")\n",
    "        end\n",
    "    end\n",
    "    reshape(a,5,4)\n",
    "end"
   ]
  },
  {
   "cell_type": "code",
   "execution_count": 65,
   "metadata": {},
   "outputs": [
    {
     "data": {
      "image/png": "[encoded data removed]",
      "text/plain": [
       "Figure(PyObject <Figure size 640x480 with 20 Axes>)"
      ]
     },
     "metadata": {},
     "output_type": "display_data"
    },
    {
     "data": {
      "text/plain": [
       "5×4 Matrix{Any}:\n",
       " \"M\"  \"A\"  \"T\"  \"H\"\n",
       " \"A\"  \"T\"  \"H\"  \"M\"\n",
       " \"T\"  \"H\"  \"M\"  \"A\"\n",
       " \"H\"  \"M\"  \"A\"  \"T\"\n",
       " \"M\"  \"A\"  \"T\"  \"H\""
      ]
     },
     "execution_count": 65,
     "metadata": {},
     "output_type": "execute_result"
    }
   ],
   "source": [
    "plot_chars(testdata)\n",
    "predict(testdata, V, W)"
   ]
  },
  {
   "cell_type": "markdown",
   "metadata": {},
   "source": [
    "#### Problem 4"
   ]
  },
  {
   "cell_type": "code",
   "execution_count": 66,
   "metadata": {},
   "outputs": [
    {
     "data": {
      "text/plain": [
       "Et (generic function with 1 method)"
      ]
     },
     "execution_count": 66,
     "metadata": {},
     "output_type": "execute_result"
    }
   ],
   "source": [
    "function Et(A)\n",
    "    V = reshape(A[1:420],10,42)\n",
    "    W = reshape(A[421:440],2,10)\n",
    "    x = 0\n",
    "    for j in 1:4\n",
    "            #println(4*(i-1)+j)\n",
    "        x += 1 ./2 .*norm(sigmoid_function(W*sigmoid_function(V*training[:,j])) -target[:,j]).^2\n",
    "    end\n",
    "    return x\n",
    "end\n",
    "#optimize(f,training,GradientDescent(); autodiff=:forward)"
   ]
  },
  {
   "cell_type": "code",
   "execution_count": 72,
   "metadata": {},
   "outputs": [
    {
     "data": {
      "text/plain": [
       "train_optim (generic function with 1 method)"
      ]
     },
     "execution_count": 72,
     "metadata": {},
     "output_type": "execute_result"
    }
   ],
   "source": [
    "function train_optim()\n",
    "    V = randn(10,42)\n",
    "    W = randn(2,10)\n",
    "    A = [V[:] \n",
    "        W[:]]\n",
    "    res = optimize(Et, A, GradientDescent(); autodiff=:forward)\n",
    "    B = Optim.minimizer(res)\n",
    "    V = reshape(B[1:420],10,42)\n",
    "    W = reshape(B[421:440],2,10)\n",
    "    return V,W\n",
    "end"
   ]
  },
  {
   "cell_type": "code",
   "execution_count": 73,
   "metadata": {},
   "outputs": [
    {
     "data": {
      "image/png": "[encoded data removed]",
      "text/plain": [
       "Figure(PyObject <Figure size 640x480 with 20 Axes>)"
      ]
     },
     "metadata": {},
     "output_type": "display_data"
    },
    {
     "data": {
      "text/plain": [
       "5×4 Matrix{Any}:\n",
       " \"M\"  \"A\"  \"T\"  \"H\"\n",
       " \"A\"  \"T\"  \"H\"  \"M\"\n",
       " \"T\"  \"H\"  \"M\"  \"A\"\n",
       " \"H\"  \"M\"  \"A\"  \"T\"\n",
       " \"M\"  \"A\"  \"T\"  \"H\""
      ]
     },
     "execution_count": 73,
     "metadata": {},
     "output_type": "execute_result"
    }
   ],
   "source": [
    "plot_chars(testdata)\n",
    "V,W = train_optim()\n",
    "predict(testdata, V, W)"
   ]
  },
  {
   "cell_type": "code",
   "execution_count": null,
   "metadata": {},
   "outputs": [],
   "source": []
  }
 ],
 "metadata": {
  "kernelspec": {
   "display_name": "Julia 1.10.0",
   "language": "julia",
   "name": "julia-1.10"
  },
  "language_info": {
   "file_extension": ".jl",
   "mimetype": "application/julia",
   "name": "julia",
   "version": "1.10.0"
  }
 },
 "nbformat": 4,
 "nbformat_minor": 2
}
