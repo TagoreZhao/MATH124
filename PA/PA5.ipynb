{
 "cells": [
  {
   "cell_type": "markdown",
   "metadata": {},
   "source": [
    "####"
   ]
  },
  {
   "cell_type": "markdown",
   "metadata": {},
   "source": [
    "#### Project 5 - Neural Networks for Character Recognition"
   ]
  },
  {
   "cell_type": "code",
   "execution_count": 12,
   "metadata": {},
   "outputs": [],
   "source": [
    "using PyPlot, Random, LinearAlgebra, Optim   # Packages needed\n",
    "Random.seed!(1234);"
   ]
  },
  {
   "cell_type": "code",
   "execution_count": 13,
   "metadata": {},
   "outputs": [
    {
     "data": {
      "text/plain": [
       "plot_chars (generic function with 1 method)"
      ]
     },
     "execution_count": 13,
     "metadata": {},
     "output_type": "execute_result"
    }
   ],
   "source": [
    "\n",
    "charstr = \"\"\"\n",
    "          OOOOOO  OOOOOO  OOOOOO  OO..OO\n",
    "          OOOOOO  OOOOOO  OOOOOO  OO..OO\n",
    "          O.OO.O  OO..OO  ..OO..  OO..OO\n",
    "          O.OO.O  OO..OO  ..OO..  OOOOOO\n",
    "          O....O  OOOOOO  ..OO..  OO..OO\n",
    "          O....O  OO..OO  ..OO..  OO..OO\n",
    "          O... O  OO..OO  ..OO..  OO..OO\n",
    "          \"\"\"\n",
    "\n",
    "training = reshape(collect(charstr), :, 7)\n",
    "training = Int.(training[[1:6;9:14;17:22;25:30],:] .== 'O')\n",
    "training = reshape(training', 7*6, 4)\n",
    "target = [0 0; 0 1; 1 0; 1 1]'\n",
    "mapstr = \"MATH\";\n",
    "\n",
    "function plot_chars(images)\n",
    "    gray()\n",
    "    n_images = size(images,2)\n",
    "    for j = 1:n_images\n",
    "        subplot(ceil(Int, n_images/4), 4, j)\n",
    "        im = 1 .- reshape(images[:,j], 7, 6)\n",
    "        imshow(im); axis(\"off\");\n",
    "    end\n",
    "end"
   ]
  },
  {
   "cell_type": "code",
   "execution_count": 14,
   "metadata": {},
   "outputs": [
    {
     "data": {
      "image/png": "[encoded data removed]",
      "text/plain": [
       "Figure(PyObject <Figure size 640x480 with 4 Axes>)"
      ]
     },
     "metadata": {},
     "output_type": "display_data"
    }
   ],
   "source": [
    "plot_chars(training)"
   ]
  },
  {
   "cell_type": "code",
   "execution_count": 15,
   "metadata": {},
   "outputs": [
    {
     "data": {
      "text/plain": [
       "make_testdata (generic function with 1 method)"
      ]
     },
     "execution_count": 15,
     "metadata": {},
     "output_type": "execute_result"
    }
   ],
   "source": [
    "function make_testdata(training)\n",
    "    testdata = [training training training training training]\n",
    "    for i in 1:4\n",
    "        for j in 1:4\n",
    "            p = rand(1:42,i*2)\n",
    "            testdata[p,j+4*(i)] = abs.(training[p,j].-1)\n",
    "        end\n",
    "    end\n",
    "    return testdata\n",
    "end"
   ]
  },
  {
   "cell_type": "code",
   "execution_count": 16,
   "metadata": {},
   "outputs": [
    {
     "data": {
      "image/png": "[encoded data removed]",
      "text/plain": [
       "Figure(PyObject <Figure size 640x480 with 20 Axes>)"
      ]
     },
     "metadata": {},
     "output_type": "display_data"
    }
   ],
   "source": [
    "testdata = make_testdata(training);\n",
    "plot_chars(testdata)"
   ]
  },
  {
   "cell_type": "markdown",
   "metadata": {},
   "source": [
    "#### Problem 2 - Training using  SGD"
   ]
  },
  {
   "cell_type": "code",
   "execution_count": 17,
   "metadata": {},
   "outputs": [
    {
     "data": {
      "text/plain": [
       "train_sgd (generic function with 1 method)"
      ]
     },
     "execution_count": 17,
     "metadata": {},
     "output_type": "execute_result"
    }
   ],
   "source": [
    "function sigmoid_function(x)\n",
    "    return @. 1/(1+exp(0.5-x))\n",
    "end\n",
    "\n",
    "function train_sgd(; maxiter=10000, rate=1)\n",
    "    V = randn(10,42)\n",
    "    W = randn(2,10)\n",
    "    for i in 1:maxiter\n",
    "        j = rand(1:4)\n",
    "        k = rand(1:2)\n",
    "        x = training[:,j]\n",
    "        r = sigmoid_function(V*x)\n",
    "        y = sigmoid_function(dot(W[k,:],r))\n",
    "        q = @. (y - target[k,j])*y*(1-y)\n",
    "        u = @.  (W[k,:])*r*(1-r)\n",
    "        E1 = @. q*r'\n",
    "        E2 = @. q*u*x'\n",
    "        @. V -= rate*E2\n",
    "        @. W[k,:] -= rate*E1[:]\n",
    "    end\n",
    "    #println(\"it runs: \", n)\n",
    "    return V,W\n",
    "end"
   ]
  },
  {
   "cell_type": "code",
   "execution_count": 18,
   "metadata": {},
   "outputs": [
    {
     "data": {
      "text/plain": [
       "([0.32066313437357047 -0.12052150944919832 … 0.428445971507449 -0.35655270196141864; -0.4025632478628491 -2.2510647376480746 … -1.6200602176553134 0.2038939607263329; … ; -0.8542609918263532 -0.909609211772764 … -0.6010534849536997 0.15190034462067764; -1.0571963814417598 1.4694240535013352 … 2.3322936897509496 -2.2557348491402003], [-0.6113820277597177 0.7352528535643402 … -2.149446367471129 -3.7550288245641426; -3.599115553210495 0.36805894923931337 … 0.6191293484196466 0.3772527471011244])"
      ]
     },
     "execution_count": 18,
     "metadata": {},
     "output_type": "execute_result"
    }
   ],
   "source": [
    "V,W = train_sgd()"
   ]
  },
  {
   "cell_type": "markdown",
   "metadata": {},
   "source": [
    "#### Problem 2 - Training using SGD"
   ]
  },
  {
   "cell_type": "code",
   "execution_count": 19,
   "metadata": {},
   "outputs": [
    {
     "data": {
      "text/plain": [
       "predict (generic function with 1 method)"
      ]
     },
     "execution_count": 19,
     "metadata": {},
     "output_type": "execute_result"
    }
   ],
   "source": [
    "function predict(testdata, V, W)\n",
    "    a = []\n",
    "    for i in 1:20\n",
    "        y = round.(Int,sigmoid_function(W*sigmoid_function(V*testdata[:,i])))\n",
    "        if y == [0,0]\n",
    "            push!(a, \"M\")\n",
    "        elseif y == [0,1]\n",
    "            push!(a, \"A\")\n",
    "        elseif y == [1,0]\n",
    "            push!(a, \"T\")\n",
    "        else\n",
    "            push!(a, \"H\")\n",
    "        end\n",
    "    end\n",
    "    reshape(a,5,4)\n",
    "end"
   ]
  },
  {
   "cell_type": "code",
   "execution_count": 20,
   "metadata": {},
   "outputs": [
    {
     "data": {
      "image/png": "[encoded data removed]",
      "text/plain": [
       "Figure(PyObject <Figure size 640x480 with 20 Axes>)"
      ]
     },
     "metadata": {},
     "output_type": "display_data"
    },
    {
     "data": {
      "text/plain": [
       "5×4 Matrix{Any}:\n",
       " \"M\"  \"A\"  \"T\"  \"H\"\n",
       " \"A\"  \"T\"  \"H\"  \"M\"\n",
       " \"T\"  \"H\"  \"M\"  \"T\"\n",
       " \"H\"  \"M\"  \"A\"  \"T\"\n",
       " \"M\"  \"A\"  \"T\"  \"H\""
      ]
     },
     "execution_count": 20,
     "metadata": {},
     "output_type": "execute_result"
    }
   ],
   "source": [
    "plot_chars(testdata)\n",
    "predict(testdata, V, W)"
   ]
  },
  {
   "cell_type": "markdown",
   "metadata": {},
   "source": [
    "#### Problem 4"
   ]
  },
  {
   "cell_type": "code",
   "execution_count": 22,
   "metadata": {},
   "outputs": [
    {
     "data": {
      "text/plain": [
       "Et (generic function with 1 method)"
      ]
     },
     "execution_count": 22,
     "metadata": {},
     "output_type": "execute_result"
    }
   ],
   "source": [
    "function Et(A)\n",
    "    V = reshape(A[1:420],10,42)\n",
    "    W = reshape(A[421:440],2,10)\n",
    "    x = 0\n",
    "    for j in 1:4\n",
    "            #println(4*(i-1)+j)\n",
    "        x += 1 ./2 .*norm(sigmoid_function(W*sigmoid_function(V*training[:,j])) -target[:,j]).^2\n",
    "    end\n",
    "    return x\n",
    "end\n",
    "#optimize(f,training,GradientDescent(); autodiff=:forward)"
   ]
  },
  {
   "cell_type": "code",
   "execution_count": 29,
   "metadata": {},
   "outputs": [
    {
     "data": {
      "text/plain": [
       "train_optim (generic function with 1 method)"
      ]
     },
     "execution_count": 29,
     "metadata": {},
     "output_type": "execute_result"
    }
   ],
   "source": [
    "function train_optim()\n",
    "    V = randn(10,42)\n",
    "    W = randn(2,10)\n",
    "    A = [V[:] \n",
    "        W[:]]\n",
    "    res = optimize(Et, A, GradientDescent(); autodiff=:forward)\n",
    "    A = Optim.minimizer(res)\n",
    "    V = reshape(A[1:420],10,42)\n",
    "    W = reshape(A[421:440],2,10)\n",
    "    return V,W\n",
    "end"
   ]
  },
  {
   "cell_type": "code",
   "execution_count": 30,
   "metadata": {},
   "outputs": [
    {
     "data": {
      "image/png": "[encoded data removed]",
      "text/plain": [
       "Figure(PyObject <Figure size 640x480 with 20 Axes>)"
      ]
     },
     "metadata": {},
     "output_type": "display_data"
    },
    {
     "data": {
      "text/plain": [
       "5×4 Matrix{Any}:\n",
       " \"M\"  \"A\"  \"T\"  \"H\"\n",
       " \"A\"  \"T\"  \"H\"  \"T\"\n",
       " \"T\"  \"H\"  \"M\"  \"H\"\n",
       " \"H\"  \"M\"  \"H\"  \"T\"\n",
       " \"M\"  \"A\"  \"T\"  \"H\""
      ]
     },
     "execution_count": 30,
     "metadata": {},
     "output_type": "execute_result"
    }
   ],
   "source": [
    "plot_chars(testdata)\n",
    "V,W = train_optim()\n",
    "predict(testdata, V, W)"
   ]
  }
 ],
 "metadata": {
  "kernelspec": {
   "display_name": "Julia 1.10.0",
   "language": "julia",
   "name": "julia-1.10"
  },
  "language_info": {
   "file_extension": ".jl",
   "mimetype": "application/julia",
   "name": "julia",
   "version": "1.10.0"
  }
 },
 "nbformat": 4,
 "nbformat_minor": 2
}
