{
 "cells": [
  {
   "cell_type": "markdown",
   "metadata": {},
   "source": [
    "####"
   ]
  },
  {
   "cell_type": "markdown",
   "metadata": {},
   "source": [
    "#### Project 5 - Neural Networks for Character Recognition"
   ]
  },
  {
   "cell_type": "code",
   "execution_count": 2,
   "metadata": {},
   "outputs": [],
   "source": [
    "using PyPlot, Random, LinearAlgebra, Optim   # Packages needed"
   ]
  },
  {
   "cell_type": "code",
   "execution_count": 12,
   "metadata": {},
   "outputs": [],
   "source": [
    "\n",
    "charstr = \"\"\"\n",
    "          OOOOOO  OOOOOO  OOOOOO  OO..OO\n",
    "          OOOOOO  OOOOOO  OOOOOO  OO..OO\n",
    "          O.OO.O  OO..OO  ..OO..  OO..OO\n",
    "          O.OO.O  OO..OO  ..OO..  OOOOOO\n",
    "          O....O  OOOOOO  ..OO..  OO..OO\n",
    "          O....O  OO..OO  ..OO..  OO..OO\n",
    "          O... O  OO..OO  ..OO..  OO..OO\n",
    "          \"\"\"\n",
    "\n",
    "training = reshape(collect(charstr), :, 7)\n",
    "training = Int.(training[[1:6;9:14;17:22;25:30],:] .== 'O')\n",
    "training = reshape(training', 7*6, 4)\n",
    "target = [0 0; 0 1; 1 0; 1 1]'\n",
    "mapstr = \"MATH\";"
   ]
  },
  {
   "cell_type": "code",
   "execution_count": 14,
   "metadata": {},
   "outputs": [],
   "source": [
    "function plot_chars(images)\n",
    "    gray()\n",
    "    n_images = size(images,2)\n",
    "    for j = 1:n_images\n",
    "        subplot(ceil(Int, n_images/4), 4, j)\n",
    "        im = 1 .- reshape(images[:,j], 7, 6)\n",
    "        imshow(im); axis(\"off\");\n",
    "    end\n",
    "end\n",
    "plot_chars(training)"
   ]
  }
 ],
 "metadata": {
  "kernelspec": {
   "display_name": "Julia 1.10.0",
   "language": "julia",
   "name": "julia-1.10"
  },
  "language_info": {
   "file_extension": ".jl",
   "mimetype": "application/julia",
   "name": "julia",
   "version": "1.10.0"
  }
 },
 "nbformat": 4,
 "nbformat_minor": 2
}
