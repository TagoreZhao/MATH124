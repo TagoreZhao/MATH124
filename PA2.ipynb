{
 "cells": [
  {
   "cell_type": "markdown",
   "metadata": {},
   "source": [
    "### Project 2 - Random Maze"
   ]
  },
  {
   "cell_type": "code",
   "execution_count": 47,
   "metadata": {},
   "outputs": [
    {
     "data": {
      "text/plain": [
       "5×6 Matrix{Bool}:\n",
       " 1  0  1  1  1  0\n",
       " 0  1  0  0  1  1\n",
       " 0  0  0  0  1  0\n",
       " 0  1  0  1  0  0\n",
       " 0  0  1  0  1  0"
      ]
     },
     "metadata": {},
     "output_type": "display_data"
    },
    {
     "data": {
      "image/png": "[encoded data removed]",
      "text/plain": [
       "Figure(PyObject <Figure size 640x480 with 1 Axes>)"
      ]
     },
     "metadata": {},
     "output_type": "display_data"
    }
   ],
   "source": [
    "H = Bool[0 1 0 0 0; 1 0 1 0 0; 0 1 1 0 0; 1 1 1 0 1; 0 1 0 1 1; 1 0 0 0 0];\n",
    "V = Bool[1 0 1 1 1 0; 0 1 0 0 1 1; 0 0 0 0 1 0; 0 1 0 1 0 0; 0 0 1 0 1 0];\n",
    "using PyPlot, Random\n",
    "Random.seed!(123)\n",
    "function plot_maze(H,V)\n",
    "    clf()\n",
    "    axis(\"off\")\n",
    "    axis(\"equal\")\n",
    "    n = size(H,1)\n",
    "    plot([0,n,n,0,0], [0,0,n,n,0], color=\"k\")\n",
    "    \n",
    "    for x = 1:n-1, y = 1:n\n",
    "        if V[x,y]\n",
    "            plot([x,x], [y-1,y], color=\"k\")\n",
    "        end\n",
    "    end\n",
    "    for x = 1:n, y = 1:n-1\n",
    "        if H[x,y]\n",
    "            plot([x-1,x], [y,y], color=\"k\")\n",
    "        end\n",
    "    end\n",
    "end\n",
    "\n",
    "function plot_cell_indices(n)\n",
    "    for i = 1:n\n",
    "        for j = 1:n\n",
    "            text(i-0.5, j-0.5, \"($i,$j)\",\n",
    "                horizontalalignment=\"center\",\n",
    "                verticalalignment=\"center\",\n",
    "                fontsize=8)\n",
    "        end\n",
    "    end\n",
    "end\n",
    "plot_maze(H,V)\n",
    "plot_cell_indices(size(H,1))\n",
    "display(V)\n",
    "\n",
    "#=\n",
    "x = [6, 5, 5, 6, 6, 6, 6, 6, 5, 4, 3, 3, 3, 2, 2, 2, 1];\n",
    "y = [1, 1, 2, 2, 3, 4, 5, 6, 6, 6, 6, 5, 4, 4, 5, 6, 6];\n",
    "plot_maze(H,V);\n",
    "plot(x .- 0.5, y .- 0.5, color=\"r\", linewidth=4);\n",
    "=#"
   ]
  },
  {
   "cell_type": "markdown",
   "metadata": {},
   "source": [
    "#### Problem 1 - Generate random maze"
   ]
  },
  {
   "cell_type": "code",
   "execution_count": 202,
   "metadata": {},
   "outputs": [
    {
     "data": {
      "text/plain": [
       "(Bool[0 1 … 0 1; 1 0 … 1 1; … ; 1 0 … 1 0; 0 0 … 0 1], Bool[1 0 … 0 0; 0 1 … 0 0; … ; 0 1 … 1 0; 0 1 … 0 0], Bool[1 1 … 1 1; 1 1 … 1 1; … ; 1 1 … 1 1; 1 1 … 1 1])"
      ]
     },
     "execution_count": 202,
     "metadata": {},
     "output_type": "execute_result"
    }
   ],
   "source": [
    "#Random.seed!(123)\n",
    "function make_maze(n)\n",
    "    H = trues(n,n-1)\n",
    "    V = trues(n-1,n)\n",
    "    visit = falses(n,n)\n",
    "\n",
    "    function dig(x,y)\n",
    "        visit[x,y] = true\n",
    "        directions = [[1, 0], [-1, 0], [0, 1], [0, -1]]\n",
    "        shuffle!(directions)\n",
    "        for d in directions\n",
    "            x1 = x + d[1]\n",
    "            y1 = y + d[2]\n",
    "            if (1 <= x1 <= n)&&(1 <= y1 <= n)&&(!visit[x1,y1])\n",
    "                if d[1] == 1 #down\n",
    "                    #println(\"now at (\",x,\",\",y,\")\",\", go down to (\",x1,\",\",y1,\")\")\n",
    "                    V[x,y] = false\n",
    "                    dig(x1,y1)\n",
    "                elseif d[1] == -1 #up\n",
    "                    #println(\"now at (\",x,\",\",y,\")\",\", go up to (\",x1,\",\",y1,\")\")\n",
    "                    V[x1,y1] = false\n",
    "                    dig(x1,y1)\n",
    "                elseif d[2] == 1 #right\n",
    "                    #println(\"now at (\",x,\",\",y,\")\",\", go right to (\",x1,\",\",y1,\")\")\n",
    "                    H[x,y] = false\n",
    "                    dig(x1,y1)\n",
    "                elseif d[2] == -1#left\n",
    "                    #println(\"now at (\",x,\",\",y,\")\",\", go left to (\",x1,\",\",y1,\")\")\n",
    "                    H[x1,y1] = false\n",
    "                    dig(x1,y1)\n",
    "                end\n",
    "            end\n",
    "        end\n",
    "\n",
    "    end\n",
    "    dig(1,1)\n",
    "    return H,V,visit\n",
    "end\n",
    "H,V,m = make_maze(100)\n"
   ]
  },
  {
   "cell_type": "markdown",
   "metadata": {},
   "source": [
    "#### Problem 2- Find path from (1,n) to (n,1)"
   ]
  },
  {
   "cell_type": "code",
   "execution_count": 203,
   "metadata": {},
   "outputs": [
    {
     "data": {
      "image/png": "[encoded data removed]",
      "text/plain": [
       "Figure(PyObject <Figure size 640x480 with 1 Axes>)"
      ]
     },
     "metadata": {},
     "output_type": "display_data"
    }
   ],
   "source": [
    "Random.seed!(123)\n",
    "function find_path(H,V)\n",
    "    n = size(H,1)\n",
    "    visit = falses(n,n)\n",
    "    pathx = []\n",
    "    pathy = []\n",
    "    directions = [[1, 0], [-1, 0], [0, 1], [0, -1]] #down, up, right, left\n",
    "    function recur(x,y)\n",
    "        visit[x,y] = true\n",
    "        if (x == n)&&(y == 1)\n",
    "            visit[x,y] = true\n",
    "            append!(pathx,x)\n",
    "            append!(pathy,y)\n",
    "            return true\n",
    "        end\n",
    "        for d in directions\n",
    "            x1 = x + d[1]\n",
    "            y1 = y + d[2]\n",
    "            #println(\"try go to (\",x1,\",\",y1,\")\",\"the direction is \", d)\n",
    "            if (1 <= x1 <= n)&&(1 <= y1 <= n)&&(!visit[x1,y1])\n",
    "                if (d[1] == 1)&&(V[x,y]) #down\n",
    "                    #println(\"cannot go down\")\n",
    "                    continue\n",
    "                elseif (d[1] == -1)&&(V[x1,y1]) #up\n",
    "                    #println(\"cannot go up\")\n",
    "                    continue\n",
    "                elseif (d[2] == 1)&&(H[x,y]) #right\n",
    "                    #println(\"cannot go right\")\n",
    "                    continue\n",
    "                elseif (d[2] == -1)&&(H[x1,y1]) #left\n",
    "                    #println(\"cannot go left\")\n",
    "                    continue\n",
    "                end\n",
    "                if recur(x1,y1)\n",
    "                    #println(\"go to (\",x,\",\",y,\")\")\n",
    "                    append!(pathx,x)\n",
    "                    append!(pathy,y)\n",
    "                    return true\n",
    "                end\n",
    "            end\n",
    "        end\n",
    "        return false\n",
    "    end\n",
    "    recur(1,n)\n",
    "    return pathx,pathy\n",
    "end\n",
    "\n",
    "H = Bool[0 1 0 0 0; 1 0 1 0 0; 0 1 1 0 0; 1 1 1 0 1; 0 1 0 1 1; 1 0 0 0 0];\n",
    "V = Bool[1 0 1 1 1 0; 0 1 0 0 1 1; 0 0 0 0 1 0; 0 1 0 1 0 0; 0 0 1 0 1 0];\n",
    "x,y = find_path(H,V)\n",
    "plot_maze(H,V);\n",
    "plot(x .- 0.5, y .- 0.5, color=\"r\", linewidth=4);"
   ]
  },
  {
   "cell_type": "code",
   "execution_count": 204,
   "metadata": {},
   "outputs": [
    {
     "data": {
      "image/png": "[encoded data removed]",
      "text/plain": [
       "Figure(PyObject <Figure size 640x480 with 1 Axes>)"
      ]
     },
     "metadata": {},
     "output_type": "display_data"
    }
   ],
   "source": [
    "Random.seed!(12345)\n",
    "n = 25\n",
    "H,V = make_maze(n)\n",
    "plot_maze(H,V)\n",
    "x, y = find_path(H,V)\n",
    "plot(x .- 0.5, y .- 0.5, color=\"r\", linewidth=4);"
   ]
  }
 ],
 "metadata": {
  "kernelspec": {
   "display_name": "Julia 1.10.0",
   "language": "julia",
   "name": "julia-1.10"
  },
  "language_info": {
   "file_extension": ".jl",
   "mimetype": "application/julia",
   "name": "julia",
   "version": "1.10.0"
  }
 },
 "nbformat": 4,
 "nbformat_minor": 2
}
